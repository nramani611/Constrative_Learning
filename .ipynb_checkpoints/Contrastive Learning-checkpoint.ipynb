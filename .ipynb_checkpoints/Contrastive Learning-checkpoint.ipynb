{
 "cells": [
  {
   "cell_type": "code",
   "execution_count": 1,
   "id": "580b0154",
   "metadata": {},
   "outputs": [],
   "source": [
    "import pandas as pd\n",
    "import requests\n",
    "from tqdm import tqdm\n",
    "import random\n",
    "import matplotlib.pyplot as plt"
   ]
  },
  {
   "cell_type": "code",
   "execution_count": 2,
   "id": "e0f049ff",
   "metadata": {},
   "outputs": [],
   "source": [
    "import torch\n",
    "import torch.nn.functional as F\n",
    "from torch.utils.data import DataLoader\n",
    "from torch.utils.data import random_split\n",
    "import torch.nn as nn\n",
    "from torch_geometric.data.batch import Batch\n",
    "from torch_geometric.data import Data\n",
    "from torch.utils.data import Dataset"
   ]
  },
  {
   "cell_type": "code",
   "execution_count": 3,
   "id": "a8c31da6",
   "metadata": {},
   "outputs": [
    {
     "data": {
      "text/plain": [
       "26364"
      ]
     },
     "execution_count": 3,
     "metadata": {},
     "output_type": "execute_result"
    }
   ],
   "source": [
    "scRNA_data = pd.read_csv('GSE200981_scRNAseq_processed.tsv', sep='\\t')\n",
    "scRNA_data.index = scRNA_data['Gene.names']\n",
    "scRNA_data = scRNA_data.drop('Gene.names', axis=1)\n",
    "len(scRNA_data)"
   ]
  },
  {
   "cell_type": "code",
   "execution_count": 4,
   "id": "4c03ab8a",
   "metadata": {},
   "outputs": [],
   "source": [
    "#Mapping string to protein names\n",
    "string_api_url = \"https://string-db.org/api\"\n",
    "output_format = \"tsv-no-header\"\n",
    "method = \"get_string_ids\"\n",
    "\n",
    "params = {\n",
    "\n",
    "    \"identifiers\" : \"\\r\".join(list(scRNA_data.index)), # your protein list\n",
    "    \"limit\": 1,\n",
    "    \"echo_query\": 1,\n",
    "    \"species\" : 9606, # species NCBI identifier \n",
    "    \"caller_identity\" : \"www.awesome_app.org\" # your app name\n",
    "\n",
    "}\n",
    "\n",
    "request_url = \"/\".join([string_api_url, output_format, method])\n",
    "\n",
    "results = requests.post(request_url, data=params)\n",
    "\n",
    "\n",
    "protein_2_string = dict()\n",
    "string_2_protein = dict()\n",
    "\n",
    "for line in results.text.strip().split(\"\\n\"):\n",
    "    l = line.split(\"\\t\")\n",
    "    protein_identifier, string_identifier = l[0], l[2]\n",
    "    protein_2_string[protein_identifier] = string_identifier\n",
    "    string_2_protein[string_identifier] = protein_identifier"
   ]
  },
  {
   "cell_type": "code",
   "execution_count": 5,
   "id": "7d6a6999",
   "metadata": {},
   "outputs": [
    {
     "data": {
      "text/html": [
       "<div>\n",
       "<style scoped>\n",
       "    .dataframe tbody tr th:only-of-type {\n",
       "        vertical-align: middle;\n",
       "    }\n",
       "\n",
       "    .dataframe tbody tr th {\n",
       "        vertical-align: top;\n",
       "    }\n",
       "\n",
       "    .dataframe thead th {\n",
       "        text-align: right;\n",
       "    }\n",
       "</style>\n",
       "<table border=\"1\" class=\"dataframe\">\n",
       "  <thead>\n",
       "    <tr style=\"text-align: right;\">\n",
       "      <th></th>\n",
       "      <th>V1_T0</th>\n",
       "      <th>V2_T0</th>\n",
       "      <th>V3_T0</th>\n",
       "      <th>V4_T0</th>\n",
       "      <th>V5_T0</th>\n",
       "      <th>V6_T0</th>\n",
       "      <th>V7_T0</th>\n",
       "      <th>V8_T0</th>\n",
       "      <th>V9_T0</th>\n",
       "      <th>V10_T0</th>\n",
       "      <th>...</th>\n",
       "      <th>V247_T7</th>\n",
       "      <th>V248_T7</th>\n",
       "      <th>V249_T7</th>\n",
       "      <th>V250_T7</th>\n",
       "      <th>V251_T7</th>\n",
       "      <th>V252_T7</th>\n",
       "      <th>V253_T7</th>\n",
       "      <th>V254_T7</th>\n",
       "      <th>V255_T7</th>\n",
       "      <th>V256_T7</th>\n",
       "    </tr>\n",
       "    <tr>\n",
       "      <th>Gene.names</th>\n",
       "      <th></th>\n",
       "      <th></th>\n",
       "      <th></th>\n",
       "      <th></th>\n",
       "      <th></th>\n",
       "      <th></th>\n",
       "      <th></th>\n",
       "      <th></th>\n",
       "      <th></th>\n",
       "      <th></th>\n",
       "      <th></th>\n",
       "      <th></th>\n",
       "      <th></th>\n",
       "      <th></th>\n",
       "      <th></th>\n",
       "      <th></th>\n",
       "      <th></th>\n",
       "      <th></th>\n",
       "      <th></th>\n",
       "      <th></th>\n",
       "      <th></th>\n",
       "    </tr>\n",
       "  </thead>\n",
       "  <tbody>\n",
       "    <tr>\n",
       "      <th>OR4F5</th>\n",
       "      <td>0</td>\n",
       "      <td>0</td>\n",
       "      <td>0</td>\n",
       "      <td>0</td>\n",
       "      <td>0</td>\n",
       "      <td>0</td>\n",
       "      <td>0</td>\n",
       "      <td>0</td>\n",
       "      <td>0</td>\n",
       "      <td>0</td>\n",
       "      <td>...</td>\n",
       "      <td>0</td>\n",
       "      <td>0</td>\n",
       "      <td>0</td>\n",
       "      <td>0</td>\n",
       "      <td>0</td>\n",
       "      <td>0</td>\n",
       "      <td>0</td>\n",
       "      <td>0</td>\n",
       "      <td>0</td>\n",
       "      <td>0</td>\n",
       "    </tr>\n",
       "    <tr>\n",
       "      <th>OR4F3</th>\n",
       "      <td>0</td>\n",
       "      <td>0</td>\n",
       "      <td>0</td>\n",
       "      <td>0</td>\n",
       "      <td>0</td>\n",
       "      <td>0</td>\n",
       "      <td>0</td>\n",
       "      <td>0</td>\n",
       "      <td>0</td>\n",
       "      <td>0</td>\n",
       "      <td>...</td>\n",
       "      <td>0</td>\n",
       "      <td>0</td>\n",
       "      <td>0</td>\n",
       "      <td>0</td>\n",
       "      <td>0</td>\n",
       "      <td>0</td>\n",
       "      <td>0</td>\n",
       "      <td>0</td>\n",
       "      <td>0</td>\n",
       "      <td>0</td>\n",
       "    </tr>\n",
       "    <tr>\n",
       "      <th>OR4F29</th>\n",
       "      <td>0</td>\n",
       "      <td>0</td>\n",
       "      <td>0</td>\n",
       "      <td>0</td>\n",
       "      <td>0</td>\n",
       "      <td>0</td>\n",
       "      <td>0</td>\n",
       "      <td>0</td>\n",
       "      <td>0</td>\n",
       "      <td>0</td>\n",
       "      <td>...</td>\n",
       "      <td>0</td>\n",
       "      <td>0</td>\n",
       "      <td>0</td>\n",
       "      <td>0</td>\n",
       "      <td>0</td>\n",
       "      <td>0</td>\n",
       "      <td>0</td>\n",
       "      <td>0</td>\n",
       "      <td>0</td>\n",
       "      <td>0</td>\n",
       "    </tr>\n",
       "    <tr>\n",
       "      <th>OR4F16</th>\n",
       "      <td>0</td>\n",
       "      <td>0</td>\n",
       "      <td>0</td>\n",
       "      <td>0</td>\n",
       "      <td>0</td>\n",
       "      <td>0</td>\n",
       "      <td>0</td>\n",
       "      <td>0</td>\n",
       "      <td>0</td>\n",
       "      <td>0</td>\n",
       "      <td>...</td>\n",
       "      <td>0</td>\n",
       "      <td>0</td>\n",
       "      <td>0</td>\n",
       "      <td>0</td>\n",
       "      <td>0</td>\n",
       "      <td>0</td>\n",
       "      <td>0</td>\n",
       "      <td>0</td>\n",
       "      <td>0</td>\n",
       "      <td>0</td>\n",
       "    </tr>\n",
       "    <tr>\n",
       "      <th>SAMD11</th>\n",
       "      <td>0</td>\n",
       "      <td>0</td>\n",
       "      <td>0</td>\n",
       "      <td>0</td>\n",
       "      <td>0</td>\n",
       "      <td>0</td>\n",
       "      <td>0</td>\n",
       "      <td>0</td>\n",
       "      <td>0</td>\n",
       "      <td>0</td>\n",
       "      <td>...</td>\n",
       "      <td>0</td>\n",
       "      <td>0</td>\n",
       "      <td>0</td>\n",
       "      <td>0</td>\n",
       "      <td>0</td>\n",
       "      <td>0</td>\n",
       "      <td>0</td>\n",
       "      <td>0</td>\n",
       "      <td>0</td>\n",
       "      <td>0</td>\n",
       "    </tr>\n",
       "    <tr>\n",
       "      <th>...</th>\n",
       "      <td>...</td>\n",
       "      <td>...</td>\n",
       "      <td>...</td>\n",
       "      <td>...</td>\n",
       "      <td>...</td>\n",
       "      <td>...</td>\n",
       "      <td>...</td>\n",
       "      <td>...</td>\n",
       "      <td>...</td>\n",
       "      <td>...</td>\n",
       "      <td>...</td>\n",
       "      <td>...</td>\n",
       "      <td>...</td>\n",
       "      <td>...</td>\n",
       "      <td>...</td>\n",
       "      <td>...</td>\n",
       "      <td>...</td>\n",
       "      <td>...</td>\n",
       "      <td>...</td>\n",
       "      <td>...</td>\n",
       "      <td>...</td>\n",
       "    </tr>\n",
       "    <tr>\n",
       "      <th>DAZ1</th>\n",
       "      <td>0</td>\n",
       "      <td>0</td>\n",
       "      <td>0</td>\n",
       "      <td>0</td>\n",
       "      <td>0</td>\n",
       "      <td>0</td>\n",
       "      <td>0</td>\n",
       "      <td>0</td>\n",
       "      <td>0</td>\n",
       "      <td>0</td>\n",
       "      <td>...</td>\n",
       "      <td>0</td>\n",
       "      <td>0</td>\n",
       "      <td>0</td>\n",
       "      <td>0</td>\n",
       "      <td>0</td>\n",
       "      <td>0</td>\n",
       "      <td>0</td>\n",
       "      <td>0</td>\n",
       "      <td>0</td>\n",
       "      <td>0</td>\n",
       "    </tr>\n",
       "    <tr>\n",
       "      <th>DAZ3</th>\n",
       "      <td>0</td>\n",
       "      <td>0</td>\n",
       "      <td>0</td>\n",
       "      <td>0</td>\n",
       "      <td>0</td>\n",
       "      <td>0</td>\n",
       "      <td>0</td>\n",
       "      <td>0</td>\n",
       "      <td>0</td>\n",
       "      <td>0</td>\n",
       "      <td>...</td>\n",
       "      <td>0</td>\n",
       "      <td>0</td>\n",
       "      <td>0</td>\n",
       "      <td>0</td>\n",
       "      <td>0</td>\n",
       "      <td>0</td>\n",
       "      <td>0</td>\n",
       "      <td>0</td>\n",
       "      <td>0</td>\n",
       "      <td>0</td>\n",
       "    </tr>\n",
       "    <tr>\n",
       "      <th>DAZ2</th>\n",
       "      <td>0</td>\n",
       "      <td>0</td>\n",
       "      <td>0</td>\n",
       "      <td>0</td>\n",
       "      <td>0</td>\n",
       "      <td>0</td>\n",
       "      <td>0</td>\n",
       "      <td>0</td>\n",
       "      <td>0</td>\n",
       "      <td>0</td>\n",
       "      <td>...</td>\n",
       "      <td>0</td>\n",
       "      <td>0</td>\n",
       "      <td>0</td>\n",
       "      <td>0</td>\n",
       "      <td>0</td>\n",
       "      <td>0</td>\n",
       "      <td>0</td>\n",
       "      <td>0</td>\n",
       "      <td>0</td>\n",
       "      <td>0</td>\n",
       "    </tr>\n",
       "    <tr>\n",
       "      <th>CDY1B</th>\n",
       "      <td>0</td>\n",
       "      <td>0</td>\n",
       "      <td>0</td>\n",
       "      <td>0</td>\n",
       "      <td>0</td>\n",
       "      <td>0</td>\n",
       "      <td>0</td>\n",
       "      <td>0</td>\n",
       "      <td>0</td>\n",
       "      <td>0</td>\n",
       "      <td>...</td>\n",
       "      <td>0</td>\n",
       "      <td>0</td>\n",
       "      <td>0</td>\n",
       "      <td>0</td>\n",
       "      <td>0</td>\n",
       "      <td>0</td>\n",
       "      <td>0</td>\n",
       "      <td>0</td>\n",
       "      <td>0</td>\n",
       "      <td>0</td>\n",
       "    </tr>\n",
       "    <tr>\n",
       "      <th>CDY1</th>\n",
       "      <td>0</td>\n",
       "      <td>0</td>\n",
       "      <td>0</td>\n",
       "      <td>0</td>\n",
       "      <td>0</td>\n",
       "      <td>0</td>\n",
       "      <td>0</td>\n",
       "      <td>0</td>\n",
       "      <td>0</td>\n",
       "      <td>0</td>\n",
       "      <td>...</td>\n",
       "      <td>0</td>\n",
       "      <td>0</td>\n",
       "      <td>0</td>\n",
       "      <td>0</td>\n",
       "      <td>0</td>\n",
       "      <td>0</td>\n",
       "      <td>0</td>\n",
       "      <td>0</td>\n",
       "      <td>0</td>\n",
       "      <td>0</td>\n",
       "    </tr>\n",
       "  </tbody>\n",
       "</table>\n",
       "<p>18840 rows × 2125 columns</p>\n",
       "</div>"
      ],
      "text/plain": [
       "            V1_T0  V2_T0  V3_T0  V4_T0  V5_T0  V6_T0  V7_T0  V8_T0  V9_T0  \\\n",
       "Gene.names                                                                  \n",
       "OR4F5           0      0      0      0      0      0      0      0      0   \n",
       "OR4F3           0      0      0      0      0      0      0      0      0   \n",
       "OR4F29          0      0      0      0      0      0      0      0      0   \n",
       "OR4F16          0      0      0      0      0      0      0      0      0   \n",
       "SAMD11          0      0      0      0      0      0      0      0      0   \n",
       "...           ...    ...    ...    ...    ...    ...    ...    ...    ...   \n",
       "DAZ1            0      0      0      0      0      0      0      0      0   \n",
       "DAZ3            0      0      0      0      0      0      0      0      0   \n",
       "DAZ2            0      0      0      0      0      0      0      0      0   \n",
       "CDY1B           0      0      0      0      0      0      0      0      0   \n",
       "CDY1            0      0      0      0      0      0      0      0      0   \n",
       "\n",
       "            V10_T0  ...  V247_T7  V248_T7  V249_T7  V250_T7  V251_T7  V252_T7  \\\n",
       "Gene.names          ...                                                         \n",
       "OR4F5            0  ...        0        0        0        0        0        0   \n",
       "OR4F3            0  ...        0        0        0        0        0        0   \n",
       "OR4F29           0  ...        0        0        0        0        0        0   \n",
       "OR4F16           0  ...        0        0        0        0        0        0   \n",
       "SAMD11           0  ...        0        0        0        0        0        0   \n",
       "...            ...  ...      ...      ...      ...      ...      ...      ...   \n",
       "DAZ1             0  ...        0        0        0        0        0        0   \n",
       "DAZ3             0  ...        0        0        0        0        0        0   \n",
       "DAZ2             0  ...        0        0        0        0        0        0   \n",
       "CDY1B            0  ...        0        0        0        0        0        0   \n",
       "CDY1             0  ...        0        0        0        0        0        0   \n",
       "\n",
       "            V253_T7  V254_T7  V255_T7  V256_T7  \n",
       "Gene.names                                      \n",
       "OR4F5             0        0        0        0  \n",
       "OR4F3             0        0        0        0  \n",
       "OR4F29            0        0        0        0  \n",
       "OR4F16            0        0        0        0  \n",
       "SAMD11            0        0        0        0  \n",
       "...             ...      ...      ...      ...  \n",
       "DAZ1              0        0        0        0  \n",
       "DAZ3              0        0        0        0  \n",
       "DAZ2              0        0        0        0  \n",
       "CDY1B             0        0        0        0  \n",
       "CDY1              0        0        0        0  \n",
       "\n",
       "[18840 rows x 2125 columns]"
      ]
     },
     "execution_count": 5,
     "metadata": {},
     "output_type": "execute_result"
    }
   ],
   "source": [
    "scRNA_data = scRNA_data.loc[list(protein_2_string.keys())]\n",
    "scRNA_data"
   ]
  },
  {
   "cell_type": "code",
   "execution_count": 6,
   "id": "19d09c26",
   "metadata": {},
   "outputs": [],
   "source": [
    "import gc\n",
    "torch.cuda.empty_cache()\n",
    "gc.collect()\n",
    "device = torch.device('cuda' if torch.cuda.is_available() else 'cpu')\n",
    "#device = 'cpu'"
   ]
  },
  {
   "cell_type": "code",
   "execution_count": 7,
   "id": "188e2405",
   "metadata": {},
   "outputs": [
    {
     "data": {
      "text/plain": [
       "device(type='cuda')"
      ]
     },
     "execution_count": 7,
     "metadata": {},
     "output_type": "execute_result"
    }
   ],
   "source": [
    "device"
   ]
  },
  {
   "cell_type": "code",
   "execution_count": 8,
   "id": "c2ba9ade",
   "metadata": {},
   "outputs": [],
   "source": [
    "def get_all_protein_pairs(protein_list):\n",
    "    protein_pairs = []\n",
    "    for i in range(len(protein_list)):\n",
    "        protein1 = protein_list[i]\n",
    "        for j in range(i+1, len(protein_list)):\n",
    "            protein2 = protein_list[j]\n",
    "        \n",
    "            protein_pairs.append((protein1, protein2))\n",
    "            \n",
    "    return protein_pairs\n",
    "\n",
    "class Contrastive_Dataset(Dataset):\n",
    "    def __init__(self, scRNA_data, string_2_protein, batch_size):\n",
    "        self.counter = 0\n",
    "        self.e_counter = 0\n",
    "        self.m_counter = 0\n",
    "        self.batch_size = batch_size\n",
    "        filename = '9606.protein.links.v12.0.txt'\n",
    "\n",
    "        file = open(filename, 'r')\n",
    "        lines = file.readlines()\n",
    "        lines.pop(0)\n",
    "\n",
    "        string_2_index = dict()\n",
    "        counter = 0\n",
    "        for string_id in string_2_protein:\n",
    "            string_2_index[string_id] = counter\n",
    "            counter += 1\n",
    "\n",
    "        list_network = list()\n",
    "        \n",
    "        \"\"\"self.train_node_features = list()\n",
    "        self.train_list_outputs = list()\n",
    "        \n",
    "        self.test_node_features = list()\n",
    "        self.test_list_outputs = list()\n",
    "        \n",
    "        self.val_node_features = list()\n",
    "        self.val_list_outputs = list()\"\"\"\n",
    "        \n",
    "        self.e_nodes = list()\n",
    "        self.m_nodes = list()\n",
    "\n",
    "        print('Getting network tensor...')\n",
    "        for line in tqdm(lines):\n",
    "            line = line.strip().split(' ')\n",
    "\n",
    "            if int(line[2]) >= 999:\n",
    "\n",
    "                try:\n",
    "                    id1 = string_2_index[line[0]]\n",
    "                    id2 = string_2_index[line[1]]\n",
    "                    list_network.append([id1, id2])\n",
    "                    list_network.append([id2, id1])\n",
    "\n",
    "                except KeyError:\n",
    "                    continue\n",
    "\n",
    "        print('Getting node features tensor...')\n",
    "        T0_column_vals = [column for column in scRNA_data.columns if 'T0' in column]\n",
    "        T8_column_vals = [column for column in scRNA_data.columns if 'T7' in column]\n",
    "        \n",
    "        proteins = set([string_2_protein[string_id] for string_id in string_2_index])\n",
    "        #train_proteins, test_proteins, validate_proteins = np.split(proteins, [int(len(proteins)*0.7), int(len(proteins*0.9))])\n",
    "        \n",
    "        #train_protein_pairs = get_all_protein_pairs(train_proteins)\n",
    "        #testing_protein_pairs = get_all_protein_pairs(test_proteins)\n",
    "        #validate_protein_pairs = get_all_protein_pairs(validate_proteins)\n",
    "        \n",
    "        #for \n",
    "        \n",
    "        for column in T0_column_vals:   \n",
    "            self.e_nodes.append(torch.tensor([scRNA_data.loc[protein, column] for protein in proteins], dtype=torch.float32).to(device))\n",
    "                                        \n",
    "        for column in T8_column_vals:\n",
    "            self.m_nodes.append(torch.tensor([scRNA_data.loc[protein, column] for protein in proteins], dtype=torch.float32).to(device))\n",
    "        \n",
    "        self.edge_index = torch.tensor(list_network).t().contiguous()\n",
    "        self.edge_index = self.edge_index.to(device)\n",
    "        \n",
    "        self.e_nodes = [i.view(len(i), 1) for i in self.e_nodes]\n",
    "        self.m_nodes = [i.view(len(i), 1) for i in self.m_nodes]\n",
    "        #self.len = len(self.e_nodes)\n",
    "        #print(len(self.e_nodes), len(self.m_nodes))\n",
    "    \n",
    "    def __getitem__(self, idx):\n",
    "        return self.e_nodes[idx], self.m_nodes[idx], self.edge_index\n",
    "        \"\"\"if self.counter == self.batch_size:\n",
    "            self.counter = 0\n",
    "        if self.counter < self.batch_size//2:\n",
    "            self.counter += 1\n",
    "            self.e_counter += 1\n",
    "            return self.e_nodes[self.e_counter - 1], self.edge_index\n",
    "        elif self.counter >= self.batch_size//2:\n",
    "            self.counter += 1\n",
    "            self.m_counter += 1\n",
    "            return self.m_nodes[self.m_counter-1], self.edge_index\"\"\"\n",
    "            \n",
    "    def get_e_nodes(self):\n",
    "        return self.e_nodes\n",
    "    \n",
    "    def get_m_nodes(self):\n",
    "        return self.m_nodes#[0:10]\n",
    "    \n",
    "    def get_edge_index(self):\n",
    "        return self.edge_index\n",
    "\n",
    "    def shuffle(self):\n",
    "        random.shuffle(self.e_nodes)\n",
    "        random.shuffle(self.m_nodes)\n",
    "\n",
    "    def __len__(self):\n",
    "        return min(len(self.e_nodes), len(self.m_nodes))"
   ]
  },
  {
   "cell_type": "code",
   "execution_count": 9,
   "id": "41e2140c-0f5d-40a8-9b20-a6046b77d622",
   "metadata": {},
   "outputs": [],
   "source": [
    "def graph_collate_fn(batch):\n",
    "    m_node_features = []\n",
    "    e_node_features = []\n",
    "    graph_list = []\n",
    "    counter = 0\n",
    "    batch_size = len(batch)\n",
    "    \n",
    "    for ex in batch:\n",
    "        e_node, m_node, graph = ex\n",
    "        num_nodes = e_node.shape[0]\n",
    "        m_node_features.append(m_node)\n",
    "        e_node_features.append(e_node)\n",
    "\n",
    "    for i in range(batch_size):\n",
    "        graph_list.append(graph + num_nodes*i)\n",
    "    graphs_2 = graph_list[0:2]\n",
    "\n",
    "    e_node_features = torch.stack(e_node_features, dim=0)\n",
    "    e_node_features = torch.reshape(e_node_features, (e_node_features.shape[0]*e_node_features.shape[1], e_node_features.shape[2]))\n",
    "    \n",
    "    graphs = torch.cat(graph_list, 1)\n",
    "    graphs_2 = torch.cat(graphs_2, 1)\n",
    "\n",
    "    m_node_features = torch.stack(m_node_features, dim=0)\n",
    "    m_node_features = torch.reshape(m_node_features, (m_node_features.shape[0]*m_node_features.shape[1], m_node_features.shape[2]))\n",
    "    \n",
    "    return e_node_features, m_node_features, graphs_2, graphs"
   ]
  },
  {
   "cell_type": "code",
   "execution_count": 10,
   "id": "7c526903",
   "metadata": {},
   "outputs": [
    {
     "name": "stdout",
     "output_type": "stream",
     "text": [
      "Getting network tensor...\n"
     ]
    },
    {
     "name": "stderr",
     "output_type": "stream",
     "text": [
      "100%|██████████| 13715404/13715404 [00:06<00:00, 1968817.11it/s]\n"
     ]
    },
    {
     "name": "stdout",
     "output_type": "stream",
     "text": [
      "Getting node features tensor...\n"
     ]
    }
   ],
   "source": [
    "batch_size = 20\n",
    "contrastive_dataset = Contrastive_Dataset(scRNA_data, string_2_protein, batch_size)"
   ]
  },
  {
   "cell_type": "code",
   "execution_count": 11,
   "id": "05044b87-6f3f-402e-a92b-884da9b54716",
   "metadata": {},
   "outputs": [],
   "source": [
    "#contrastive_dataloader = DataLoader(contrastive_dataset, batch_size=batch_size, shuffle=True, collate_fn=graph_collate_fn)"
   ]
  },
  {
   "cell_type": "code",
   "execution_count": 12,
   "id": "fed0a37a",
   "metadata": {},
   "outputs": [],
   "source": [
    "def cosine_similarity(x1, x2, temp):\n",
    "    return (torch.dot(x1.reshape(x1.shape[1]), x2.reshape(x2.shape[1]))/(torch.norm(x1)*torch.norm(x2)))/temp\n",
    "    \n",
    "class ContrastiveLoss(nn.Module):\n",
    "    def __init__(self):\n",
    "        super(ContrastiveLoss, self).__init__()\n",
    "        self.temp = 1\n",
    "    \n",
    "    def forward(self, zn, zd):\n",
    "        zi = zn[0, :, :]\n",
    "        zj = zn[1, :, :].detach()\n",
    "        num = torch.exp(cosine_similarity(zi, zj, self.temp))\n",
    "        #print('Numerator')\n",
    "        #print(num)\n",
    "\n",
    "        #with torch.no_grad():\n",
    "        denom = sum([torch.exp(cosine_similarity(zi, zd[i, :, :].detach(), self.temp)) for i in range(zd.shape[0])])\n",
    "        #print('Denominator')\n",
    "        #print(denom)\n",
    "        return torch.multiply(torch.log(torch.divide(num, denom)), -1)"
   ]
  },
  {
   "cell_type": "code",
   "execution_count": 13,
   "id": "2ee06d8f-d772-4702-a898-0fd87a54b730",
   "metadata": {},
   "outputs": [],
   "source": [
    "def train_model(epochs, dataset, gat, mlp, optimizer):\n",
    "    torch.cuda.empty_cache()\n",
    "    criterion = ContrastiveLoss()\n",
    "    plot_losses = []\n",
    "    for _ in tqdm(range(epochs)):\n",
    "        dataset.shuffle()\n",
    "        dataloader = DataLoader(dataset, batch_size=10, shuffle=False, collate_fn=graph_collate_fn)\n",
    "        torch.cuda.empty_cache()\n",
    "        \n",
    "        for batch in dataloader:\n",
    "            batch_losses = []\n",
    "            e_nodes, m_nodes, graphs_2, graphs = batch\n",
    "            batch_size = e_nodes.shape[0]//18840\n",
    "            e_nodes_unstacked = torch.reshape(e_nodes, (batch_size, 1, -1))\n",
    "\n",
    "            zd = gat(m_nodes, graphs)\n",
    "            zd = mlp(zd)\n",
    "\n",
    "            all_losses = []\n",
    "            for i in range(e_nodes_unstacked.shape[0]):\n",
    "                xi = e_nodes_unstacked[i]\n",
    "                #print(xi)\n",
    "                for j in range(e_nodes_unstacked.shape[0]):\n",
    "                    if i == j: continue\n",
    "                    xj = e_nodes_unstacked[j]\n",
    "                    xn = torch.stack([xi, xj], dim=0)\n",
    "                    xn = torch.reshape(xn, (xn.shape[0]*xn.shape[2], xn.shape[1]))\n",
    "                    zn = gat(xn, graphs_2)\n",
    "                    zn = mlp(zn)\n",
    "\n",
    "                    loss = criterion(zn, zd)\n",
    "                    #print(loss)\n",
    "                    all_losses.append(loss)\n",
    "                    \n",
    "            #final_loss = sum(all_losses)/len(all_losses)\n",
    "            #batch_losses.append(final_loss.item())\n",
    "            #print(final_loss)\n",
    "            #final_loss.backward()\n",
    "            #optimizer.step()\n",
    "            #final_loss.detach()\n",
    "\n",
    "            m_nodes_unstacked = torch.reshape(m_nodes, (batch_size, 1, -1))\n",
    "\n",
    "            zd = gat(e_nodes, graphs)\n",
    "            zd = mlp(zd)\n",
    "\n",
    "            #all_losses = []\n",
    "            for i in range(m_nodes_unstacked.shape[0]):\n",
    "                xi = m_nodes_unstacked[i]\n",
    "                #print(xi)\n",
    "                for j in range(m_nodes_unstacked.shape[0]):\n",
    "                    if i == j: continue\n",
    "                    xj = m_nodes_unstacked[j]\n",
    "                    xn = torch.stack([xi, xj], dim=0)\n",
    "                    xn = torch.reshape(xn, (xn.shape[0]*xn.shape[2], xn.shape[1]))\n",
    "                    zn = gat(xn, graphs_2)\n",
    "                    zn = mlp(zn)\n",
    "\n",
    "                    loss = criterion(zn, zd)\n",
    "                    all_losses.append(loss)\n",
    "                    \n",
    "            final_loss = sum(all_losses)/len(all_losses)\n",
    "            batch_losses.append(final_loss.item())\n",
    "            #print(final_loss)\n",
    "            final_loss.backward()\n",
    "            optimizer.step()\n",
    "            #final_loss.detach()\n",
    "        plot_losses.append(sum(batch_losses)/len(batch_losses)) \n",
    "        print(plot_losses)\n",
    "    return plot_losses"
   ]
  },
  {
   "cell_type": "code",
   "execution_count": 14,
   "id": "c0bad582",
   "metadata": {},
   "outputs": [],
   "source": [
    "class GAT_Contrast(torch.nn.Module):\n",
    "    def __init__(self, in_channels, hidden_channels, out_channels, heads):\n",
    "        super().__init__()\n",
    "\n",
    "        self.conv1 = GATConv(in_channels, hidden_channels, heads, dropout = 0.6)\n",
    "        #self.conv2 = GATConv(hidden_channels*heads, out_channels, heads, dropout=0.6)\n",
    "        self.num_nodes = 18840\n",
    "        self.output_layer = nn.Linear(self.num_nodes*hidden_channels*heads, out_channels)\n",
    "        #self.columns = out_channels*heads\n",
    "\n",
    "    def forward(self, x, edge_index):\n",
    "        batch_size = x.shape[0]//self.num_nodes\n",
    "        x = self.conv1(x, edge_index)\n",
    "        x = F.relu(x)\n",
    "        x = torch.reshape(x, (batch_size, 1, -1))\n",
    "        return x\n",
    "\n",
    "class MLP(torch.nn.Module):\n",
    "    def __init__(self, in_channels, hidden_channels, out_channels):\n",
    "        super().__init__()\n",
    "\n",
    "        self.linear1 = nn.Linear(in_channels, hidden_channels)\n",
    "        self.linear2 = nn.Linear(hidden_channels, out_channels)\n",
    "        self.num_nodes = 18840\n",
    "\n",
    "    def forward(self, x):\n",
    "        #batch_size = x.shape[0]//self.num_nodes\n",
    "        #x = torch.reshape(x, (batch_size, 1, -1))\n",
    "        x = self.linear1(x)\n",
    "        x = F.relu(x)\n",
    "        x = self.linear2(x)\n",
    "        x = F.relu(x)\n",
    "        return x"
   ]
  },
  {
   "cell_type": "code",
   "execution_count": 15,
   "id": "1bc55b01",
   "metadata": {},
   "outputs": [],
   "source": [
    "import torch_geometric.utils\n",
    "from torch_geometric.nn import GATConv\n",
    "\n",
    "def GAT_contrast_train(gat, mlp, dataset, epochs, num_nodes, lr = 1e-6, weight_decay = 5e-4, temp=0.05):\n",
    "    torch.cuda.empty_cache()\n",
    "    params = list(gat.parameters()) + list(mlp.parameters())\n",
    "    optimizer = torch.optim.Adam(params, lr=lr, weight_decay=weight_decay)\n",
    "    criterion = ContrastiveLoss()\n",
    "    gat.train()\n",
    "    mlp.train()\n",
    "    optimizer.zero_grad()\n",
    "\n",
    "    losses = train_model(epochs, dataset, gat, mlp, optimizer)\n",
    "    return losses"
   ]
  },
  {
   "cell_type": "code",
   "execution_count": 16,
   "id": "7e3d2468",
   "metadata": {},
   "outputs": [],
   "source": [
    "#Need to put in tensor batches again\n",
    "gat_contrast = GAT_Contrast(1, 4, 2, 1).to(device)\n",
    "mlp_contrast = MLP(75360, 64, 32).to(device)"
   ]
  },
  {
   "cell_type": "code",
   "execution_count": 17,
   "id": "b4d855cb",
   "metadata": {
    "scrolled": true
   },
   "outputs": [
    {
     "name": "stderr",
     "output_type": "stream",
     "text": [
      "  1%|          | 1/100 [00:28<46:58, 28.47s/it]"
     ]
    },
    {
     "name": "stdout",
     "output_type": "stream",
     "text": [
      "[1.6519874334335327]\n"
     ]
    },
    {
     "name": "stderr",
     "output_type": "stream",
     "text": [
      "  2%|▏         | 2/100 [00:56<46:17, 28.35s/it]"
     ]
    },
    {
     "name": "stdout",
     "output_type": "stream",
     "text": [
      "[1.6519874334335327, 1.5915144681930542]\n"
     ]
    },
    {
     "name": "stderr",
     "output_type": "stream",
     "text": [
      "  3%|▎         | 3/100 [01:24<45:27, 28.12s/it]"
     ]
    },
    {
     "name": "stdout",
     "output_type": "stream",
     "text": [
      "[1.6519874334335327, 1.5915144681930542, 1.585037112236023]\n"
     ]
    },
    {
     "name": "stderr",
     "output_type": "stream",
     "text": [
      "  4%|▍         | 4/100 [01:48<42:21, 26.47s/it]"
     ]
    },
    {
     "name": "stdout",
     "output_type": "stream",
     "text": [
      "[1.6519874334335327, 1.5915144681930542, 1.585037112236023, 1.4024659395217896]\n"
     ]
    },
    {
     "name": "stderr",
     "output_type": "stream",
     "text": [
      "  5%|▌         | 5/100 [02:12<40:27, 25.55s/it]"
     ]
    },
    {
     "name": "stdout",
     "output_type": "stream",
     "text": [
      "[1.6519874334335327, 1.5915144681930542, 1.585037112236023, 1.4024659395217896, 1.3946133852005005]\n"
     ]
    },
    {
     "name": "stderr",
     "output_type": "stream",
     "text": [
      "  6%|▌         | 6/100 [02:36<39:07, 24.98s/it]"
     ]
    },
    {
     "name": "stdout",
     "output_type": "stream",
     "text": [
      "[1.6519874334335327, 1.5915144681930542, 1.585037112236023, 1.4024659395217896, 1.3946133852005005, 1.1930017471313477]\n"
     ]
    },
    {
     "name": "stderr",
     "output_type": "stream",
     "text": [
      "  7%|▋         | 7/100 [03:00<38:15, 24.68s/it]"
     ]
    },
    {
     "name": "stdout",
     "output_type": "stream",
     "text": [
      "[1.6519874334335327, 1.5915144681930542, 1.585037112236023, 1.4024659395217896, 1.3946133852005005, 1.1930017471313477, 1.1039574146270752]\n"
     ]
    },
    {
     "name": "stderr",
     "output_type": "stream",
     "text": [
      "  8%|▊         | 8/100 [03:24<37:29, 24.46s/it]"
     ]
    },
    {
     "name": "stdout",
     "output_type": "stream",
     "text": [
      "[1.6519874334335327, 1.5915144681930542, 1.585037112236023, 1.4024659395217896, 1.3946133852005005, 1.1930017471313477, 1.1039574146270752, 0.9772248864173889]\n"
     ]
    },
    {
     "name": "stderr",
     "output_type": "stream",
     "text": [
      "  9%|▉         | 9/100 [03:48<36:42, 24.20s/it]"
     ]
    },
    {
     "name": "stdout",
     "output_type": "stream",
     "text": [
      "[1.6519874334335327, 1.5915144681930542, 1.585037112236023, 1.4024659395217896, 1.3946133852005005, 1.1930017471313477, 1.1039574146270752, 0.9772248864173889, 1.328504204750061]\n"
     ]
    },
    {
     "name": "stderr",
     "output_type": "stream",
     "text": [
      " 10%|█         | 10/100 [04:11<36:04, 24.05s/it]"
     ]
    },
    {
     "name": "stdout",
     "output_type": "stream",
     "text": [
      "[1.6519874334335327, 1.5915144681930542, 1.585037112236023, 1.4024659395217896, 1.3946133852005005, 1.1930017471313477, 1.1039574146270752, 0.9772248864173889, 1.328504204750061, 1.2628916501998901]\n"
     ]
    },
    {
     "name": "stderr",
     "output_type": "stream",
     "text": [
      " 11%|█         | 11/100 [04:35<35:28, 23.91s/it]"
     ]
    },
    {
     "name": "stdout",
     "output_type": "stream",
     "text": [
      "[1.6519874334335327, 1.5915144681930542, 1.585037112236023, 1.4024659395217896, 1.3946133852005005, 1.1930017471313477, 1.1039574146270752, 0.9772248864173889, 1.328504204750061, 1.2628916501998901, 1.0601506233215332]\n"
     ]
    },
    {
     "name": "stderr",
     "output_type": "stream",
     "text": [
      " 12%|█▏        | 12/100 [04:59<35:00, 23.86s/it]"
     ]
    },
    {
     "name": "stdout",
     "output_type": "stream",
     "text": [
      "[1.6519874334335327, 1.5915144681930542, 1.585037112236023, 1.4024659395217896, 1.3946133852005005, 1.1930017471313477, 1.1039574146270752, 0.9772248864173889, 1.328504204750061, 1.2628916501998901, 1.0601506233215332, 0.8797599673271179]\n"
     ]
    },
    {
     "name": "stderr",
     "output_type": "stream",
     "text": [
      " 13%|█▎        | 13/100 [05:22<34:33, 23.83s/it]"
     ]
    },
    {
     "name": "stdout",
     "output_type": "stream",
     "text": [
      "[1.6519874334335327, 1.5915144681930542, 1.585037112236023, 1.4024659395217896, 1.3946133852005005, 1.1930017471313477, 1.1039574146270752, 0.9772248864173889, 1.328504204750061, 1.2628916501998901, 1.0601506233215332, 0.8797599673271179, 1.2181521654129028]\n"
     ]
    },
    {
     "name": "stderr",
     "output_type": "stream",
     "text": [
      " 14%|█▍        | 14/100 [05:45<33:48, 23.59s/it]"
     ]
    },
    {
     "name": "stdout",
     "output_type": "stream",
     "text": [
      "[1.6519874334335327, 1.5915144681930542, 1.585037112236023, 1.4024659395217896, 1.3946133852005005, 1.1930017471313477, 1.1039574146270752, 0.9772248864173889, 1.328504204750061, 1.2628916501998901, 1.0601506233215332, 0.8797599673271179, 1.2181521654129028, 1.0476351976394653]\n"
     ]
    },
    {
     "name": "stderr",
     "output_type": "stream",
     "text": [
      " 15%|█▌        | 15/100 [06:09<33:22, 23.56s/it]"
     ]
    },
    {
     "name": "stdout",
     "output_type": "stream",
     "text": [
      "[1.6519874334335327, 1.5915144681930542, 1.585037112236023, 1.4024659395217896, 1.3946133852005005, 1.1930017471313477, 1.1039574146270752, 0.9772248864173889, 1.328504204750061, 1.2628916501998901, 1.0601506233215332, 0.8797599673271179, 1.2181521654129028, 1.0476351976394653, 0.8659653663635254]\n"
     ]
    },
    {
     "name": "stderr",
     "output_type": "stream",
     "text": [
      " 16%|█▌        | 16/100 [06:32<32:47, 23.42s/it]"
     ]
    },
    {
     "name": "stdout",
     "output_type": "stream",
     "text": [
      "[1.6519874334335327, 1.5915144681930542, 1.585037112236023, 1.4024659395217896, 1.3946133852005005, 1.1930017471313477, 1.1039574146270752, 0.9772248864173889, 1.328504204750061, 1.2628916501998901, 1.0601506233215332, 0.8797599673271179, 1.2181521654129028, 1.0476351976394653, 0.8659653663635254, 0.8503314256668091]\n"
     ]
    },
    {
     "name": "stderr",
     "output_type": "stream",
     "text": [
      " 17%|█▋        | 17/100 [06:55<32:07, 23.22s/it]"
     ]
    },
    {
     "name": "stdout",
     "output_type": "stream",
     "text": [
      "[1.6519874334335327, 1.5915144681930542, 1.585037112236023, 1.4024659395217896, 1.3946133852005005, 1.1930017471313477, 1.1039574146270752, 0.9772248864173889, 1.328504204750061, 1.2628916501998901, 1.0601506233215332, 0.8797599673271179, 1.2181521654129028, 1.0476351976394653, 0.8659653663635254, 0.8503314256668091, 0.8855575919151306]\n"
     ]
    },
    {
     "name": "stderr",
     "output_type": "stream",
     "text": [
      " 18%|█▊        | 18/100 [07:20<32:34, 23.84s/it]"
     ]
    },
    {
     "name": "stdout",
     "output_type": "stream",
     "text": [
      "[1.6519874334335327, 1.5915144681930542, 1.585037112236023, 1.4024659395217896, 1.3946133852005005, 1.1930017471313477, 1.1039574146270752, 0.9772248864173889, 1.328504204750061, 1.2628916501998901, 1.0601506233215332, 0.8797599673271179, 1.2181521654129028, 1.0476351976394653, 0.8659653663635254, 0.8503314256668091, 0.8855575919151306, 0.8448658585548401]\n"
     ]
    },
    {
     "name": "stderr",
     "output_type": "stream",
     "text": [
      " 19%|█▉        | 19/100 [07:47<33:24, 24.75s/it]"
     ]
    },
    {
     "name": "stdout",
     "output_type": "stream",
     "text": [
      "[1.6519874334335327, 1.5915144681930542, 1.585037112236023, 1.4024659395217896, 1.3946133852005005, 1.1930017471313477, 1.1039574146270752, 0.9772248864173889, 1.328504204750061, 1.2628916501998901, 1.0601506233215332, 0.8797599673271179, 1.2181521654129028, 1.0476351976394653, 0.8659653663635254, 0.8503314256668091, 0.8855575919151306, 0.8448658585548401, 0.8267098069190979]\n"
     ]
    },
    {
     "name": "stderr",
     "output_type": "stream",
     "text": [
      " 20%|██        | 20/100 [08:14<33:49, 25.37s/it]"
     ]
    },
    {
     "name": "stdout",
     "output_type": "stream",
     "text": [
      "[1.6519874334335327, 1.5915144681930542, 1.585037112236023, 1.4024659395217896, 1.3946133852005005, 1.1930017471313477, 1.1039574146270752, 0.9772248864173889, 1.328504204750061, 1.2628916501998901, 1.0601506233215332, 0.8797599673271179, 1.2181521654129028, 1.0476351976394653, 0.8659653663635254, 0.8503314256668091, 0.8855575919151306, 0.8448658585548401, 0.8267098069190979, 0.8268370032310486]\n"
     ]
    },
    {
     "name": "stderr",
     "output_type": "stream",
     "text": [
      " 21%|██        | 21/100 [08:41<34:00, 25.83s/it]"
     ]
    },
    {
     "name": "stdout",
     "output_type": "stream",
     "text": [
      "[1.6519874334335327, 1.5915144681930542, 1.585037112236023, 1.4024659395217896, 1.3946133852005005, 1.1930017471313477, 1.1039574146270752, 0.9772248864173889, 1.328504204750061, 1.2628916501998901, 1.0601506233215332, 0.8797599673271179, 1.2181521654129028, 1.0476351976394653, 0.8659653663635254, 0.8503314256668091, 0.8855575919151306, 0.8448658585548401, 0.8267098069190979, 0.8268370032310486, 0.8181592226028442]\n"
     ]
    },
    {
     "name": "stderr",
     "output_type": "stream",
     "text": [
      " 22%|██▏       | 22/100 [09:08<34:01, 26.17s/it]"
     ]
    },
    {
     "name": "stdout",
     "output_type": "stream",
     "text": [
      "[1.6519874334335327, 1.5915144681930542, 1.585037112236023, 1.4024659395217896, 1.3946133852005005, 1.1930017471313477, 1.1039574146270752, 0.9772248864173889, 1.328504204750061, 1.2628916501998901, 1.0601506233215332, 0.8797599673271179, 1.2181521654129028, 1.0476351976394653, 0.8659653663635254, 0.8503314256668091, 0.8855575919151306, 0.8448658585548401, 0.8267098069190979, 0.8268370032310486, 0.8181592226028442, 1.1628681421279907]\n"
     ]
    },
    {
     "name": "stderr",
     "output_type": "stream",
     "text": [
      " 23%|██▎       | 23/100 [09:34<33:48, 26.35s/it]"
     ]
    },
    {
     "name": "stdout",
     "output_type": "stream",
     "text": [
      "[1.6519874334335327, 1.5915144681930542, 1.585037112236023, 1.4024659395217896, 1.3946133852005005, 1.1930017471313477, 1.1039574146270752, 0.9772248864173889, 1.328504204750061, 1.2628916501998901, 1.0601506233215332, 0.8797599673271179, 1.2181521654129028, 1.0476351976394653, 0.8659653663635254, 0.8503314256668091, 0.8855575919151306, 0.8448658585548401, 0.8267098069190979, 0.8268370032310486, 0.8181592226028442, 1.1628681421279907, 0.817520022392273]\n"
     ]
    },
    {
     "name": "stderr",
     "output_type": "stream",
     "text": [
      " 24%|██▍       | 24/100 [10:01<33:36, 26.53s/it]"
     ]
    },
    {
     "name": "stdout",
     "output_type": "stream",
     "text": [
      "[1.6519874334335327, 1.5915144681930542, 1.585037112236023, 1.4024659395217896, 1.3946133852005005, 1.1930017471313477, 1.1039574146270752, 0.9772248864173889, 1.328504204750061, 1.2628916501998901, 1.0601506233215332, 0.8797599673271179, 1.2181521654129028, 1.0476351976394653, 0.8659653663635254, 0.8503314256668091, 0.8855575919151306, 0.8448658585548401, 0.8267098069190979, 0.8268370032310486, 0.8181592226028442, 1.1628681421279907, 0.817520022392273, 0.8131731748580933]\n"
     ]
    },
    {
     "name": "stderr",
     "output_type": "stream",
     "text": [
      " 25%|██▌       | 25/100 [10:28<33:15, 26.61s/it]"
     ]
    },
    {
     "name": "stdout",
     "output_type": "stream",
     "text": [
      "[1.6519874334335327, 1.5915144681930542, 1.585037112236023, 1.4024659395217896, 1.3946133852005005, 1.1930017471313477, 1.1039574146270752, 0.9772248864173889, 1.328504204750061, 1.2628916501998901, 1.0601506233215332, 0.8797599673271179, 1.2181521654129028, 1.0476351976394653, 0.8659653663635254, 0.8503314256668091, 0.8855575919151306, 0.8448658585548401, 0.8267098069190979, 0.8268370032310486, 0.8181592226028442, 1.1628681421279907, 0.817520022392273, 0.8131731748580933, 0.8063421845436096]\n"
     ]
    },
    {
     "name": "stderr",
     "output_type": "stream",
     "text": [
      " 26%|██▌       | 26/100 [10:55<33:00, 26.76s/it]"
     ]
    },
    {
     "name": "stdout",
     "output_type": "stream",
     "text": [
      "[1.6519874334335327, 1.5915144681930542, 1.585037112236023, 1.4024659395217896, 1.3946133852005005, 1.1930017471313477, 1.1039574146270752, 0.9772248864173889, 1.328504204750061, 1.2628916501998901, 1.0601506233215332, 0.8797599673271179, 1.2181521654129028, 1.0476351976394653, 0.8659653663635254, 0.8503314256668091, 0.8855575919151306, 0.8448658585548401, 0.8267098069190979, 0.8268370032310486, 0.8181592226028442, 1.1628681421279907, 0.817520022392273, 0.8131731748580933, 0.8063421845436096, 0.8936448097229004]\n"
     ]
    },
    {
     "name": "stderr",
     "output_type": "stream",
     "text": [
      " 27%|██▋       | 27/100 [11:22<32:38, 26.82s/it]"
     ]
    },
    {
     "name": "stdout",
     "output_type": "stream",
     "text": [
      "[1.6519874334335327, 1.5915144681930542, 1.585037112236023, 1.4024659395217896, 1.3946133852005005, 1.1930017471313477, 1.1039574146270752, 0.9772248864173889, 1.328504204750061, 1.2628916501998901, 1.0601506233215332, 0.8797599673271179, 1.2181521654129028, 1.0476351976394653, 0.8659653663635254, 0.8503314256668091, 0.8855575919151306, 0.8448658585548401, 0.8267098069190979, 0.8268370032310486, 0.8181592226028442, 1.1628681421279907, 0.817520022392273, 0.8131731748580933, 0.8063421845436096, 0.8936448097229004, 0.8130049109458923]\n"
     ]
    },
    {
     "name": "stderr",
     "output_type": "stream",
     "text": [
      " 28%|██▊       | 28/100 [11:49<32:12, 26.84s/it]"
     ]
    },
    {
     "name": "stdout",
     "output_type": "stream",
     "text": [
      "[1.6519874334335327, 1.5915144681930542, 1.585037112236023, 1.4024659395217896, 1.3946133852005005, 1.1930017471313477, 1.1039574146270752, 0.9772248864173889, 1.328504204750061, 1.2628916501998901, 1.0601506233215332, 0.8797599673271179, 1.2181521654129028, 1.0476351976394653, 0.8659653663635254, 0.8503314256668091, 0.8855575919151306, 0.8448658585548401, 0.8267098069190979, 0.8268370032310486, 0.8181592226028442, 1.1628681421279907, 0.817520022392273, 0.8131731748580933, 0.8063421845436096, 0.8936448097229004, 0.8130049109458923, 0.80214524269104]\n"
     ]
    },
    {
     "name": "stderr",
     "output_type": "stream",
     "text": [
      " 29%|██▉       | 29/100 [12:16<31:42, 26.79s/it]"
     ]
    },
    {
     "name": "stdout",
     "output_type": "stream",
     "text": [
      "[1.6519874334335327, 1.5915144681930542, 1.585037112236023, 1.4024659395217896, 1.3946133852005005, 1.1930017471313477, 1.1039574146270752, 0.9772248864173889, 1.328504204750061, 1.2628916501998901, 1.0601506233215332, 0.8797599673271179, 1.2181521654129028, 1.0476351976394653, 0.8659653663635254, 0.8503314256668091, 0.8855575919151306, 0.8448658585548401, 0.8267098069190979, 0.8268370032310486, 0.8181592226028442, 1.1628681421279907, 0.817520022392273, 0.8131731748580933, 0.8063421845436096, 0.8936448097229004, 0.8130049109458923, 0.80214524269104, 0.7999894618988037]\n"
     ]
    },
    {
     "name": "stderr",
     "output_type": "stream",
     "text": [
      " 30%|███       | 30/100 [12:42<31:16, 26.80s/it]"
     ]
    },
    {
     "name": "stdout",
     "output_type": "stream",
     "text": [
      "[1.6519874334335327, 1.5915144681930542, 1.585037112236023, 1.4024659395217896, 1.3946133852005005, 1.1930017471313477, 1.1039574146270752, 0.9772248864173889, 1.328504204750061, 1.2628916501998901, 1.0601506233215332, 0.8797599673271179, 1.2181521654129028, 1.0476351976394653, 0.8659653663635254, 0.8503314256668091, 0.8855575919151306, 0.8448658585548401, 0.8267098069190979, 0.8268370032310486, 0.8181592226028442, 1.1628681421279907, 0.817520022392273, 0.8131731748580933, 0.8063421845436096, 0.8936448097229004, 0.8130049109458923, 0.80214524269104, 0.7999894618988037, 0.8051087856292725]\n"
     ]
    },
    {
     "name": "stderr",
     "output_type": "stream",
     "text": [
      " 31%|███       | 31/100 [13:09<30:49, 26.80s/it]"
     ]
    },
    {
     "name": "stdout",
     "output_type": "stream",
     "text": [
      "[1.6519874334335327, 1.5915144681930542, 1.585037112236023, 1.4024659395217896, 1.3946133852005005, 1.1930017471313477, 1.1039574146270752, 0.9772248864173889, 1.328504204750061, 1.2628916501998901, 1.0601506233215332, 0.8797599673271179, 1.2181521654129028, 1.0476351976394653, 0.8659653663635254, 0.8503314256668091, 0.8855575919151306, 0.8448658585548401, 0.8267098069190979, 0.8268370032310486, 0.8181592226028442, 1.1628681421279907, 0.817520022392273, 0.8131731748580933, 0.8063421845436096, 0.8936448097229004, 0.8130049109458923, 0.80214524269104, 0.7999894618988037, 0.8051087856292725, 0.79868483543396]\n"
     ]
    },
    {
     "name": "stderr",
     "output_type": "stream",
     "text": [
      " 32%|███▏      | 32/100 [13:36<30:20, 26.77s/it]"
     ]
    },
    {
     "name": "stdout",
     "output_type": "stream",
     "text": [
      "[1.6519874334335327, 1.5915144681930542, 1.585037112236023, 1.4024659395217896, 1.3946133852005005, 1.1930017471313477, 1.1039574146270752, 0.9772248864173889, 1.328504204750061, 1.2628916501998901, 1.0601506233215332, 0.8797599673271179, 1.2181521654129028, 1.0476351976394653, 0.8659653663635254, 0.8503314256668091, 0.8855575919151306, 0.8448658585548401, 0.8267098069190979, 0.8268370032310486, 0.8181592226028442, 1.1628681421279907, 0.817520022392273, 0.8131731748580933, 0.8063421845436096, 0.8936448097229004, 0.8130049109458923, 0.80214524269104, 0.7999894618988037, 0.8051087856292725, 0.79868483543396, 0.8027011752128601]\n"
     ]
    },
    {
     "name": "stderr",
     "output_type": "stream",
     "text": [
      " 33%|███▎      | 33/100 [14:03<29:55, 26.80s/it]"
     ]
    },
    {
     "name": "stdout",
     "output_type": "stream",
     "text": [
      "[1.6519874334335327, 1.5915144681930542, 1.585037112236023, 1.4024659395217896, 1.3946133852005005, 1.1930017471313477, 1.1039574146270752, 0.9772248864173889, 1.328504204750061, 1.2628916501998901, 1.0601506233215332, 0.8797599673271179, 1.2181521654129028, 1.0476351976394653, 0.8659653663635254, 0.8503314256668091, 0.8855575919151306, 0.8448658585548401, 0.8267098069190979, 0.8268370032310486, 0.8181592226028442, 1.1628681421279907, 0.817520022392273, 0.8131731748580933, 0.8063421845436096, 0.8936448097229004, 0.8130049109458923, 0.80214524269104, 0.7999894618988037, 0.8051087856292725, 0.79868483543396, 0.8027011752128601, 0.8011804819107056]\n"
     ]
    },
    {
     "name": "stderr",
     "output_type": "stream",
     "text": [
      " 34%|███▍      | 34/100 [14:30<29:32, 26.85s/it]"
     ]
    },
    {
     "name": "stdout",
     "output_type": "stream",
     "text": [
      "[1.6519874334335327, 1.5915144681930542, 1.585037112236023, 1.4024659395217896, 1.3946133852005005, 1.1930017471313477, 1.1039574146270752, 0.9772248864173889, 1.328504204750061, 1.2628916501998901, 1.0601506233215332, 0.8797599673271179, 1.2181521654129028, 1.0476351976394653, 0.8659653663635254, 0.8503314256668091, 0.8855575919151306, 0.8448658585548401, 0.8267098069190979, 0.8268370032310486, 0.8181592226028442, 1.1628681421279907, 0.817520022392273, 0.8131731748580933, 0.8063421845436096, 0.8936448097229004, 0.8130049109458923, 0.80214524269104, 0.7999894618988037, 0.8051087856292725, 0.79868483543396, 0.8027011752128601, 0.8011804819107056, 0.7946569323539734]\n"
     ]
    },
    {
     "name": "stderr",
     "output_type": "stream",
     "text": [
      " 35%|███▌      | 35/100 [14:57<29:06, 26.86s/it]"
     ]
    },
    {
     "name": "stdout",
     "output_type": "stream",
     "text": [
      "[1.6519874334335327, 1.5915144681930542, 1.585037112236023, 1.4024659395217896, 1.3946133852005005, 1.1930017471313477, 1.1039574146270752, 0.9772248864173889, 1.328504204750061, 1.2628916501998901, 1.0601506233215332, 0.8797599673271179, 1.2181521654129028, 1.0476351976394653, 0.8659653663635254, 0.8503314256668091, 0.8855575919151306, 0.8448658585548401, 0.8267098069190979, 0.8268370032310486, 0.8181592226028442, 1.1628681421279907, 0.817520022392273, 0.8131731748580933, 0.8063421845436096, 0.8936448097229004, 0.8130049109458923, 0.80214524269104, 0.7999894618988037, 0.8051087856292725, 0.79868483543396, 0.8027011752128601, 0.8011804819107056, 0.7946569323539734, 0.8005953431129456]\n"
     ]
    },
    {
     "name": "stderr",
     "output_type": "stream",
     "text": [
      " 36%|███▌      | 36/100 [15:24<28:37, 26.84s/it]"
     ]
    },
    {
     "name": "stdout",
     "output_type": "stream",
     "text": [
      "[1.6519874334335327, 1.5915144681930542, 1.585037112236023, 1.4024659395217896, 1.3946133852005005, 1.1930017471313477, 1.1039574146270752, 0.9772248864173889, 1.328504204750061, 1.2628916501998901, 1.0601506233215332, 0.8797599673271179, 1.2181521654129028, 1.0476351976394653, 0.8659653663635254, 0.8503314256668091, 0.8855575919151306, 0.8448658585548401, 0.8267098069190979, 0.8268370032310486, 0.8181592226028442, 1.1628681421279907, 0.817520022392273, 0.8131731748580933, 0.8063421845436096, 0.8936448097229004, 0.8130049109458923, 0.80214524269104, 0.7999894618988037, 0.8051087856292725, 0.79868483543396, 0.8027011752128601, 0.8011804819107056, 0.7946569323539734, 0.8005953431129456, 0.7986651659011841]\n"
     ]
    },
    {
     "name": "stderr",
     "output_type": "stream",
     "text": [
      " 37%|███▋      | 37/100 [15:50<28:11, 26.84s/it]"
     ]
    },
    {
     "name": "stdout",
     "output_type": "stream",
     "text": [
      "[1.6519874334335327, 1.5915144681930542, 1.585037112236023, 1.4024659395217896, 1.3946133852005005, 1.1930017471313477, 1.1039574146270752, 0.9772248864173889, 1.328504204750061, 1.2628916501998901, 1.0601506233215332, 0.8797599673271179, 1.2181521654129028, 1.0476351976394653, 0.8659653663635254, 0.8503314256668091, 0.8855575919151306, 0.8448658585548401, 0.8267098069190979, 0.8268370032310486, 0.8181592226028442, 1.1628681421279907, 0.817520022392273, 0.8131731748580933, 0.8063421845436096, 0.8936448097229004, 0.8130049109458923, 0.80214524269104, 0.7999894618988037, 0.8051087856292725, 0.79868483543396, 0.8027011752128601, 0.8011804819107056, 0.7946569323539734, 0.8005953431129456, 0.7986651659011841, 0.7966488003730774]\n"
     ]
    },
    {
     "name": "stderr",
     "output_type": "stream",
     "text": [
      " 38%|███▊      | 38/100 [16:17<27:41, 26.79s/it]"
     ]
    },
    {
     "name": "stdout",
     "output_type": "stream",
     "text": [
      "[1.6519874334335327, 1.5915144681930542, 1.585037112236023, 1.4024659395217896, 1.3946133852005005, 1.1930017471313477, 1.1039574146270752, 0.9772248864173889, 1.328504204750061, 1.2628916501998901, 1.0601506233215332, 0.8797599673271179, 1.2181521654129028, 1.0476351976394653, 0.8659653663635254, 0.8503314256668091, 0.8855575919151306, 0.8448658585548401, 0.8267098069190979, 0.8268370032310486, 0.8181592226028442, 1.1628681421279907, 0.817520022392273, 0.8131731748580933, 0.8063421845436096, 0.8936448097229004, 0.8130049109458923, 0.80214524269104, 0.7999894618988037, 0.8051087856292725, 0.79868483543396, 0.8027011752128601, 0.8011804819107056, 0.7946569323539734, 0.8005953431129456, 0.7986651659011841, 0.7966488003730774, 0.7960048317909241]\n"
     ]
    },
    {
     "name": "stderr",
     "output_type": "stream",
     "text": [
      " 39%|███▉      | 39/100 [16:44<27:14, 26.80s/it]"
     ]
    },
    {
     "name": "stdout",
     "output_type": "stream",
     "text": [
      "[1.6519874334335327, 1.5915144681930542, 1.585037112236023, 1.4024659395217896, 1.3946133852005005, 1.1930017471313477, 1.1039574146270752, 0.9772248864173889, 1.328504204750061, 1.2628916501998901, 1.0601506233215332, 0.8797599673271179, 1.2181521654129028, 1.0476351976394653, 0.8659653663635254, 0.8503314256668091, 0.8855575919151306, 0.8448658585548401, 0.8267098069190979, 0.8268370032310486, 0.8181592226028442, 1.1628681421279907, 0.817520022392273, 0.8131731748580933, 0.8063421845436096, 0.8936448097229004, 0.8130049109458923, 0.80214524269104, 0.7999894618988037, 0.8051087856292725, 0.79868483543396, 0.8027011752128601, 0.8011804819107056, 0.7946569323539734, 0.8005953431129456, 0.7986651659011841, 0.7966488003730774, 0.7960048317909241, 1.1383332014083862]\n"
     ]
    },
    {
     "name": "stderr",
     "output_type": "stream",
     "text": [
      " 40%|████      | 40/100 [17:10<26:43, 26.73s/it]"
     ]
    },
    {
     "name": "stdout",
     "output_type": "stream",
     "text": [
      "[1.6519874334335327, 1.5915144681930542, 1.585037112236023, 1.4024659395217896, 1.3946133852005005, 1.1930017471313477, 1.1039574146270752, 0.9772248864173889, 1.328504204750061, 1.2628916501998901, 1.0601506233215332, 0.8797599673271179, 1.2181521654129028, 1.0476351976394653, 0.8659653663635254, 0.8503314256668091, 0.8855575919151306, 0.8448658585548401, 0.8267098069190979, 0.8268370032310486, 0.8181592226028442, 1.1628681421279907, 0.817520022392273, 0.8131731748580933, 0.8063421845436096, 0.8936448097229004, 0.8130049109458923, 0.80214524269104, 0.7999894618988037, 0.8051087856292725, 0.79868483543396, 0.8027011752128601, 0.8011804819107056, 0.7946569323539734, 0.8005953431129456, 0.7986651659011841, 0.7966488003730774, 0.7960048317909241, 1.1383332014083862, 0.795249879360199]\n"
     ]
    },
    {
     "name": "stderr",
     "output_type": "stream",
     "text": [
      " 41%|████      | 41/100 [17:37<26:08, 26.58s/it]"
     ]
    },
    {
     "name": "stdout",
     "output_type": "stream",
     "text": [
      "[1.6519874334335327, 1.5915144681930542, 1.585037112236023, 1.4024659395217896, 1.3946133852005005, 1.1930017471313477, 1.1039574146270752, 0.9772248864173889, 1.328504204750061, 1.2628916501998901, 1.0601506233215332, 0.8797599673271179, 1.2181521654129028, 1.0476351976394653, 0.8659653663635254, 0.8503314256668091, 0.8855575919151306, 0.8448658585548401, 0.8267098069190979, 0.8268370032310486, 0.8181592226028442, 1.1628681421279907, 0.817520022392273, 0.8131731748580933, 0.8063421845436096, 0.8936448097229004, 0.8130049109458923, 0.80214524269104, 0.7999894618988037, 0.8051087856292725, 0.79868483543396, 0.8027011752128601, 0.8011804819107056, 0.7946569323539734, 0.8005953431129456, 0.7986651659011841, 0.7966488003730774, 0.7960048317909241, 1.1383332014083862, 0.795249879360199, 0.7961430549621582]\n"
     ]
    },
    {
     "name": "stderr",
     "output_type": "stream",
     "text": [
      " 42%|████▏     | 42/100 [18:03<25:35, 26.47s/it]"
     ]
    },
    {
     "name": "stdout",
     "output_type": "stream",
     "text": [
      "[1.6519874334335327, 1.5915144681930542, 1.585037112236023, 1.4024659395217896, 1.3946133852005005, 1.1930017471313477, 1.1039574146270752, 0.9772248864173889, 1.328504204750061, 1.2628916501998901, 1.0601506233215332, 0.8797599673271179, 1.2181521654129028, 1.0476351976394653, 0.8659653663635254, 0.8503314256668091, 0.8855575919151306, 0.8448658585548401, 0.8267098069190979, 0.8268370032310486, 0.8181592226028442, 1.1628681421279907, 0.817520022392273, 0.8131731748580933, 0.8063421845436096, 0.8936448097229004, 0.8130049109458923, 0.80214524269104, 0.7999894618988037, 0.8051087856292725, 0.79868483543396, 0.8027011752128601, 0.8011804819107056, 0.7946569323539734, 0.8005953431129456, 0.7986651659011841, 0.7966488003730774, 0.7960048317909241, 1.1383332014083862, 0.795249879360199, 0.7961430549621582, 0.7954963445663452]\n"
     ]
    },
    {
     "name": "stderr",
     "output_type": "stream",
     "text": [
      " 43%|████▎     | 43/100 [18:29<25:09, 26.48s/it]"
     ]
    },
    {
     "name": "stdout",
     "output_type": "stream",
     "text": [
      "[1.6519874334335327, 1.5915144681930542, 1.585037112236023, 1.4024659395217896, 1.3946133852005005, 1.1930017471313477, 1.1039574146270752, 0.9772248864173889, 1.328504204750061, 1.2628916501998901, 1.0601506233215332, 0.8797599673271179, 1.2181521654129028, 1.0476351976394653, 0.8659653663635254, 0.8503314256668091, 0.8855575919151306, 0.8448658585548401, 0.8267098069190979, 0.8268370032310486, 0.8181592226028442, 1.1628681421279907, 0.817520022392273, 0.8131731748580933, 0.8063421845436096, 0.8936448097229004, 0.8130049109458923, 0.80214524269104, 0.7999894618988037, 0.8051087856292725, 0.79868483543396, 0.8027011752128601, 0.8011804819107056, 0.7946569323539734, 0.8005953431129456, 0.7986651659011841, 0.7966488003730774, 0.7960048317909241, 1.1383332014083862, 0.795249879360199, 0.7961430549621582, 0.7954963445663452, 0.7958117127418518]\n"
     ]
    },
    {
     "name": "stderr",
     "output_type": "stream",
     "text": [
      " 44%|████▍     | 44/100 [18:56<24:40, 26.43s/it]"
     ]
    },
    {
     "name": "stdout",
     "output_type": "stream",
     "text": [
      "[1.6519874334335327, 1.5915144681930542, 1.585037112236023, 1.4024659395217896, 1.3946133852005005, 1.1930017471313477, 1.1039574146270752, 0.9772248864173889, 1.328504204750061, 1.2628916501998901, 1.0601506233215332, 0.8797599673271179, 1.2181521654129028, 1.0476351976394653, 0.8659653663635254, 0.8503314256668091, 0.8855575919151306, 0.8448658585548401, 0.8267098069190979, 0.8268370032310486, 0.8181592226028442, 1.1628681421279907, 0.817520022392273, 0.8131731748580933, 0.8063421845436096, 0.8936448097229004, 0.8130049109458923, 0.80214524269104, 0.7999894618988037, 0.8051087856292725, 0.79868483543396, 0.8027011752128601, 0.8011804819107056, 0.7946569323539734, 0.8005953431129456, 0.7986651659011841, 0.7966488003730774, 0.7960048317909241, 1.1383332014083862, 0.795249879360199, 0.7961430549621582, 0.7954963445663452, 0.7958117127418518, 0.7962497472763062]\n"
     ]
    },
    {
     "name": "stderr",
     "output_type": "stream",
     "text": [
      " 45%|████▌     | 45/100 [19:22<24:10, 26.37s/it]"
     ]
    },
    {
     "name": "stdout",
     "output_type": "stream",
     "text": [
      "[1.6519874334335327, 1.5915144681930542, 1.585037112236023, 1.4024659395217896, 1.3946133852005005, 1.1930017471313477, 1.1039574146270752, 0.9772248864173889, 1.328504204750061, 1.2628916501998901, 1.0601506233215332, 0.8797599673271179, 1.2181521654129028, 1.0476351976394653, 0.8659653663635254, 0.8503314256668091, 0.8855575919151306, 0.8448658585548401, 0.8267098069190979, 0.8268370032310486, 0.8181592226028442, 1.1628681421279907, 0.817520022392273, 0.8131731748580933, 0.8063421845436096, 0.8936448097229004, 0.8130049109458923, 0.80214524269104, 0.7999894618988037, 0.8051087856292725, 0.79868483543396, 0.8027011752128601, 0.8011804819107056, 0.7946569323539734, 0.8005953431129456, 0.7986651659011841, 0.7966488003730774, 0.7960048317909241, 1.1383332014083862, 0.795249879360199, 0.7961430549621582, 0.7954963445663452, 0.7958117127418518, 0.7962497472763062, 0.7953868508338928]\n"
     ]
    },
    {
     "name": "stderr",
     "output_type": "stream",
     "text": [
      " 46%|████▌     | 46/100 [19:48<23:40, 26.30s/it]"
     ]
    },
    {
     "name": "stdout",
     "output_type": "stream",
     "text": [
      "[1.6519874334335327, 1.5915144681930542, 1.585037112236023, 1.4024659395217896, 1.3946133852005005, 1.1930017471313477, 1.1039574146270752, 0.9772248864173889, 1.328504204750061, 1.2628916501998901, 1.0601506233215332, 0.8797599673271179, 1.2181521654129028, 1.0476351976394653, 0.8659653663635254, 0.8503314256668091, 0.8855575919151306, 0.8448658585548401, 0.8267098069190979, 0.8268370032310486, 0.8181592226028442, 1.1628681421279907, 0.817520022392273, 0.8131731748580933, 0.8063421845436096, 0.8936448097229004, 0.8130049109458923, 0.80214524269104, 0.7999894618988037, 0.8051087856292725, 0.79868483543396, 0.8027011752128601, 0.8011804819107056, 0.7946569323539734, 0.8005953431129456, 0.7986651659011841, 0.7966488003730774, 0.7960048317909241, 1.1383332014083862, 0.795249879360199, 0.7961430549621582, 0.7954963445663452, 0.7958117127418518, 0.7962497472763062, 0.7953868508338928, 0.7945823073387146]\n"
     ]
    },
    {
     "name": "stderr",
     "output_type": "stream",
     "text": [
      " 47%|████▋     | 47/100 [20:14<23:09, 26.22s/it]"
     ]
    },
    {
     "name": "stdout",
     "output_type": "stream",
     "text": [
      "[1.6519874334335327, 1.5915144681930542, 1.585037112236023, 1.4024659395217896, 1.3946133852005005, 1.1930017471313477, 1.1039574146270752, 0.9772248864173889, 1.328504204750061, 1.2628916501998901, 1.0601506233215332, 0.8797599673271179, 1.2181521654129028, 1.0476351976394653, 0.8659653663635254, 0.8503314256668091, 0.8855575919151306, 0.8448658585548401, 0.8267098069190979, 0.8268370032310486, 0.8181592226028442, 1.1628681421279907, 0.817520022392273, 0.8131731748580933, 0.8063421845436096, 0.8936448097229004, 0.8130049109458923, 0.80214524269104, 0.7999894618988037, 0.8051087856292725, 0.79868483543396, 0.8027011752128601, 0.8011804819107056, 0.7946569323539734, 0.8005953431129456, 0.7986651659011841, 0.7966488003730774, 0.7960048317909241, 1.1383332014083862, 0.795249879360199, 0.7961430549621582, 0.7954963445663452, 0.7958117127418518, 0.7962497472763062, 0.7953868508338928, 0.7945823073387146, 0.7950574159622192]\n"
     ]
    },
    {
     "name": "stderr",
     "output_type": "stream",
     "text": [
      " 48%|████▊     | 48/100 [20:40<22:42, 26.20s/it]"
     ]
    },
    {
     "name": "stdout",
     "output_type": "stream",
     "text": [
      "[1.6519874334335327, 1.5915144681930542, 1.585037112236023, 1.4024659395217896, 1.3946133852005005, 1.1930017471313477, 1.1039574146270752, 0.9772248864173889, 1.328504204750061, 1.2628916501998901, 1.0601506233215332, 0.8797599673271179, 1.2181521654129028, 1.0476351976394653, 0.8659653663635254, 0.8503314256668091, 0.8855575919151306, 0.8448658585548401, 0.8267098069190979, 0.8268370032310486, 0.8181592226028442, 1.1628681421279907, 0.817520022392273, 0.8131731748580933, 0.8063421845436096, 0.8936448097229004, 0.8130049109458923, 0.80214524269104, 0.7999894618988037, 0.8051087856292725, 0.79868483543396, 0.8027011752128601, 0.8011804819107056, 0.7946569323539734, 0.8005953431129456, 0.7986651659011841, 0.7966488003730774, 0.7960048317909241, 1.1383332014083862, 0.795249879360199, 0.7961430549621582, 0.7954963445663452, 0.7958117127418518, 0.7962497472763062, 0.7953868508338928, 0.7945823073387146, 0.7950574159622192, 0.7960008978843689]\n"
     ]
    },
    {
     "name": "stderr",
     "output_type": "stream",
     "text": [
      " 49%|████▉     | 49/100 [21:06<22:13, 26.15s/it]"
     ]
    },
    {
     "name": "stdout",
     "output_type": "stream",
     "text": [
      "[1.6519874334335327, 1.5915144681930542, 1.585037112236023, 1.4024659395217896, 1.3946133852005005, 1.1930017471313477, 1.1039574146270752, 0.9772248864173889, 1.328504204750061, 1.2628916501998901, 1.0601506233215332, 0.8797599673271179, 1.2181521654129028, 1.0476351976394653, 0.8659653663635254, 0.8503314256668091, 0.8855575919151306, 0.8448658585548401, 0.8267098069190979, 0.8268370032310486, 0.8181592226028442, 1.1628681421279907, 0.817520022392273, 0.8131731748580933, 0.8063421845436096, 0.8936448097229004, 0.8130049109458923, 0.80214524269104, 0.7999894618988037, 0.8051087856292725, 0.79868483543396, 0.8027011752128601, 0.8011804819107056, 0.7946569323539734, 0.8005953431129456, 0.7986651659011841, 0.7966488003730774, 0.7960048317909241, 1.1383332014083862, 0.795249879360199, 0.7961430549621582, 0.7954963445663452, 0.7958117127418518, 0.7962497472763062, 0.7953868508338928, 0.7945823073387146, 0.7950574159622192, 0.7960008978843689, 0.7939925193786621]\n"
     ]
    },
    {
     "name": "stderr",
     "output_type": "stream",
     "text": [
      " 50%|█████     | 50/100 [21:32<21:47, 26.15s/it]"
     ]
    },
    {
     "name": "stdout",
     "output_type": "stream",
     "text": [
      "[1.6519874334335327, 1.5915144681930542, 1.585037112236023, 1.4024659395217896, 1.3946133852005005, 1.1930017471313477, 1.1039574146270752, 0.9772248864173889, 1.328504204750061, 1.2628916501998901, 1.0601506233215332, 0.8797599673271179, 1.2181521654129028, 1.0476351976394653, 0.8659653663635254, 0.8503314256668091, 0.8855575919151306, 0.8448658585548401, 0.8267098069190979, 0.8268370032310486, 0.8181592226028442, 1.1628681421279907, 0.817520022392273, 0.8131731748580933, 0.8063421845436096, 0.8936448097229004, 0.8130049109458923, 0.80214524269104, 0.7999894618988037, 0.8051087856292725, 0.79868483543396, 0.8027011752128601, 0.8011804819107056, 0.7946569323539734, 0.8005953431129456, 0.7986651659011841, 0.7966488003730774, 0.7960048317909241, 1.1383332014083862, 0.795249879360199, 0.7961430549621582, 0.7954963445663452, 0.7958117127418518, 0.7962497472763062, 0.7953868508338928, 0.7945823073387146, 0.7950574159622192, 0.7960008978843689, 0.7939925193786621, 0.7942854762077332]\n"
     ]
    },
    {
     "name": "stderr",
     "output_type": "stream",
     "text": [
      " 51%|█████     | 51/100 [21:59<21:21, 26.16s/it]"
     ]
    },
    {
     "name": "stdout",
     "output_type": "stream",
     "text": [
      "[1.6519874334335327, 1.5915144681930542, 1.585037112236023, 1.4024659395217896, 1.3946133852005005, 1.1930017471313477, 1.1039574146270752, 0.9772248864173889, 1.328504204750061, 1.2628916501998901, 1.0601506233215332, 0.8797599673271179, 1.2181521654129028, 1.0476351976394653, 0.8659653663635254, 0.8503314256668091, 0.8855575919151306, 0.8448658585548401, 0.8267098069190979, 0.8268370032310486, 0.8181592226028442, 1.1628681421279907, 0.817520022392273, 0.8131731748580933, 0.8063421845436096, 0.8936448097229004, 0.8130049109458923, 0.80214524269104, 0.7999894618988037, 0.8051087856292725, 0.79868483543396, 0.8027011752128601, 0.8011804819107056, 0.7946569323539734, 0.8005953431129456, 0.7986651659011841, 0.7966488003730774, 0.7960048317909241, 1.1383332014083862, 0.795249879360199, 0.7961430549621582, 0.7954963445663452, 0.7958117127418518, 0.7962497472763062, 0.7953868508338928, 0.7945823073387146, 0.7950574159622192, 0.7960008978843689, 0.7939925193786621, 0.7942854762077332, 0.7945982813835144]\n"
     ]
    },
    {
     "name": "stderr",
     "output_type": "stream",
     "text": [
      " 52%|█████▏    | 52/100 [22:25<20:57, 26.19s/it]"
     ]
    },
    {
     "name": "stdout",
     "output_type": "stream",
     "text": [
      "[1.6519874334335327, 1.5915144681930542, 1.585037112236023, 1.4024659395217896, 1.3946133852005005, 1.1930017471313477, 1.1039574146270752, 0.9772248864173889, 1.328504204750061, 1.2628916501998901, 1.0601506233215332, 0.8797599673271179, 1.2181521654129028, 1.0476351976394653, 0.8659653663635254, 0.8503314256668091, 0.8855575919151306, 0.8448658585548401, 0.8267098069190979, 0.8268370032310486, 0.8181592226028442, 1.1628681421279907, 0.817520022392273, 0.8131731748580933, 0.8063421845436096, 0.8936448097229004, 0.8130049109458923, 0.80214524269104, 0.7999894618988037, 0.8051087856292725, 0.79868483543396, 0.8027011752128601, 0.8011804819107056, 0.7946569323539734, 0.8005953431129456, 0.7986651659011841, 0.7966488003730774, 0.7960048317909241, 1.1383332014083862, 0.795249879360199, 0.7961430549621582, 0.7954963445663452, 0.7958117127418518, 0.7962497472763062, 0.7953868508338928, 0.7945823073387146, 0.7950574159622192, 0.7960008978843689, 0.7939925193786621, 0.7942854762077332, 0.7945982813835144, 0.794725775718689]\n"
     ]
    },
    {
     "name": "stderr",
     "output_type": "stream",
     "text": [
      " 53%|█████▎    | 53/100 [22:51<20:34, 26.26s/it]"
     ]
    },
    {
     "name": "stdout",
     "output_type": "stream",
     "text": [
      "[1.6519874334335327, 1.5915144681930542, 1.585037112236023, 1.4024659395217896, 1.3946133852005005, 1.1930017471313477, 1.1039574146270752, 0.9772248864173889, 1.328504204750061, 1.2628916501998901, 1.0601506233215332, 0.8797599673271179, 1.2181521654129028, 1.0476351976394653, 0.8659653663635254, 0.8503314256668091, 0.8855575919151306, 0.8448658585548401, 0.8267098069190979, 0.8268370032310486, 0.8181592226028442, 1.1628681421279907, 0.817520022392273, 0.8131731748580933, 0.8063421845436096, 0.8936448097229004, 0.8130049109458923, 0.80214524269104, 0.7999894618988037, 0.8051087856292725, 0.79868483543396, 0.8027011752128601, 0.8011804819107056, 0.7946569323539734, 0.8005953431129456, 0.7986651659011841, 0.7966488003730774, 0.7960048317909241, 1.1383332014083862, 0.795249879360199, 0.7961430549621582, 0.7954963445663452, 0.7958117127418518, 0.7962497472763062, 0.7953868508338928, 0.7945823073387146, 0.7950574159622192, 0.7960008978843689, 0.7939925193786621, 0.7942854762077332, 0.7945982813835144, 0.794725775718689, 0.7937806844711304]\n"
     ]
    },
    {
     "name": "stderr",
     "output_type": "stream",
     "text": [
      " 54%|█████▍    | 54/100 [23:17<20:07, 26.24s/it]"
     ]
    },
    {
     "name": "stdout",
     "output_type": "stream",
     "text": [
      "[1.6519874334335327, 1.5915144681930542, 1.585037112236023, 1.4024659395217896, 1.3946133852005005, 1.1930017471313477, 1.1039574146270752, 0.9772248864173889, 1.328504204750061, 1.2628916501998901, 1.0601506233215332, 0.8797599673271179, 1.2181521654129028, 1.0476351976394653, 0.8659653663635254, 0.8503314256668091, 0.8855575919151306, 0.8448658585548401, 0.8267098069190979, 0.8268370032310486, 0.8181592226028442, 1.1628681421279907, 0.817520022392273, 0.8131731748580933, 0.8063421845436096, 0.8936448097229004, 0.8130049109458923, 0.80214524269104, 0.7999894618988037, 0.8051087856292725, 0.79868483543396, 0.8027011752128601, 0.8011804819107056, 0.7946569323539734, 0.8005953431129456, 0.7986651659011841, 0.7966488003730774, 0.7960048317909241, 1.1383332014083862, 0.795249879360199, 0.7961430549621582, 0.7954963445663452, 0.7958117127418518, 0.7962497472763062, 0.7953868508338928, 0.7945823073387146, 0.7950574159622192, 0.7960008978843689, 0.7939925193786621, 0.7942854762077332, 0.7945982813835144, 0.794725775718689, 0.7937806844711304, 0.79750657081604]\n"
     ]
    },
    {
     "name": "stderr",
     "output_type": "stream",
     "text": [
      " 55%|█████▌    | 55/100 [23:42<19:22, 25.84s/it]"
     ]
    },
    {
     "name": "stdout",
     "output_type": "stream",
     "text": [
      "[1.6519874334335327, 1.5915144681930542, 1.585037112236023, 1.4024659395217896, 1.3946133852005005, 1.1930017471313477, 1.1039574146270752, 0.9772248864173889, 1.328504204750061, 1.2628916501998901, 1.0601506233215332, 0.8797599673271179, 1.2181521654129028, 1.0476351976394653, 0.8659653663635254, 0.8503314256668091, 0.8855575919151306, 0.8448658585548401, 0.8267098069190979, 0.8268370032310486, 0.8181592226028442, 1.1628681421279907, 0.817520022392273, 0.8131731748580933, 0.8063421845436096, 0.8936448097229004, 0.8130049109458923, 0.80214524269104, 0.7999894618988037, 0.8051087856292725, 0.79868483543396, 0.8027011752128601, 0.8011804819107056, 0.7946569323539734, 0.8005953431129456, 0.7986651659011841, 0.7966488003730774, 0.7960048317909241, 1.1383332014083862, 0.795249879360199, 0.7961430549621582, 0.7954963445663452, 0.7958117127418518, 0.7962497472763062, 0.7953868508338928, 0.7945823073387146, 0.7950574159622192, 0.7960008978843689, 0.7939925193786621, 0.7942854762077332, 0.7945982813835144, 0.794725775718689, 0.7937806844711304, 0.79750657081604, 0.7947580218315125]\n"
     ]
    },
    {
     "name": "stderr",
     "output_type": "stream",
     "text": [
      " 56%|█████▌    | 56/100 [24:05<18:09, 24.77s/it]"
     ]
    },
    {
     "name": "stdout",
     "output_type": "stream",
     "text": [
      "[1.6519874334335327, 1.5915144681930542, 1.585037112236023, 1.4024659395217896, 1.3946133852005005, 1.1930017471313477, 1.1039574146270752, 0.9772248864173889, 1.328504204750061, 1.2628916501998901, 1.0601506233215332, 0.8797599673271179, 1.2181521654129028, 1.0476351976394653, 0.8659653663635254, 0.8503314256668091, 0.8855575919151306, 0.8448658585548401, 0.8267098069190979, 0.8268370032310486, 0.8181592226028442, 1.1628681421279907, 0.817520022392273, 0.8131731748580933, 0.8063421845436096, 0.8936448097229004, 0.8130049109458923, 0.80214524269104, 0.7999894618988037, 0.8051087856292725, 0.79868483543396, 0.8027011752128601, 0.8011804819107056, 0.7946569323539734, 0.8005953431129456, 0.7986651659011841, 0.7966488003730774, 0.7960048317909241, 1.1383332014083862, 0.795249879360199, 0.7961430549621582, 0.7954963445663452, 0.7958117127418518, 0.7962497472763062, 0.7953868508338928, 0.7945823073387146, 0.7950574159622192, 0.7960008978843689, 0.7939925193786621, 0.7942854762077332, 0.7945982813835144, 0.794725775718689, 0.7937806844711304, 0.79750657081604, 0.7947580218315125, 0.7975789904594421]\n"
     ]
    },
    {
     "name": "stderr",
     "output_type": "stream",
     "text": [
      " 57%|█████▋    | 57/100 [24:27<17:13, 24.03s/it]"
     ]
    },
    {
     "name": "stdout",
     "output_type": "stream",
     "text": [
      "[1.6519874334335327, 1.5915144681930542, 1.585037112236023, 1.4024659395217896, 1.3946133852005005, 1.1930017471313477, 1.1039574146270752, 0.9772248864173889, 1.328504204750061, 1.2628916501998901, 1.0601506233215332, 0.8797599673271179, 1.2181521654129028, 1.0476351976394653, 0.8659653663635254, 0.8503314256668091, 0.8855575919151306, 0.8448658585548401, 0.8267098069190979, 0.8268370032310486, 0.8181592226028442, 1.1628681421279907, 0.817520022392273, 0.8131731748580933, 0.8063421845436096, 0.8936448097229004, 0.8130049109458923, 0.80214524269104, 0.7999894618988037, 0.8051087856292725, 0.79868483543396, 0.8027011752128601, 0.8011804819107056, 0.7946569323539734, 0.8005953431129456, 0.7986651659011841, 0.7966488003730774, 0.7960048317909241, 1.1383332014083862, 0.795249879360199, 0.7961430549621582, 0.7954963445663452, 0.7958117127418518, 0.7962497472763062, 0.7953868508338928, 0.7945823073387146, 0.7950574159622192, 0.7960008978843689, 0.7939925193786621, 0.7942854762077332, 0.7945982813835144, 0.794725775718689, 0.7937806844711304, 0.79750657081604, 0.7947580218315125, 0.7975789904594421, 0.7944822907447815]\n"
     ]
    },
    {
     "name": "stderr",
     "output_type": "stream",
     "text": [
      " 58%|█████▊    | 58/100 [24:49<16:25, 23.47s/it]"
     ]
    },
    {
     "name": "stdout",
     "output_type": "stream",
     "text": [
      "[1.6519874334335327, 1.5915144681930542, 1.585037112236023, 1.4024659395217896, 1.3946133852005005, 1.1930017471313477, 1.1039574146270752, 0.9772248864173889, 1.328504204750061, 1.2628916501998901, 1.0601506233215332, 0.8797599673271179, 1.2181521654129028, 1.0476351976394653, 0.8659653663635254, 0.8503314256668091, 0.8855575919151306, 0.8448658585548401, 0.8267098069190979, 0.8268370032310486, 0.8181592226028442, 1.1628681421279907, 0.817520022392273, 0.8131731748580933, 0.8063421845436096, 0.8936448097229004, 0.8130049109458923, 0.80214524269104, 0.7999894618988037, 0.8051087856292725, 0.79868483543396, 0.8027011752128601, 0.8011804819107056, 0.7946569323539734, 0.8005953431129456, 0.7986651659011841, 0.7966488003730774, 0.7960048317909241, 1.1383332014083862, 0.795249879360199, 0.7961430549621582, 0.7954963445663452, 0.7958117127418518, 0.7962497472763062, 0.7953868508338928, 0.7945823073387146, 0.7950574159622192, 0.7960008978843689, 0.7939925193786621, 0.7942854762077332, 0.7945982813835144, 0.794725775718689, 0.7937806844711304, 0.79750657081604, 0.7947580218315125, 0.7975789904594421, 0.7944822907447815, 0.8002062439918518]\n"
     ]
    },
    {
     "name": "stderr",
     "output_type": "stream",
     "text": [
      " 59%|█████▉    | 59/100 [25:11<15:47, 23.12s/it]"
     ]
    },
    {
     "name": "stdout",
     "output_type": "stream",
     "text": [
      "[1.6519874334335327, 1.5915144681930542, 1.585037112236023, 1.4024659395217896, 1.3946133852005005, 1.1930017471313477, 1.1039574146270752, 0.9772248864173889, 1.328504204750061, 1.2628916501998901, 1.0601506233215332, 0.8797599673271179, 1.2181521654129028, 1.0476351976394653, 0.8659653663635254, 0.8503314256668091, 0.8855575919151306, 0.8448658585548401, 0.8267098069190979, 0.8268370032310486, 0.8181592226028442, 1.1628681421279907, 0.817520022392273, 0.8131731748580933, 0.8063421845436096, 0.8936448097229004, 0.8130049109458923, 0.80214524269104, 0.7999894618988037, 0.8051087856292725, 0.79868483543396, 0.8027011752128601, 0.8011804819107056, 0.7946569323539734, 0.8005953431129456, 0.7986651659011841, 0.7966488003730774, 0.7960048317909241, 1.1383332014083862, 0.795249879360199, 0.7961430549621582, 0.7954963445663452, 0.7958117127418518, 0.7962497472763062, 0.7953868508338928, 0.7945823073387146, 0.7950574159622192, 0.7960008978843689, 0.7939925193786621, 0.7942854762077332, 0.7945982813835144, 0.794725775718689, 0.7937806844711304, 0.79750657081604, 0.7947580218315125, 0.7975789904594421, 0.7944822907447815, 0.8002062439918518, 0.7935543060302734]\n"
     ]
    },
    {
     "name": "stderr",
     "output_type": "stream",
     "text": [
      " 60%|██████    | 60/100 [25:34<15:14, 22.86s/it]"
     ]
    },
    {
     "name": "stdout",
     "output_type": "stream",
     "text": [
      "[1.6519874334335327, 1.5915144681930542, 1.585037112236023, 1.4024659395217896, 1.3946133852005005, 1.1930017471313477, 1.1039574146270752, 0.9772248864173889, 1.328504204750061, 1.2628916501998901, 1.0601506233215332, 0.8797599673271179, 1.2181521654129028, 1.0476351976394653, 0.8659653663635254, 0.8503314256668091, 0.8855575919151306, 0.8448658585548401, 0.8267098069190979, 0.8268370032310486, 0.8181592226028442, 1.1628681421279907, 0.817520022392273, 0.8131731748580933, 0.8063421845436096, 0.8936448097229004, 0.8130049109458923, 0.80214524269104, 0.7999894618988037, 0.8051087856292725, 0.79868483543396, 0.8027011752128601, 0.8011804819107056, 0.7946569323539734, 0.8005953431129456, 0.7986651659011841, 0.7966488003730774, 0.7960048317909241, 1.1383332014083862, 0.795249879360199, 0.7961430549621582, 0.7954963445663452, 0.7958117127418518, 0.7962497472763062, 0.7953868508338928, 0.7945823073387146, 0.7950574159622192, 0.7960008978843689, 0.7939925193786621, 0.7942854762077332, 0.7945982813835144, 0.794725775718689, 0.7937806844711304, 0.79750657081604, 0.7947580218315125, 0.7975789904594421, 0.7944822907447815, 0.8002062439918518, 0.7935543060302734, 0.7931860089302063]\n"
     ]
    },
    {
     "name": "stderr",
     "output_type": "stream",
     "text": [
      " 61%|██████    | 61/100 [25:56<14:43, 22.65s/it]"
     ]
    },
    {
     "name": "stdout",
     "output_type": "stream",
     "text": [
      "[1.6519874334335327, 1.5915144681930542, 1.585037112236023, 1.4024659395217896, 1.3946133852005005, 1.1930017471313477, 1.1039574146270752, 0.9772248864173889, 1.328504204750061, 1.2628916501998901, 1.0601506233215332, 0.8797599673271179, 1.2181521654129028, 1.0476351976394653, 0.8659653663635254, 0.8503314256668091, 0.8855575919151306, 0.8448658585548401, 0.8267098069190979, 0.8268370032310486, 0.8181592226028442, 1.1628681421279907, 0.817520022392273, 0.8131731748580933, 0.8063421845436096, 0.8936448097229004, 0.8130049109458923, 0.80214524269104, 0.7999894618988037, 0.8051087856292725, 0.79868483543396, 0.8027011752128601, 0.8011804819107056, 0.7946569323539734, 0.8005953431129456, 0.7986651659011841, 0.7966488003730774, 0.7960048317909241, 1.1383332014083862, 0.795249879360199, 0.7961430549621582, 0.7954963445663452, 0.7958117127418518, 0.7962497472763062, 0.7953868508338928, 0.7945823073387146, 0.7950574159622192, 0.7960008978843689, 0.7939925193786621, 0.7942854762077332, 0.7945982813835144, 0.794725775718689, 0.7937806844711304, 0.79750657081604, 0.7947580218315125, 0.7975789904594421, 0.7944822907447815, 0.8002062439918518, 0.7935543060302734, 0.7931860089302063, 0.7932364344596863]\n"
     ]
    },
    {
     "name": "stderr",
     "output_type": "stream",
     "text": [
      " 62%|██████▏   | 62/100 [26:18<14:17, 22.56s/it]"
     ]
    },
    {
     "name": "stdout",
     "output_type": "stream",
     "text": [
      "[1.6519874334335327, 1.5915144681930542, 1.585037112236023, 1.4024659395217896, 1.3946133852005005, 1.1930017471313477, 1.1039574146270752, 0.9772248864173889, 1.328504204750061, 1.2628916501998901, 1.0601506233215332, 0.8797599673271179, 1.2181521654129028, 1.0476351976394653, 0.8659653663635254, 0.8503314256668091, 0.8855575919151306, 0.8448658585548401, 0.8267098069190979, 0.8268370032310486, 0.8181592226028442, 1.1628681421279907, 0.817520022392273, 0.8131731748580933, 0.8063421845436096, 0.8936448097229004, 0.8130049109458923, 0.80214524269104, 0.7999894618988037, 0.8051087856292725, 0.79868483543396, 0.8027011752128601, 0.8011804819107056, 0.7946569323539734, 0.8005953431129456, 0.7986651659011841, 0.7966488003730774, 0.7960048317909241, 1.1383332014083862, 0.795249879360199, 0.7961430549621582, 0.7954963445663452, 0.7958117127418518, 0.7962497472763062, 0.7953868508338928, 0.7945823073387146, 0.7950574159622192, 0.7960008978843689, 0.7939925193786621, 0.7942854762077332, 0.7945982813835144, 0.794725775718689, 0.7937806844711304, 0.79750657081604, 0.7947580218315125, 0.7975789904594421, 0.7944822907447815, 0.8002062439918518, 0.7935543060302734, 0.7931860089302063, 0.7932364344596863, 0.7944653630256653]\n"
     ]
    },
    {
     "name": "stderr",
     "output_type": "stream",
     "text": [
      " 63%|██████▎   | 63/100 [26:41<13:54, 22.57s/it]"
     ]
    },
    {
     "name": "stdout",
     "output_type": "stream",
     "text": [
      "[1.6519874334335327, 1.5915144681930542, 1.585037112236023, 1.4024659395217896, 1.3946133852005005, 1.1930017471313477, 1.1039574146270752, 0.9772248864173889, 1.328504204750061, 1.2628916501998901, 1.0601506233215332, 0.8797599673271179, 1.2181521654129028, 1.0476351976394653, 0.8659653663635254, 0.8503314256668091, 0.8855575919151306, 0.8448658585548401, 0.8267098069190979, 0.8268370032310486, 0.8181592226028442, 1.1628681421279907, 0.817520022392273, 0.8131731748580933, 0.8063421845436096, 0.8936448097229004, 0.8130049109458923, 0.80214524269104, 0.7999894618988037, 0.8051087856292725, 0.79868483543396, 0.8027011752128601, 0.8011804819107056, 0.7946569323539734, 0.8005953431129456, 0.7986651659011841, 0.7966488003730774, 0.7960048317909241, 1.1383332014083862, 0.795249879360199, 0.7961430549621582, 0.7954963445663452, 0.7958117127418518, 0.7962497472763062, 0.7953868508338928, 0.7945823073387146, 0.7950574159622192, 0.7960008978843689, 0.7939925193786621, 0.7942854762077332, 0.7945982813835144, 0.794725775718689, 0.7937806844711304, 0.79750657081604, 0.7947580218315125, 0.7975789904594421, 0.7944822907447815, 0.8002062439918518, 0.7935543060302734, 0.7931860089302063, 0.7932364344596863, 0.7944653630256653, 0.7930692434310913]\n"
     ]
    },
    {
     "name": "stderr",
     "output_type": "stream",
     "text": [
      " 64%|██████▍   | 64/100 [27:03<13:29, 22.47s/it]"
     ]
    },
    {
     "name": "stdout",
     "output_type": "stream",
     "text": [
      "[1.6519874334335327, 1.5915144681930542, 1.585037112236023, 1.4024659395217896, 1.3946133852005005, 1.1930017471313477, 1.1039574146270752, 0.9772248864173889, 1.328504204750061, 1.2628916501998901, 1.0601506233215332, 0.8797599673271179, 1.2181521654129028, 1.0476351976394653, 0.8659653663635254, 0.8503314256668091, 0.8855575919151306, 0.8448658585548401, 0.8267098069190979, 0.8268370032310486, 0.8181592226028442, 1.1628681421279907, 0.817520022392273, 0.8131731748580933, 0.8063421845436096, 0.8936448097229004, 0.8130049109458923, 0.80214524269104, 0.7999894618988037, 0.8051087856292725, 0.79868483543396, 0.8027011752128601, 0.8011804819107056, 0.7946569323539734, 0.8005953431129456, 0.7986651659011841, 0.7966488003730774, 0.7960048317909241, 1.1383332014083862, 0.795249879360199, 0.7961430549621582, 0.7954963445663452, 0.7958117127418518, 0.7962497472763062, 0.7953868508338928, 0.7945823073387146, 0.7950574159622192, 0.7960008978843689, 0.7939925193786621, 0.7942854762077332, 0.7945982813835144, 0.794725775718689, 0.7937806844711304, 0.79750657081604, 0.7947580218315125, 0.7975789904594421, 0.7944822907447815, 0.8002062439918518, 0.7935543060302734, 0.7931860089302063, 0.7932364344596863, 0.7944653630256653, 0.7930692434310913, 0.7941107153892517]\n"
     ]
    },
    {
     "name": "stderr",
     "output_type": "stream",
     "text": [
      " 65%|██████▌   | 65/100 [27:25<13:04, 22.42s/it]"
     ]
    },
    {
     "name": "stdout",
     "output_type": "stream",
     "text": [
      "[1.6519874334335327, 1.5915144681930542, 1.585037112236023, 1.4024659395217896, 1.3946133852005005, 1.1930017471313477, 1.1039574146270752, 0.9772248864173889, 1.328504204750061, 1.2628916501998901, 1.0601506233215332, 0.8797599673271179, 1.2181521654129028, 1.0476351976394653, 0.8659653663635254, 0.8503314256668091, 0.8855575919151306, 0.8448658585548401, 0.8267098069190979, 0.8268370032310486, 0.8181592226028442, 1.1628681421279907, 0.817520022392273, 0.8131731748580933, 0.8063421845436096, 0.8936448097229004, 0.8130049109458923, 0.80214524269104, 0.7999894618988037, 0.8051087856292725, 0.79868483543396, 0.8027011752128601, 0.8011804819107056, 0.7946569323539734, 0.8005953431129456, 0.7986651659011841, 0.7966488003730774, 0.7960048317909241, 1.1383332014083862, 0.795249879360199, 0.7961430549621582, 0.7954963445663452, 0.7958117127418518, 0.7962497472763062, 0.7953868508338928, 0.7945823073387146, 0.7950574159622192, 0.7960008978843689, 0.7939925193786621, 0.7942854762077332, 0.7945982813835144, 0.794725775718689, 0.7937806844711304, 0.79750657081604, 0.7947580218315125, 0.7975789904594421, 0.7944822907447815, 0.8002062439918518, 0.7935543060302734, 0.7931860089302063, 0.7932364344596863, 0.7944653630256653, 0.7930692434310913, 0.7941107153892517, 0.794888436794281]\n"
     ]
    },
    {
     "name": "stderr",
     "output_type": "stream",
     "text": [
      " 66%|██████▌   | 66/100 [27:48<12:40, 22.37s/it]"
     ]
    },
    {
     "name": "stdout",
     "output_type": "stream",
     "text": [
      "[1.6519874334335327, 1.5915144681930542, 1.585037112236023, 1.4024659395217896, 1.3946133852005005, 1.1930017471313477, 1.1039574146270752, 0.9772248864173889, 1.328504204750061, 1.2628916501998901, 1.0601506233215332, 0.8797599673271179, 1.2181521654129028, 1.0476351976394653, 0.8659653663635254, 0.8503314256668091, 0.8855575919151306, 0.8448658585548401, 0.8267098069190979, 0.8268370032310486, 0.8181592226028442, 1.1628681421279907, 0.817520022392273, 0.8131731748580933, 0.8063421845436096, 0.8936448097229004, 0.8130049109458923, 0.80214524269104, 0.7999894618988037, 0.8051087856292725, 0.79868483543396, 0.8027011752128601, 0.8011804819107056, 0.7946569323539734, 0.8005953431129456, 0.7986651659011841, 0.7966488003730774, 0.7960048317909241, 1.1383332014083862, 0.795249879360199, 0.7961430549621582, 0.7954963445663452, 0.7958117127418518, 0.7962497472763062, 0.7953868508338928, 0.7945823073387146, 0.7950574159622192, 0.7960008978843689, 0.7939925193786621, 0.7942854762077332, 0.7945982813835144, 0.794725775718689, 0.7937806844711304, 0.79750657081604, 0.7947580218315125, 0.7975789904594421, 0.7944822907447815, 0.8002062439918518, 0.7935543060302734, 0.7931860089302063, 0.7932364344596863, 0.7944653630256653, 0.7930692434310913, 0.7941107153892517, 0.794888436794281, 0.793901264667511]\n"
     ]
    },
    {
     "name": "stderr",
     "output_type": "stream",
     "text": [
      " 67%|██████▋   | 67/100 [28:10<12:15, 22.29s/it]"
     ]
    },
    {
     "name": "stdout",
     "output_type": "stream",
     "text": [
      "[1.6519874334335327, 1.5915144681930542, 1.585037112236023, 1.4024659395217896, 1.3946133852005005, 1.1930017471313477, 1.1039574146270752, 0.9772248864173889, 1.328504204750061, 1.2628916501998901, 1.0601506233215332, 0.8797599673271179, 1.2181521654129028, 1.0476351976394653, 0.8659653663635254, 0.8503314256668091, 0.8855575919151306, 0.8448658585548401, 0.8267098069190979, 0.8268370032310486, 0.8181592226028442, 1.1628681421279907, 0.817520022392273, 0.8131731748580933, 0.8063421845436096, 0.8936448097229004, 0.8130049109458923, 0.80214524269104, 0.7999894618988037, 0.8051087856292725, 0.79868483543396, 0.8027011752128601, 0.8011804819107056, 0.7946569323539734, 0.8005953431129456, 0.7986651659011841, 0.7966488003730774, 0.7960048317909241, 1.1383332014083862, 0.795249879360199, 0.7961430549621582, 0.7954963445663452, 0.7958117127418518, 0.7962497472763062, 0.7953868508338928, 0.7945823073387146, 0.7950574159622192, 0.7960008978843689, 0.7939925193786621, 0.7942854762077332, 0.7945982813835144, 0.794725775718689, 0.7937806844711304, 0.79750657081604, 0.7947580218315125, 0.7975789904594421, 0.7944822907447815, 0.8002062439918518, 0.7935543060302734, 0.7931860089302063, 0.7932364344596863, 0.7944653630256653, 0.7930692434310913, 0.7941107153892517, 0.794888436794281, 0.793901264667511, 0.7942426800727844]\n"
     ]
    },
    {
     "name": "stderr",
     "output_type": "stream",
     "text": [
      " 68%|██████▊   | 68/100 [28:32<11:52, 22.26s/it]"
     ]
    },
    {
     "name": "stdout",
     "output_type": "stream",
     "text": [
      "[1.6519874334335327, 1.5915144681930542, 1.585037112236023, 1.4024659395217896, 1.3946133852005005, 1.1930017471313477, 1.1039574146270752, 0.9772248864173889, 1.328504204750061, 1.2628916501998901, 1.0601506233215332, 0.8797599673271179, 1.2181521654129028, 1.0476351976394653, 0.8659653663635254, 0.8503314256668091, 0.8855575919151306, 0.8448658585548401, 0.8267098069190979, 0.8268370032310486, 0.8181592226028442, 1.1628681421279907, 0.817520022392273, 0.8131731748580933, 0.8063421845436096, 0.8936448097229004, 0.8130049109458923, 0.80214524269104, 0.7999894618988037, 0.8051087856292725, 0.79868483543396, 0.8027011752128601, 0.8011804819107056, 0.7946569323539734, 0.8005953431129456, 0.7986651659011841, 0.7966488003730774, 0.7960048317909241, 1.1383332014083862, 0.795249879360199, 0.7961430549621582, 0.7954963445663452, 0.7958117127418518, 0.7962497472763062, 0.7953868508338928, 0.7945823073387146, 0.7950574159622192, 0.7960008978843689, 0.7939925193786621, 0.7942854762077332, 0.7945982813835144, 0.794725775718689, 0.7937806844711304, 0.79750657081604, 0.7947580218315125, 0.7975789904594421, 0.7944822907447815, 0.8002062439918518, 0.7935543060302734, 0.7931860089302063, 0.7932364344596863, 0.7944653630256653, 0.7930692434310913, 0.7941107153892517, 0.794888436794281, 0.793901264667511, 0.7942426800727844, 0.7930476069450378]\n"
     ]
    },
    {
     "name": "stderr",
     "output_type": "stream",
     "text": [
      " 69%|██████▉   | 69/100 [28:54<11:28, 22.20s/it]"
     ]
    },
    {
     "name": "stdout",
     "output_type": "stream",
     "text": [
      "[1.6519874334335327, 1.5915144681930542, 1.585037112236023, 1.4024659395217896, 1.3946133852005005, 1.1930017471313477, 1.1039574146270752, 0.9772248864173889, 1.328504204750061, 1.2628916501998901, 1.0601506233215332, 0.8797599673271179, 1.2181521654129028, 1.0476351976394653, 0.8659653663635254, 0.8503314256668091, 0.8855575919151306, 0.8448658585548401, 0.8267098069190979, 0.8268370032310486, 0.8181592226028442, 1.1628681421279907, 0.817520022392273, 0.8131731748580933, 0.8063421845436096, 0.8936448097229004, 0.8130049109458923, 0.80214524269104, 0.7999894618988037, 0.8051087856292725, 0.79868483543396, 0.8027011752128601, 0.8011804819107056, 0.7946569323539734, 0.8005953431129456, 0.7986651659011841, 0.7966488003730774, 0.7960048317909241, 1.1383332014083862, 0.795249879360199, 0.7961430549621582, 0.7954963445663452, 0.7958117127418518, 0.7962497472763062, 0.7953868508338928, 0.7945823073387146, 0.7950574159622192, 0.7960008978843689, 0.7939925193786621, 0.7942854762077332, 0.7945982813835144, 0.794725775718689, 0.7937806844711304, 0.79750657081604, 0.7947580218315125, 0.7975789904594421, 0.7944822907447815, 0.8002062439918518, 0.7935543060302734, 0.7931860089302063, 0.7932364344596863, 0.7944653630256653, 0.7930692434310913, 0.7941107153892517, 0.794888436794281, 0.793901264667511, 0.7942426800727844, 0.7930476069450378, 0.7932810187339783]\n"
     ]
    },
    {
     "name": "stderr",
     "output_type": "stream",
     "text": [
      " 70%|███████   | 70/100 [29:16<11:05, 22.20s/it]"
     ]
    },
    {
     "name": "stdout",
     "output_type": "stream",
     "text": [
      "[1.6519874334335327, 1.5915144681930542, 1.585037112236023, 1.4024659395217896, 1.3946133852005005, 1.1930017471313477, 1.1039574146270752, 0.9772248864173889, 1.328504204750061, 1.2628916501998901, 1.0601506233215332, 0.8797599673271179, 1.2181521654129028, 1.0476351976394653, 0.8659653663635254, 0.8503314256668091, 0.8855575919151306, 0.8448658585548401, 0.8267098069190979, 0.8268370032310486, 0.8181592226028442, 1.1628681421279907, 0.817520022392273, 0.8131731748580933, 0.8063421845436096, 0.8936448097229004, 0.8130049109458923, 0.80214524269104, 0.7999894618988037, 0.8051087856292725, 0.79868483543396, 0.8027011752128601, 0.8011804819107056, 0.7946569323539734, 0.8005953431129456, 0.7986651659011841, 0.7966488003730774, 0.7960048317909241, 1.1383332014083862, 0.795249879360199, 0.7961430549621582, 0.7954963445663452, 0.7958117127418518, 0.7962497472763062, 0.7953868508338928, 0.7945823073387146, 0.7950574159622192, 0.7960008978843689, 0.7939925193786621, 0.7942854762077332, 0.7945982813835144, 0.794725775718689, 0.7937806844711304, 0.79750657081604, 0.7947580218315125, 0.7975789904594421, 0.7944822907447815, 0.8002062439918518, 0.7935543060302734, 0.7931860089302063, 0.7932364344596863, 0.7944653630256653, 0.7930692434310913, 0.7941107153892517, 0.794888436794281, 0.793901264667511, 0.7942426800727844, 0.7930476069450378, 0.7932810187339783, 0.7935327291488647]\n"
     ]
    },
    {
     "name": "stderr",
     "output_type": "stream",
     "text": [
      " 71%|███████   | 71/100 [29:38<10:43, 22.19s/it]"
     ]
    },
    {
     "name": "stdout",
     "output_type": "stream",
     "text": [
      "[1.6519874334335327, 1.5915144681930542, 1.585037112236023, 1.4024659395217896, 1.3946133852005005, 1.1930017471313477, 1.1039574146270752, 0.9772248864173889, 1.328504204750061, 1.2628916501998901, 1.0601506233215332, 0.8797599673271179, 1.2181521654129028, 1.0476351976394653, 0.8659653663635254, 0.8503314256668091, 0.8855575919151306, 0.8448658585548401, 0.8267098069190979, 0.8268370032310486, 0.8181592226028442, 1.1628681421279907, 0.817520022392273, 0.8131731748580933, 0.8063421845436096, 0.8936448097229004, 0.8130049109458923, 0.80214524269104, 0.7999894618988037, 0.8051087856292725, 0.79868483543396, 0.8027011752128601, 0.8011804819107056, 0.7946569323539734, 0.8005953431129456, 0.7986651659011841, 0.7966488003730774, 0.7960048317909241, 1.1383332014083862, 0.795249879360199, 0.7961430549621582, 0.7954963445663452, 0.7958117127418518, 0.7962497472763062, 0.7953868508338928, 0.7945823073387146, 0.7950574159622192, 0.7960008978843689, 0.7939925193786621, 0.7942854762077332, 0.7945982813835144, 0.794725775718689, 0.7937806844711304, 0.79750657081604, 0.7947580218315125, 0.7975789904594421, 0.7944822907447815, 0.8002062439918518, 0.7935543060302734, 0.7931860089302063, 0.7932364344596863, 0.7944653630256653, 0.7930692434310913, 0.7941107153892517, 0.794888436794281, 0.793901264667511, 0.7942426800727844, 0.7930476069450378, 0.7932810187339783, 0.7935327291488647, 0.804480254650116]\n"
     ]
    },
    {
     "name": "stderr",
     "output_type": "stream",
     "text": [
      " 72%|███████▏  | 72/100 [30:01<10:21, 22.19s/it]"
     ]
    },
    {
     "name": "stdout",
     "output_type": "stream",
     "text": [
      "[1.6519874334335327, 1.5915144681930542, 1.585037112236023, 1.4024659395217896, 1.3946133852005005, 1.1930017471313477, 1.1039574146270752, 0.9772248864173889, 1.328504204750061, 1.2628916501998901, 1.0601506233215332, 0.8797599673271179, 1.2181521654129028, 1.0476351976394653, 0.8659653663635254, 0.8503314256668091, 0.8855575919151306, 0.8448658585548401, 0.8267098069190979, 0.8268370032310486, 0.8181592226028442, 1.1628681421279907, 0.817520022392273, 0.8131731748580933, 0.8063421845436096, 0.8936448097229004, 0.8130049109458923, 0.80214524269104, 0.7999894618988037, 0.8051087856292725, 0.79868483543396, 0.8027011752128601, 0.8011804819107056, 0.7946569323539734, 0.8005953431129456, 0.7986651659011841, 0.7966488003730774, 0.7960048317909241, 1.1383332014083862, 0.795249879360199, 0.7961430549621582, 0.7954963445663452, 0.7958117127418518, 0.7962497472763062, 0.7953868508338928, 0.7945823073387146, 0.7950574159622192, 0.7960008978843689, 0.7939925193786621, 0.7942854762077332, 0.7945982813835144, 0.794725775718689, 0.7937806844711304, 0.79750657081604, 0.7947580218315125, 0.7975789904594421, 0.7944822907447815, 0.8002062439918518, 0.7935543060302734, 0.7931860089302063, 0.7932364344596863, 0.7944653630256653, 0.7930692434310913, 0.7941107153892517, 0.794888436794281, 0.793901264667511, 0.7942426800727844, 0.7930476069450378, 0.7932810187339783, 0.7935327291488647, 0.804480254650116, 0.7932626605033875]\n"
     ]
    },
    {
     "name": "stderr",
     "output_type": "stream",
     "text": [
      " 73%|███████▎  | 73/100 [30:23<09:58, 22.16s/it]"
     ]
    },
    {
     "name": "stdout",
     "output_type": "stream",
     "text": [
      "[1.6519874334335327, 1.5915144681930542, 1.585037112236023, 1.4024659395217896, 1.3946133852005005, 1.1930017471313477, 1.1039574146270752, 0.9772248864173889, 1.328504204750061, 1.2628916501998901, 1.0601506233215332, 0.8797599673271179, 1.2181521654129028, 1.0476351976394653, 0.8659653663635254, 0.8503314256668091, 0.8855575919151306, 0.8448658585548401, 0.8267098069190979, 0.8268370032310486, 0.8181592226028442, 1.1628681421279907, 0.817520022392273, 0.8131731748580933, 0.8063421845436096, 0.8936448097229004, 0.8130049109458923, 0.80214524269104, 0.7999894618988037, 0.8051087856292725, 0.79868483543396, 0.8027011752128601, 0.8011804819107056, 0.7946569323539734, 0.8005953431129456, 0.7986651659011841, 0.7966488003730774, 0.7960048317909241, 1.1383332014083862, 0.795249879360199, 0.7961430549621582, 0.7954963445663452, 0.7958117127418518, 0.7962497472763062, 0.7953868508338928, 0.7945823073387146, 0.7950574159622192, 0.7960008978843689, 0.7939925193786621, 0.7942854762077332, 0.7945982813835144, 0.794725775718689, 0.7937806844711304, 0.79750657081604, 0.7947580218315125, 0.7975789904594421, 0.7944822907447815, 0.8002062439918518, 0.7935543060302734, 0.7931860089302063, 0.7932364344596863, 0.7944653630256653, 0.7930692434310913, 0.7941107153892517, 0.794888436794281, 0.793901264667511, 0.7942426800727844, 0.7930476069450378, 0.7932810187339783, 0.7935327291488647, 0.804480254650116, 0.7932626605033875, 0.7963106632232666]\n"
     ]
    },
    {
     "name": "stderr",
     "output_type": "stream",
     "text": [
      " 74%|███████▍  | 74/100 [30:45<09:37, 22.21s/it]"
     ]
    },
    {
     "name": "stdout",
     "output_type": "stream",
     "text": [
      "[1.6519874334335327, 1.5915144681930542, 1.585037112236023, 1.4024659395217896, 1.3946133852005005, 1.1930017471313477, 1.1039574146270752, 0.9772248864173889, 1.328504204750061, 1.2628916501998901, 1.0601506233215332, 0.8797599673271179, 1.2181521654129028, 1.0476351976394653, 0.8659653663635254, 0.8503314256668091, 0.8855575919151306, 0.8448658585548401, 0.8267098069190979, 0.8268370032310486, 0.8181592226028442, 1.1628681421279907, 0.817520022392273, 0.8131731748580933, 0.8063421845436096, 0.8936448097229004, 0.8130049109458923, 0.80214524269104, 0.7999894618988037, 0.8051087856292725, 0.79868483543396, 0.8027011752128601, 0.8011804819107056, 0.7946569323539734, 0.8005953431129456, 0.7986651659011841, 0.7966488003730774, 0.7960048317909241, 1.1383332014083862, 0.795249879360199, 0.7961430549621582, 0.7954963445663452, 0.7958117127418518, 0.7962497472763062, 0.7953868508338928, 0.7945823073387146, 0.7950574159622192, 0.7960008978843689, 0.7939925193786621, 0.7942854762077332, 0.7945982813835144, 0.794725775718689, 0.7937806844711304, 0.79750657081604, 0.7947580218315125, 0.7975789904594421, 0.7944822907447815, 0.8002062439918518, 0.7935543060302734, 0.7931860089302063, 0.7932364344596863, 0.7944653630256653, 0.7930692434310913, 0.7941107153892517, 0.794888436794281, 0.793901264667511, 0.7942426800727844, 0.7930476069450378, 0.7932810187339783, 0.7935327291488647, 0.804480254650116, 0.7932626605033875, 0.7963106632232666, 0.79449063539505]\n"
     ]
    },
    {
     "name": "stderr",
     "output_type": "stream",
     "text": [
      " 75%|███████▌  | 75/100 [31:07<09:16, 22.27s/it]"
     ]
    },
    {
     "name": "stdout",
     "output_type": "stream",
     "text": [
      "[1.6519874334335327, 1.5915144681930542, 1.585037112236023, 1.4024659395217896, 1.3946133852005005, 1.1930017471313477, 1.1039574146270752, 0.9772248864173889, 1.328504204750061, 1.2628916501998901, 1.0601506233215332, 0.8797599673271179, 1.2181521654129028, 1.0476351976394653, 0.8659653663635254, 0.8503314256668091, 0.8855575919151306, 0.8448658585548401, 0.8267098069190979, 0.8268370032310486, 0.8181592226028442, 1.1628681421279907, 0.817520022392273, 0.8131731748580933, 0.8063421845436096, 0.8936448097229004, 0.8130049109458923, 0.80214524269104, 0.7999894618988037, 0.8051087856292725, 0.79868483543396, 0.8027011752128601, 0.8011804819107056, 0.7946569323539734, 0.8005953431129456, 0.7986651659011841, 0.7966488003730774, 0.7960048317909241, 1.1383332014083862, 0.795249879360199, 0.7961430549621582, 0.7954963445663452, 0.7958117127418518, 0.7962497472763062, 0.7953868508338928, 0.7945823073387146, 0.7950574159622192, 0.7960008978843689, 0.7939925193786621, 0.7942854762077332, 0.7945982813835144, 0.794725775718689, 0.7937806844711304, 0.79750657081604, 0.7947580218315125, 0.7975789904594421, 0.7944822907447815, 0.8002062439918518, 0.7935543060302734, 0.7931860089302063, 0.7932364344596863, 0.7944653630256653, 0.7930692434310913, 0.7941107153892517, 0.794888436794281, 0.793901264667511, 0.7942426800727844, 0.7930476069450378, 0.7932810187339783, 0.7935327291488647, 0.804480254650116, 0.7932626605033875, 0.7963106632232666, 0.79449063539505, 0.7932407259941101]\n"
     ]
    },
    {
     "name": "stderr",
     "output_type": "stream",
     "text": [
      " 76%|███████▌  | 76/100 [31:29<08:53, 22.24s/it]"
     ]
    },
    {
     "name": "stdout",
     "output_type": "stream",
     "text": [
      "[1.6519874334335327, 1.5915144681930542, 1.585037112236023, 1.4024659395217896, 1.3946133852005005, 1.1930017471313477, 1.1039574146270752, 0.9772248864173889, 1.328504204750061, 1.2628916501998901, 1.0601506233215332, 0.8797599673271179, 1.2181521654129028, 1.0476351976394653, 0.8659653663635254, 0.8503314256668091, 0.8855575919151306, 0.8448658585548401, 0.8267098069190979, 0.8268370032310486, 0.8181592226028442, 1.1628681421279907, 0.817520022392273, 0.8131731748580933, 0.8063421845436096, 0.8936448097229004, 0.8130049109458923, 0.80214524269104, 0.7999894618988037, 0.8051087856292725, 0.79868483543396, 0.8027011752128601, 0.8011804819107056, 0.7946569323539734, 0.8005953431129456, 0.7986651659011841, 0.7966488003730774, 0.7960048317909241, 1.1383332014083862, 0.795249879360199, 0.7961430549621582, 0.7954963445663452, 0.7958117127418518, 0.7962497472763062, 0.7953868508338928, 0.7945823073387146, 0.7950574159622192, 0.7960008978843689, 0.7939925193786621, 0.7942854762077332, 0.7945982813835144, 0.794725775718689, 0.7937806844711304, 0.79750657081604, 0.7947580218315125, 0.7975789904594421, 0.7944822907447815, 0.8002062439918518, 0.7935543060302734, 0.7931860089302063, 0.7932364344596863, 0.7944653630256653, 0.7930692434310913, 0.7941107153892517, 0.794888436794281, 0.793901264667511, 0.7942426800727844, 0.7930476069450378, 0.7932810187339783, 0.7935327291488647, 0.804480254650116, 0.7932626605033875, 0.7963106632232666, 0.79449063539505, 0.7932407259941101, 0.7938010692596436]\n"
     ]
    },
    {
     "name": "stderr",
     "output_type": "stream",
     "text": [
      " 77%|███████▋  | 77/100 [31:52<08:31, 22.23s/it]"
     ]
    },
    {
     "name": "stdout",
     "output_type": "stream",
     "text": [
      "[1.6519874334335327, 1.5915144681930542, 1.585037112236023, 1.4024659395217896, 1.3946133852005005, 1.1930017471313477, 1.1039574146270752, 0.9772248864173889, 1.328504204750061, 1.2628916501998901, 1.0601506233215332, 0.8797599673271179, 1.2181521654129028, 1.0476351976394653, 0.8659653663635254, 0.8503314256668091, 0.8855575919151306, 0.8448658585548401, 0.8267098069190979, 0.8268370032310486, 0.8181592226028442, 1.1628681421279907, 0.817520022392273, 0.8131731748580933, 0.8063421845436096, 0.8936448097229004, 0.8130049109458923, 0.80214524269104, 0.7999894618988037, 0.8051087856292725, 0.79868483543396, 0.8027011752128601, 0.8011804819107056, 0.7946569323539734, 0.8005953431129456, 0.7986651659011841, 0.7966488003730774, 0.7960048317909241, 1.1383332014083862, 0.795249879360199, 0.7961430549621582, 0.7954963445663452, 0.7958117127418518, 0.7962497472763062, 0.7953868508338928, 0.7945823073387146, 0.7950574159622192, 0.7960008978843689, 0.7939925193786621, 0.7942854762077332, 0.7945982813835144, 0.794725775718689, 0.7937806844711304, 0.79750657081604, 0.7947580218315125, 0.7975789904594421, 0.7944822907447815, 0.8002062439918518, 0.7935543060302734, 0.7931860089302063, 0.7932364344596863, 0.7944653630256653, 0.7930692434310913, 0.7941107153892517, 0.794888436794281, 0.793901264667511, 0.7942426800727844, 0.7930476069450378, 0.7932810187339783, 0.7935327291488647, 0.804480254650116, 0.7932626605033875, 0.7963106632232666, 0.79449063539505, 0.7932407259941101, 0.7938010692596436, 0.7931012511253357]\n"
     ]
    },
    {
     "name": "stderr",
     "output_type": "stream",
     "text": [
      " 78%|███████▊  | 78/100 [32:14<08:08, 22.20s/it]"
     ]
    },
    {
     "name": "stdout",
     "output_type": "stream",
     "text": [
      "[1.6519874334335327, 1.5915144681930542, 1.585037112236023, 1.4024659395217896, 1.3946133852005005, 1.1930017471313477, 1.1039574146270752, 0.9772248864173889, 1.328504204750061, 1.2628916501998901, 1.0601506233215332, 0.8797599673271179, 1.2181521654129028, 1.0476351976394653, 0.8659653663635254, 0.8503314256668091, 0.8855575919151306, 0.8448658585548401, 0.8267098069190979, 0.8268370032310486, 0.8181592226028442, 1.1628681421279907, 0.817520022392273, 0.8131731748580933, 0.8063421845436096, 0.8936448097229004, 0.8130049109458923, 0.80214524269104, 0.7999894618988037, 0.8051087856292725, 0.79868483543396, 0.8027011752128601, 0.8011804819107056, 0.7946569323539734, 0.8005953431129456, 0.7986651659011841, 0.7966488003730774, 0.7960048317909241, 1.1383332014083862, 0.795249879360199, 0.7961430549621582, 0.7954963445663452, 0.7958117127418518, 0.7962497472763062, 0.7953868508338928, 0.7945823073387146, 0.7950574159622192, 0.7960008978843689, 0.7939925193786621, 0.7942854762077332, 0.7945982813835144, 0.794725775718689, 0.7937806844711304, 0.79750657081604, 0.7947580218315125, 0.7975789904594421, 0.7944822907447815, 0.8002062439918518, 0.7935543060302734, 0.7931860089302063, 0.7932364344596863, 0.7944653630256653, 0.7930692434310913, 0.7941107153892517, 0.794888436794281, 0.793901264667511, 0.7942426800727844, 0.7930476069450378, 0.7932810187339783, 0.7935327291488647, 0.804480254650116, 0.7932626605033875, 0.7963106632232666, 0.79449063539505, 0.7932407259941101, 0.7938010692596436, 0.7931012511253357, 0.7928975820541382]\n"
     ]
    },
    {
     "name": "stderr",
     "output_type": "stream",
     "text": [
      " 79%|███████▉  | 79/100 [32:36<07:46, 22.22s/it]"
     ]
    },
    {
     "name": "stdout",
     "output_type": "stream",
     "text": [
      "[1.6519874334335327, 1.5915144681930542, 1.585037112236023, 1.4024659395217896, 1.3946133852005005, 1.1930017471313477, 1.1039574146270752, 0.9772248864173889, 1.328504204750061, 1.2628916501998901, 1.0601506233215332, 0.8797599673271179, 1.2181521654129028, 1.0476351976394653, 0.8659653663635254, 0.8503314256668091, 0.8855575919151306, 0.8448658585548401, 0.8267098069190979, 0.8268370032310486, 0.8181592226028442, 1.1628681421279907, 0.817520022392273, 0.8131731748580933, 0.8063421845436096, 0.8936448097229004, 0.8130049109458923, 0.80214524269104, 0.7999894618988037, 0.8051087856292725, 0.79868483543396, 0.8027011752128601, 0.8011804819107056, 0.7946569323539734, 0.8005953431129456, 0.7986651659011841, 0.7966488003730774, 0.7960048317909241, 1.1383332014083862, 0.795249879360199, 0.7961430549621582, 0.7954963445663452, 0.7958117127418518, 0.7962497472763062, 0.7953868508338928, 0.7945823073387146, 0.7950574159622192, 0.7960008978843689, 0.7939925193786621, 0.7942854762077332, 0.7945982813835144, 0.794725775718689, 0.7937806844711304, 0.79750657081604, 0.7947580218315125, 0.7975789904594421, 0.7944822907447815, 0.8002062439918518, 0.7935543060302734, 0.7931860089302063, 0.7932364344596863, 0.7944653630256653, 0.7930692434310913, 0.7941107153892517, 0.794888436794281, 0.793901264667511, 0.7942426800727844, 0.7930476069450378, 0.7932810187339783, 0.7935327291488647, 0.804480254650116, 0.7932626605033875, 0.7963106632232666, 0.79449063539505, 0.7932407259941101, 0.7938010692596436, 0.7931012511253357, 0.7928975820541382, 0.7930675745010376]\n"
     ]
    },
    {
     "name": "stderr",
     "output_type": "stream",
     "text": [
      " 80%|████████  | 80/100 [32:58<07:24, 22.23s/it]"
     ]
    },
    {
     "name": "stdout",
     "output_type": "stream",
     "text": [
      "[1.6519874334335327, 1.5915144681930542, 1.585037112236023, 1.4024659395217896, 1.3946133852005005, 1.1930017471313477, 1.1039574146270752, 0.9772248864173889, 1.328504204750061, 1.2628916501998901, 1.0601506233215332, 0.8797599673271179, 1.2181521654129028, 1.0476351976394653, 0.8659653663635254, 0.8503314256668091, 0.8855575919151306, 0.8448658585548401, 0.8267098069190979, 0.8268370032310486, 0.8181592226028442, 1.1628681421279907, 0.817520022392273, 0.8131731748580933, 0.8063421845436096, 0.8936448097229004, 0.8130049109458923, 0.80214524269104, 0.7999894618988037, 0.8051087856292725, 0.79868483543396, 0.8027011752128601, 0.8011804819107056, 0.7946569323539734, 0.8005953431129456, 0.7986651659011841, 0.7966488003730774, 0.7960048317909241, 1.1383332014083862, 0.795249879360199, 0.7961430549621582, 0.7954963445663452, 0.7958117127418518, 0.7962497472763062, 0.7953868508338928, 0.7945823073387146, 0.7950574159622192, 0.7960008978843689, 0.7939925193786621, 0.7942854762077332, 0.7945982813835144, 0.794725775718689, 0.7937806844711304, 0.79750657081604, 0.7947580218315125, 0.7975789904594421, 0.7944822907447815, 0.8002062439918518, 0.7935543060302734, 0.7931860089302063, 0.7932364344596863, 0.7944653630256653, 0.7930692434310913, 0.7941107153892517, 0.794888436794281, 0.793901264667511, 0.7942426800727844, 0.7930476069450378, 0.7932810187339783, 0.7935327291488647, 0.804480254650116, 0.7932626605033875, 0.7963106632232666, 0.79449063539505, 0.7932407259941101, 0.7938010692596436, 0.7931012511253357, 0.7928975820541382, 0.7930675745010376, 0.7932989001274109]\n"
     ]
    },
    {
     "name": "stderr",
     "output_type": "stream",
     "text": [
      " 81%|████████  | 81/100 [33:20<07:01, 22.20s/it]"
     ]
    },
    {
     "name": "stdout",
     "output_type": "stream",
     "text": [
      "[1.6519874334335327, 1.5915144681930542, 1.585037112236023, 1.4024659395217896, 1.3946133852005005, 1.1930017471313477, 1.1039574146270752, 0.9772248864173889, 1.328504204750061, 1.2628916501998901, 1.0601506233215332, 0.8797599673271179, 1.2181521654129028, 1.0476351976394653, 0.8659653663635254, 0.8503314256668091, 0.8855575919151306, 0.8448658585548401, 0.8267098069190979, 0.8268370032310486, 0.8181592226028442, 1.1628681421279907, 0.817520022392273, 0.8131731748580933, 0.8063421845436096, 0.8936448097229004, 0.8130049109458923, 0.80214524269104, 0.7999894618988037, 0.8051087856292725, 0.79868483543396, 0.8027011752128601, 0.8011804819107056, 0.7946569323539734, 0.8005953431129456, 0.7986651659011841, 0.7966488003730774, 0.7960048317909241, 1.1383332014083862, 0.795249879360199, 0.7961430549621582, 0.7954963445663452, 0.7958117127418518, 0.7962497472763062, 0.7953868508338928, 0.7945823073387146, 0.7950574159622192, 0.7960008978843689, 0.7939925193786621, 0.7942854762077332, 0.7945982813835144, 0.794725775718689, 0.7937806844711304, 0.79750657081604, 0.7947580218315125, 0.7975789904594421, 0.7944822907447815, 0.8002062439918518, 0.7935543060302734, 0.7931860089302063, 0.7932364344596863, 0.7944653630256653, 0.7930692434310913, 0.7941107153892517, 0.794888436794281, 0.793901264667511, 0.7942426800727844, 0.7930476069450378, 0.7932810187339783, 0.7935327291488647, 0.804480254650116, 0.7932626605033875, 0.7963106632232666, 0.79449063539505, 0.7932407259941101, 0.7938010692596436, 0.7931012511253357, 0.7928975820541382, 0.7930675745010376, 0.7932989001274109, 0.7929293513298035]\n"
     ]
    },
    {
     "name": "stderr",
     "output_type": "stream",
     "text": [
      " 82%|████████▏ | 82/100 [33:43<06:39, 22.22s/it]"
     ]
    },
    {
     "name": "stdout",
     "output_type": "stream",
     "text": [
      "[1.6519874334335327, 1.5915144681930542, 1.585037112236023, 1.4024659395217896, 1.3946133852005005, 1.1930017471313477, 1.1039574146270752, 0.9772248864173889, 1.328504204750061, 1.2628916501998901, 1.0601506233215332, 0.8797599673271179, 1.2181521654129028, 1.0476351976394653, 0.8659653663635254, 0.8503314256668091, 0.8855575919151306, 0.8448658585548401, 0.8267098069190979, 0.8268370032310486, 0.8181592226028442, 1.1628681421279907, 0.817520022392273, 0.8131731748580933, 0.8063421845436096, 0.8936448097229004, 0.8130049109458923, 0.80214524269104, 0.7999894618988037, 0.8051087856292725, 0.79868483543396, 0.8027011752128601, 0.8011804819107056, 0.7946569323539734, 0.8005953431129456, 0.7986651659011841, 0.7966488003730774, 0.7960048317909241, 1.1383332014083862, 0.795249879360199, 0.7961430549621582, 0.7954963445663452, 0.7958117127418518, 0.7962497472763062, 0.7953868508338928, 0.7945823073387146, 0.7950574159622192, 0.7960008978843689, 0.7939925193786621, 0.7942854762077332, 0.7945982813835144, 0.794725775718689, 0.7937806844711304, 0.79750657081604, 0.7947580218315125, 0.7975789904594421, 0.7944822907447815, 0.8002062439918518, 0.7935543060302734, 0.7931860089302063, 0.7932364344596863, 0.7944653630256653, 0.7930692434310913, 0.7941107153892517, 0.794888436794281, 0.793901264667511, 0.7942426800727844, 0.7930476069450378, 0.7932810187339783, 0.7935327291488647, 0.804480254650116, 0.7932626605033875, 0.7963106632232666, 0.79449063539505, 0.7932407259941101, 0.7938010692596436, 0.7931012511253357, 0.7928975820541382, 0.7930675745010376, 0.7932989001274109, 0.7929293513298035, 0.7931433320045471]\n"
     ]
    },
    {
     "name": "stderr",
     "output_type": "stream",
     "text": [
      " 83%|████████▎ | 83/100 [34:05<06:17, 22.19s/it]"
     ]
    },
    {
     "name": "stdout",
     "output_type": "stream",
     "text": [
      "[1.6519874334335327, 1.5915144681930542, 1.585037112236023, 1.4024659395217896, 1.3946133852005005, 1.1930017471313477, 1.1039574146270752, 0.9772248864173889, 1.328504204750061, 1.2628916501998901, 1.0601506233215332, 0.8797599673271179, 1.2181521654129028, 1.0476351976394653, 0.8659653663635254, 0.8503314256668091, 0.8855575919151306, 0.8448658585548401, 0.8267098069190979, 0.8268370032310486, 0.8181592226028442, 1.1628681421279907, 0.817520022392273, 0.8131731748580933, 0.8063421845436096, 0.8936448097229004, 0.8130049109458923, 0.80214524269104, 0.7999894618988037, 0.8051087856292725, 0.79868483543396, 0.8027011752128601, 0.8011804819107056, 0.7946569323539734, 0.8005953431129456, 0.7986651659011841, 0.7966488003730774, 0.7960048317909241, 1.1383332014083862, 0.795249879360199, 0.7961430549621582, 0.7954963445663452, 0.7958117127418518, 0.7962497472763062, 0.7953868508338928, 0.7945823073387146, 0.7950574159622192, 0.7960008978843689, 0.7939925193786621, 0.7942854762077332, 0.7945982813835144, 0.794725775718689, 0.7937806844711304, 0.79750657081604, 0.7947580218315125, 0.7975789904594421, 0.7944822907447815, 0.8002062439918518, 0.7935543060302734, 0.7931860089302063, 0.7932364344596863, 0.7944653630256653, 0.7930692434310913, 0.7941107153892517, 0.794888436794281, 0.793901264667511, 0.7942426800727844, 0.7930476069450378, 0.7932810187339783, 0.7935327291488647, 0.804480254650116, 0.7932626605033875, 0.7963106632232666, 0.79449063539505, 0.7932407259941101, 0.7938010692596436, 0.7931012511253357, 0.7928975820541382, 0.7930675745010376, 0.7932989001274109, 0.7929293513298035, 0.7931433320045471, 0.7931625247001648]\n"
     ]
    },
    {
     "name": "stderr",
     "output_type": "stream",
     "text": [
      " 84%|████████▍ | 84/100 [34:27<05:55, 22.22s/it]"
     ]
    },
    {
     "name": "stdout",
     "output_type": "stream",
     "text": [
      "[1.6519874334335327, 1.5915144681930542, 1.585037112236023, 1.4024659395217896, 1.3946133852005005, 1.1930017471313477, 1.1039574146270752, 0.9772248864173889, 1.328504204750061, 1.2628916501998901, 1.0601506233215332, 0.8797599673271179, 1.2181521654129028, 1.0476351976394653, 0.8659653663635254, 0.8503314256668091, 0.8855575919151306, 0.8448658585548401, 0.8267098069190979, 0.8268370032310486, 0.8181592226028442, 1.1628681421279907, 0.817520022392273, 0.8131731748580933, 0.8063421845436096, 0.8936448097229004, 0.8130049109458923, 0.80214524269104, 0.7999894618988037, 0.8051087856292725, 0.79868483543396, 0.8027011752128601, 0.8011804819107056, 0.7946569323539734, 0.8005953431129456, 0.7986651659011841, 0.7966488003730774, 0.7960048317909241, 1.1383332014083862, 0.795249879360199, 0.7961430549621582, 0.7954963445663452, 0.7958117127418518, 0.7962497472763062, 0.7953868508338928, 0.7945823073387146, 0.7950574159622192, 0.7960008978843689, 0.7939925193786621, 0.7942854762077332, 0.7945982813835144, 0.794725775718689, 0.7937806844711304, 0.79750657081604, 0.7947580218315125, 0.7975789904594421, 0.7944822907447815, 0.8002062439918518, 0.7935543060302734, 0.7931860089302063, 0.7932364344596863, 0.7944653630256653, 0.7930692434310913, 0.7941107153892517, 0.794888436794281, 0.793901264667511, 0.7942426800727844, 0.7930476069450378, 0.7932810187339783, 0.7935327291488647, 0.804480254650116, 0.7932626605033875, 0.7963106632232666, 0.79449063539505, 0.7932407259941101, 0.7938010692596436, 0.7931012511253357, 0.7928975820541382, 0.7930675745010376, 0.7932989001274109, 0.7929293513298035, 0.7931433320045471, 0.7931625247001648, 0.7932407259941101]\n"
     ]
    },
    {
     "name": "stderr",
     "output_type": "stream",
     "text": [
      " 85%|████████▌ | 85/100 [34:50<05:34, 22.32s/it]"
     ]
    },
    {
     "name": "stdout",
     "output_type": "stream",
     "text": [
      "[1.6519874334335327, 1.5915144681930542, 1.585037112236023, 1.4024659395217896, 1.3946133852005005, 1.1930017471313477, 1.1039574146270752, 0.9772248864173889, 1.328504204750061, 1.2628916501998901, 1.0601506233215332, 0.8797599673271179, 1.2181521654129028, 1.0476351976394653, 0.8659653663635254, 0.8503314256668091, 0.8855575919151306, 0.8448658585548401, 0.8267098069190979, 0.8268370032310486, 0.8181592226028442, 1.1628681421279907, 0.817520022392273, 0.8131731748580933, 0.8063421845436096, 0.8936448097229004, 0.8130049109458923, 0.80214524269104, 0.7999894618988037, 0.8051087856292725, 0.79868483543396, 0.8027011752128601, 0.8011804819107056, 0.7946569323539734, 0.8005953431129456, 0.7986651659011841, 0.7966488003730774, 0.7960048317909241, 1.1383332014083862, 0.795249879360199, 0.7961430549621582, 0.7954963445663452, 0.7958117127418518, 0.7962497472763062, 0.7953868508338928, 0.7945823073387146, 0.7950574159622192, 0.7960008978843689, 0.7939925193786621, 0.7942854762077332, 0.7945982813835144, 0.794725775718689, 0.7937806844711304, 0.79750657081604, 0.7947580218315125, 0.7975789904594421, 0.7944822907447815, 0.8002062439918518, 0.7935543060302734, 0.7931860089302063, 0.7932364344596863, 0.7944653630256653, 0.7930692434310913, 0.7941107153892517, 0.794888436794281, 0.793901264667511, 0.7942426800727844, 0.7930476069450378, 0.7932810187339783, 0.7935327291488647, 0.804480254650116, 0.7932626605033875, 0.7963106632232666, 0.79449063539505, 0.7932407259941101, 0.7938010692596436, 0.7931012511253357, 0.7928975820541382, 0.7930675745010376, 0.7932989001274109, 0.7929293513298035, 0.7931433320045471, 0.7931625247001648, 0.7932407259941101, 0.7930291891098022]\n"
     ]
    },
    {
     "name": "stderr",
     "output_type": "stream",
     "text": [
      " 86%|████████▌ | 86/100 [35:12<05:12, 22.31s/it]"
     ]
    },
    {
     "name": "stdout",
     "output_type": "stream",
     "text": [
      "[1.6519874334335327, 1.5915144681930542, 1.585037112236023, 1.4024659395217896, 1.3946133852005005, 1.1930017471313477, 1.1039574146270752, 0.9772248864173889, 1.328504204750061, 1.2628916501998901, 1.0601506233215332, 0.8797599673271179, 1.2181521654129028, 1.0476351976394653, 0.8659653663635254, 0.8503314256668091, 0.8855575919151306, 0.8448658585548401, 0.8267098069190979, 0.8268370032310486, 0.8181592226028442, 1.1628681421279907, 0.817520022392273, 0.8131731748580933, 0.8063421845436096, 0.8936448097229004, 0.8130049109458923, 0.80214524269104, 0.7999894618988037, 0.8051087856292725, 0.79868483543396, 0.8027011752128601, 0.8011804819107056, 0.7946569323539734, 0.8005953431129456, 0.7986651659011841, 0.7966488003730774, 0.7960048317909241, 1.1383332014083862, 0.795249879360199, 0.7961430549621582, 0.7954963445663452, 0.7958117127418518, 0.7962497472763062, 0.7953868508338928, 0.7945823073387146, 0.7950574159622192, 0.7960008978843689, 0.7939925193786621, 0.7942854762077332, 0.7945982813835144, 0.794725775718689, 0.7937806844711304, 0.79750657081604, 0.7947580218315125, 0.7975789904594421, 0.7944822907447815, 0.8002062439918518, 0.7935543060302734, 0.7931860089302063, 0.7932364344596863, 0.7944653630256653, 0.7930692434310913, 0.7941107153892517, 0.794888436794281, 0.793901264667511, 0.7942426800727844, 0.7930476069450378, 0.7932810187339783, 0.7935327291488647, 0.804480254650116, 0.7932626605033875, 0.7963106632232666, 0.79449063539505, 0.7932407259941101, 0.7938010692596436, 0.7931012511253357, 0.7928975820541382, 0.7930675745010376, 0.7932989001274109, 0.7929293513298035, 0.7931433320045471, 0.7931625247001648, 0.7932407259941101, 0.7930291891098022, 0.7946754693984985]\n"
     ]
    },
    {
     "name": "stderr",
     "output_type": "stream",
     "text": [
      " 87%|████████▋ | 87/100 [35:34<04:49, 22.26s/it]"
     ]
    },
    {
     "name": "stdout",
     "output_type": "stream",
     "text": [
      "[1.6519874334335327, 1.5915144681930542, 1.585037112236023, 1.4024659395217896, 1.3946133852005005, 1.1930017471313477, 1.1039574146270752, 0.9772248864173889, 1.328504204750061, 1.2628916501998901, 1.0601506233215332, 0.8797599673271179, 1.2181521654129028, 1.0476351976394653, 0.8659653663635254, 0.8503314256668091, 0.8855575919151306, 0.8448658585548401, 0.8267098069190979, 0.8268370032310486, 0.8181592226028442, 1.1628681421279907, 0.817520022392273, 0.8131731748580933, 0.8063421845436096, 0.8936448097229004, 0.8130049109458923, 0.80214524269104, 0.7999894618988037, 0.8051087856292725, 0.79868483543396, 0.8027011752128601, 0.8011804819107056, 0.7946569323539734, 0.8005953431129456, 0.7986651659011841, 0.7966488003730774, 0.7960048317909241, 1.1383332014083862, 0.795249879360199, 0.7961430549621582, 0.7954963445663452, 0.7958117127418518, 0.7962497472763062, 0.7953868508338928, 0.7945823073387146, 0.7950574159622192, 0.7960008978843689, 0.7939925193786621, 0.7942854762077332, 0.7945982813835144, 0.794725775718689, 0.7937806844711304, 0.79750657081604, 0.7947580218315125, 0.7975789904594421, 0.7944822907447815, 0.8002062439918518, 0.7935543060302734, 0.7931860089302063, 0.7932364344596863, 0.7944653630256653, 0.7930692434310913, 0.7941107153892517, 0.794888436794281, 0.793901264667511, 0.7942426800727844, 0.7930476069450378, 0.7932810187339783, 0.7935327291488647, 0.804480254650116, 0.7932626605033875, 0.7963106632232666, 0.79449063539505, 0.7932407259941101, 0.7938010692596436, 0.7931012511253357, 0.7928975820541382, 0.7930675745010376, 0.7932989001274109, 0.7929293513298035, 0.7931433320045471, 0.7931625247001648, 0.7932407259941101, 0.7930291891098022, 0.7946754693984985, 0.7936179041862488]\n"
     ]
    },
    {
     "name": "stderr",
     "output_type": "stream",
     "text": [
      " 88%|████████▊ | 88/100 [35:56<04:27, 22.27s/it]"
     ]
    },
    {
     "name": "stdout",
     "output_type": "stream",
     "text": [
      "[1.6519874334335327, 1.5915144681930542, 1.585037112236023, 1.4024659395217896, 1.3946133852005005, 1.1930017471313477, 1.1039574146270752, 0.9772248864173889, 1.328504204750061, 1.2628916501998901, 1.0601506233215332, 0.8797599673271179, 1.2181521654129028, 1.0476351976394653, 0.8659653663635254, 0.8503314256668091, 0.8855575919151306, 0.8448658585548401, 0.8267098069190979, 0.8268370032310486, 0.8181592226028442, 1.1628681421279907, 0.817520022392273, 0.8131731748580933, 0.8063421845436096, 0.8936448097229004, 0.8130049109458923, 0.80214524269104, 0.7999894618988037, 0.8051087856292725, 0.79868483543396, 0.8027011752128601, 0.8011804819107056, 0.7946569323539734, 0.8005953431129456, 0.7986651659011841, 0.7966488003730774, 0.7960048317909241, 1.1383332014083862, 0.795249879360199, 0.7961430549621582, 0.7954963445663452, 0.7958117127418518, 0.7962497472763062, 0.7953868508338928, 0.7945823073387146, 0.7950574159622192, 0.7960008978843689, 0.7939925193786621, 0.7942854762077332, 0.7945982813835144, 0.794725775718689, 0.7937806844711304, 0.79750657081604, 0.7947580218315125, 0.7975789904594421, 0.7944822907447815, 0.8002062439918518, 0.7935543060302734, 0.7931860089302063, 0.7932364344596863, 0.7944653630256653, 0.7930692434310913, 0.7941107153892517, 0.794888436794281, 0.793901264667511, 0.7942426800727844, 0.7930476069450378, 0.7932810187339783, 0.7935327291488647, 0.804480254650116, 0.7932626605033875, 0.7963106632232666, 0.79449063539505, 0.7932407259941101, 0.7938010692596436, 0.7931012511253357, 0.7928975820541382, 0.7930675745010376, 0.7932989001274109, 0.7929293513298035, 0.7931433320045471, 0.7931625247001648, 0.7932407259941101, 0.7930291891098022, 0.7946754693984985, 0.7936179041862488, 0.7928851842880249]\n"
     ]
    },
    {
     "name": "stderr",
     "output_type": "stream",
     "text": [
      " 89%|████████▉ | 89/100 [36:19<04:04, 22.25s/it]"
     ]
    },
    {
     "name": "stdout",
     "output_type": "stream",
     "text": [
      "[1.6519874334335327, 1.5915144681930542, 1.585037112236023, 1.4024659395217896, 1.3946133852005005, 1.1930017471313477, 1.1039574146270752, 0.9772248864173889, 1.328504204750061, 1.2628916501998901, 1.0601506233215332, 0.8797599673271179, 1.2181521654129028, 1.0476351976394653, 0.8659653663635254, 0.8503314256668091, 0.8855575919151306, 0.8448658585548401, 0.8267098069190979, 0.8268370032310486, 0.8181592226028442, 1.1628681421279907, 0.817520022392273, 0.8131731748580933, 0.8063421845436096, 0.8936448097229004, 0.8130049109458923, 0.80214524269104, 0.7999894618988037, 0.8051087856292725, 0.79868483543396, 0.8027011752128601, 0.8011804819107056, 0.7946569323539734, 0.8005953431129456, 0.7986651659011841, 0.7966488003730774, 0.7960048317909241, 1.1383332014083862, 0.795249879360199, 0.7961430549621582, 0.7954963445663452, 0.7958117127418518, 0.7962497472763062, 0.7953868508338928, 0.7945823073387146, 0.7950574159622192, 0.7960008978843689, 0.7939925193786621, 0.7942854762077332, 0.7945982813835144, 0.794725775718689, 0.7937806844711304, 0.79750657081604, 0.7947580218315125, 0.7975789904594421, 0.7944822907447815, 0.8002062439918518, 0.7935543060302734, 0.7931860089302063, 0.7932364344596863, 0.7944653630256653, 0.7930692434310913, 0.7941107153892517, 0.794888436794281, 0.793901264667511, 0.7942426800727844, 0.7930476069450378, 0.7932810187339783, 0.7935327291488647, 0.804480254650116, 0.7932626605033875, 0.7963106632232666, 0.79449063539505, 0.7932407259941101, 0.7938010692596436, 0.7931012511253357, 0.7928975820541382, 0.7930675745010376, 0.7932989001274109, 0.7929293513298035, 0.7931433320045471, 0.7931625247001648, 0.7932407259941101, 0.7930291891098022, 0.7946754693984985, 0.7936179041862488, 0.7928851842880249, 0.7937470078468323]\n"
     ]
    },
    {
     "name": "stderr",
     "output_type": "stream",
     "text": [
      " 90%|█████████ | 90/100 [36:41<03:42, 22.21s/it]"
     ]
    },
    {
     "name": "stdout",
     "output_type": "stream",
     "text": [
      "[1.6519874334335327, 1.5915144681930542, 1.585037112236023, 1.4024659395217896, 1.3946133852005005, 1.1930017471313477, 1.1039574146270752, 0.9772248864173889, 1.328504204750061, 1.2628916501998901, 1.0601506233215332, 0.8797599673271179, 1.2181521654129028, 1.0476351976394653, 0.8659653663635254, 0.8503314256668091, 0.8855575919151306, 0.8448658585548401, 0.8267098069190979, 0.8268370032310486, 0.8181592226028442, 1.1628681421279907, 0.817520022392273, 0.8131731748580933, 0.8063421845436096, 0.8936448097229004, 0.8130049109458923, 0.80214524269104, 0.7999894618988037, 0.8051087856292725, 0.79868483543396, 0.8027011752128601, 0.8011804819107056, 0.7946569323539734, 0.8005953431129456, 0.7986651659011841, 0.7966488003730774, 0.7960048317909241, 1.1383332014083862, 0.795249879360199, 0.7961430549621582, 0.7954963445663452, 0.7958117127418518, 0.7962497472763062, 0.7953868508338928, 0.7945823073387146, 0.7950574159622192, 0.7960008978843689, 0.7939925193786621, 0.7942854762077332, 0.7945982813835144, 0.794725775718689, 0.7937806844711304, 0.79750657081604, 0.7947580218315125, 0.7975789904594421, 0.7944822907447815, 0.8002062439918518, 0.7935543060302734, 0.7931860089302063, 0.7932364344596863, 0.7944653630256653, 0.7930692434310913, 0.7941107153892517, 0.794888436794281, 0.793901264667511, 0.7942426800727844, 0.7930476069450378, 0.7932810187339783, 0.7935327291488647, 0.804480254650116, 0.7932626605033875, 0.7963106632232666, 0.79449063539505, 0.7932407259941101, 0.7938010692596436, 0.7931012511253357, 0.7928975820541382, 0.7930675745010376, 0.7932989001274109, 0.7929293513298035, 0.7931433320045471, 0.7931625247001648, 0.7932407259941101, 0.7930291891098022, 0.7946754693984985, 0.7936179041862488, 0.7928851842880249, 0.7937470078468323, 0.7935218214988708]\n"
     ]
    },
    {
     "name": "stderr",
     "output_type": "stream",
     "text": [
      " 91%|█████████ | 91/100 [37:03<03:19, 22.22s/it]"
     ]
    },
    {
     "name": "stdout",
     "output_type": "stream",
     "text": [
      "[1.6519874334335327, 1.5915144681930542, 1.585037112236023, 1.4024659395217896, 1.3946133852005005, 1.1930017471313477, 1.1039574146270752, 0.9772248864173889, 1.328504204750061, 1.2628916501998901, 1.0601506233215332, 0.8797599673271179, 1.2181521654129028, 1.0476351976394653, 0.8659653663635254, 0.8503314256668091, 0.8855575919151306, 0.8448658585548401, 0.8267098069190979, 0.8268370032310486, 0.8181592226028442, 1.1628681421279907, 0.817520022392273, 0.8131731748580933, 0.8063421845436096, 0.8936448097229004, 0.8130049109458923, 0.80214524269104, 0.7999894618988037, 0.8051087856292725, 0.79868483543396, 0.8027011752128601, 0.8011804819107056, 0.7946569323539734, 0.8005953431129456, 0.7986651659011841, 0.7966488003730774, 0.7960048317909241, 1.1383332014083862, 0.795249879360199, 0.7961430549621582, 0.7954963445663452, 0.7958117127418518, 0.7962497472763062, 0.7953868508338928, 0.7945823073387146, 0.7950574159622192, 0.7960008978843689, 0.7939925193786621, 0.7942854762077332, 0.7945982813835144, 0.794725775718689, 0.7937806844711304, 0.79750657081604, 0.7947580218315125, 0.7975789904594421, 0.7944822907447815, 0.8002062439918518, 0.7935543060302734, 0.7931860089302063, 0.7932364344596863, 0.7944653630256653, 0.7930692434310913, 0.7941107153892517, 0.794888436794281, 0.793901264667511, 0.7942426800727844, 0.7930476069450378, 0.7932810187339783, 0.7935327291488647, 0.804480254650116, 0.7932626605033875, 0.7963106632232666, 0.79449063539505, 0.7932407259941101, 0.7938010692596436, 0.7931012511253357, 0.7928975820541382, 0.7930675745010376, 0.7932989001274109, 0.7929293513298035, 0.7931433320045471, 0.7931625247001648, 0.7932407259941101, 0.7930291891098022, 0.7946754693984985, 0.7936179041862488, 0.7928851842880249, 0.7937470078468323, 0.7935218214988708, 0.7926865816116333]\n"
     ]
    },
    {
     "name": "stderr",
     "output_type": "stream",
     "text": [
      " 92%|█████████▏| 92/100 [37:25<02:57, 22.23s/it]"
     ]
    },
    {
     "name": "stdout",
     "output_type": "stream",
     "text": [
      "[1.6519874334335327, 1.5915144681930542, 1.585037112236023, 1.4024659395217896, 1.3946133852005005, 1.1930017471313477, 1.1039574146270752, 0.9772248864173889, 1.328504204750061, 1.2628916501998901, 1.0601506233215332, 0.8797599673271179, 1.2181521654129028, 1.0476351976394653, 0.8659653663635254, 0.8503314256668091, 0.8855575919151306, 0.8448658585548401, 0.8267098069190979, 0.8268370032310486, 0.8181592226028442, 1.1628681421279907, 0.817520022392273, 0.8131731748580933, 0.8063421845436096, 0.8936448097229004, 0.8130049109458923, 0.80214524269104, 0.7999894618988037, 0.8051087856292725, 0.79868483543396, 0.8027011752128601, 0.8011804819107056, 0.7946569323539734, 0.8005953431129456, 0.7986651659011841, 0.7966488003730774, 0.7960048317909241, 1.1383332014083862, 0.795249879360199, 0.7961430549621582, 0.7954963445663452, 0.7958117127418518, 0.7962497472763062, 0.7953868508338928, 0.7945823073387146, 0.7950574159622192, 0.7960008978843689, 0.7939925193786621, 0.7942854762077332, 0.7945982813835144, 0.794725775718689, 0.7937806844711304, 0.79750657081604, 0.7947580218315125, 0.7975789904594421, 0.7944822907447815, 0.8002062439918518, 0.7935543060302734, 0.7931860089302063, 0.7932364344596863, 0.7944653630256653, 0.7930692434310913, 0.7941107153892517, 0.794888436794281, 0.793901264667511, 0.7942426800727844, 0.7930476069450378, 0.7932810187339783, 0.7935327291488647, 0.804480254650116, 0.7932626605033875, 0.7963106632232666, 0.79449063539505, 0.7932407259941101, 0.7938010692596436, 0.7931012511253357, 0.7928975820541382, 0.7930675745010376, 0.7932989001274109, 0.7929293513298035, 0.7931433320045471, 0.7931625247001648, 0.7932407259941101, 0.7930291891098022, 0.7946754693984985, 0.7936179041862488, 0.7928851842880249, 0.7937470078468323, 0.7935218214988708, 0.7926865816116333, 0.7941291928291321]\n"
     ]
    },
    {
     "name": "stderr",
     "output_type": "stream",
     "text": [
      " 93%|█████████▎| 93/100 [37:47<02:35, 22.20s/it]"
     ]
    },
    {
     "name": "stdout",
     "output_type": "stream",
     "text": [
      "[1.6519874334335327, 1.5915144681930542, 1.585037112236023, 1.4024659395217896, 1.3946133852005005, 1.1930017471313477, 1.1039574146270752, 0.9772248864173889, 1.328504204750061, 1.2628916501998901, 1.0601506233215332, 0.8797599673271179, 1.2181521654129028, 1.0476351976394653, 0.8659653663635254, 0.8503314256668091, 0.8855575919151306, 0.8448658585548401, 0.8267098069190979, 0.8268370032310486, 0.8181592226028442, 1.1628681421279907, 0.817520022392273, 0.8131731748580933, 0.8063421845436096, 0.8936448097229004, 0.8130049109458923, 0.80214524269104, 0.7999894618988037, 0.8051087856292725, 0.79868483543396, 0.8027011752128601, 0.8011804819107056, 0.7946569323539734, 0.8005953431129456, 0.7986651659011841, 0.7966488003730774, 0.7960048317909241, 1.1383332014083862, 0.795249879360199, 0.7961430549621582, 0.7954963445663452, 0.7958117127418518, 0.7962497472763062, 0.7953868508338928, 0.7945823073387146, 0.7950574159622192, 0.7960008978843689, 0.7939925193786621, 0.7942854762077332, 0.7945982813835144, 0.794725775718689, 0.7937806844711304, 0.79750657081604, 0.7947580218315125, 0.7975789904594421, 0.7944822907447815, 0.8002062439918518, 0.7935543060302734, 0.7931860089302063, 0.7932364344596863, 0.7944653630256653, 0.7930692434310913, 0.7941107153892517, 0.794888436794281, 0.793901264667511, 0.7942426800727844, 0.7930476069450378, 0.7932810187339783, 0.7935327291488647, 0.804480254650116, 0.7932626605033875, 0.7963106632232666, 0.79449063539505, 0.7932407259941101, 0.7938010692596436, 0.7931012511253357, 0.7928975820541382, 0.7930675745010376, 0.7932989001274109, 0.7929293513298035, 0.7931433320045471, 0.7931625247001648, 0.7932407259941101, 0.7930291891098022, 0.7946754693984985, 0.7936179041862488, 0.7928851842880249, 0.7937470078468323, 0.7935218214988708, 0.7926865816116333, 0.7941291928291321, 0.7938085198402405]\n"
     ]
    },
    {
     "name": "stderr",
     "output_type": "stream",
     "text": [
      " 94%|█████████▍| 94/100 [38:10<02:13, 22.22s/it]"
     ]
    },
    {
     "name": "stdout",
     "output_type": "stream",
     "text": [
      "[1.6519874334335327, 1.5915144681930542, 1.585037112236023, 1.4024659395217896, 1.3946133852005005, 1.1930017471313477, 1.1039574146270752, 0.9772248864173889, 1.328504204750061, 1.2628916501998901, 1.0601506233215332, 0.8797599673271179, 1.2181521654129028, 1.0476351976394653, 0.8659653663635254, 0.8503314256668091, 0.8855575919151306, 0.8448658585548401, 0.8267098069190979, 0.8268370032310486, 0.8181592226028442, 1.1628681421279907, 0.817520022392273, 0.8131731748580933, 0.8063421845436096, 0.8936448097229004, 0.8130049109458923, 0.80214524269104, 0.7999894618988037, 0.8051087856292725, 0.79868483543396, 0.8027011752128601, 0.8011804819107056, 0.7946569323539734, 0.8005953431129456, 0.7986651659011841, 0.7966488003730774, 0.7960048317909241, 1.1383332014083862, 0.795249879360199, 0.7961430549621582, 0.7954963445663452, 0.7958117127418518, 0.7962497472763062, 0.7953868508338928, 0.7945823073387146, 0.7950574159622192, 0.7960008978843689, 0.7939925193786621, 0.7942854762077332, 0.7945982813835144, 0.794725775718689, 0.7937806844711304, 0.79750657081604, 0.7947580218315125, 0.7975789904594421, 0.7944822907447815, 0.8002062439918518, 0.7935543060302734, 0.7931860089302063, 0.7932364344596863, 0.7944653630256653, 0.7930692434310913, 0.7941107153892517, 0.794888436794281, 0.793901264667511, 0.7942426800727844, 0.7930476069450378, 0.7932810187339783, 0.7935327291488647, 0.804480254650116, 0.7932626605033875, 0.7963106632232666, 0.79449063539505, 0.7932407259941101, 0.7938010692596436, 0.7931012511253357, 0.7928975820541382, 0.7930675745010376, 0.7932989001274109, 0.7929293513298035, 0.7931433320045471, 0.7931625247001648, 0.7932407259941101, 0.7930291891098022, 0.7946754693984985, 0.7936179041862488, 0.7928851842880249, 0.7937470078468323, 0.7935218214988708, 0.7926865816116333, 0.7941291928291321, 0.7938085198402405, 0.792542040348053]\n"
     ]
    },
    {
     "name": "stderr",
     "output_type": "stream",
     "text": [
      " 95%|█████████▌| 95/100 [38:32<01:51, 22.29s/it]"
     ]
    },
    {
     "name": "stdout",
     "output_type": "stream",
     "text": [
      "[1.6519874334335327, 1.5915144681930542, 1.585037112236023, 1.4024659395217896, 1.3946133852005005, 1.1930017471313477, 1.1039574146270752, 0.9772248864173889, 1.328504204750061, 1.2628916501998901, 1.0601506233215332, 0.8797599673271179, 1.2181521654129028, 1.0476351976394653, 0.8659653663635254, 0.8503314256668091, 0.8855575919151306, 0.8448658585548401, 0.8267098069190979, 0.8268370032310486, 0.8181592226028442, 1.1628681421279907, 0.817520022392273, 0.8131731748580933, 0.8063421845436096, 0.8936448097229004, 0.8130049109458923, 0.80214524269104, 0.7999894618988037, 0.8051087856292725, 0.79868483543396, 0.8027011752128601, 0.8011804819107056, 0.7946569323539734, 0.8005953431129456, 0.7986651659011841, 0.7966488003730774, 0.7960048317909241, 1.1383332014083862, 0.795249879360199, 0.7961430549621582, 0.7954963445663452, 0.7958117127418518, 0.7962497472763062, 0.7953868508338928, 0.7945823073387146, 0.7950574159622192, 0.7960008978843689, 0.7939925193786621, 0.7942854762077332, 0.7945982813835144, 0.794725775718689, 0.7937806844711304, 0.79750657081604, 0.7947580218315125, 0.7975789904594421, 0.7944822907447815, 0.8002062439918518, 0.7935543060302734, 0.7931860089302063, 0.7932364344596863, 0.7944653630256653, 0.7930692434310913, 0.7941107153892517, 0.794888436794281, 0.793901264667511, 0.7942426800727844, 0.7930476069450378, 0.7932810187339783, 0.7935327291488647, 0.804480254650116, 0.7932626605033875, 0.7963106632232666, 0.79449063539505, 0.7932407259941101, 0.7938010692596436, 0.7931012511253357, 0.7928975820541382, 0.7930675745010376, 0.7932989001274109, 0.7929293513298035, 0.7931433320045471, 0.7931625247001648, 0.7932407259941101, 0.7930291891098022, 0.7946754693984985, 0.7936179041862488, 0.7928851842880249, 0.7937470078468323, 0.7935218214988708, 0.7926865816116333, 0.7941291928291321, 0.7938085198402405, 0.792542040348053, 0.7936343550682068]\n"
     ]
    },
    {
     "name": "stderr",
     "output_type": "stream",
     "text": [
      " 96%|█████████▌| 96/100 [38:54<01:28, 22.18s/it]"
     ]
    },
    {
     "name": "stdout",
     "output_type": "stream",
     "text": [
      "[1.6519874334335327, 1.5915144681930542, 1.585037112236023, 1.4024659395217896, 1.3946133852005005, 1.1930017471313477, 1.1039574146270752, 0.9772248864173889, 1.328504204750061, 1.2628916501998901, 1.0601506233215332, 0.8797599673271179, 1.2181521654129028, 1.0476351976394653, 0.8659653663635254, 0.8503314256668091, 0.8855575919151306, 0.8448658585548401, 0.8267098069190979, 0.8268370032310486, 0.8181592226028442, 1.1628681421279907, 0.817520022392273, 0.8131731748580933, 0.8063421845436096, 0.8936448097229004, 0.8130049109458923, 0.80214524269104, 0.7999894618988037, 0.8051087856292725, 0.79868483543396, 0.8027011752128601, 0.8011804819107056, 0.7946569323539734, 0.8005953431129456, 0.7986651659011841, 0.7966488003730774, 0.7960048317909241, 1.1383332014083862, 0.795249879360199, 0.7961430549621582, 0.7954963445663452, 0.7958117127418518, 0.7962497472763062, 0.7953868508338928, 0.7945823073387146, 0.7950574159622192, 0.7960008978843689, 0.7939925193786621, 0.7942854762077332, 0.7945982813835144, 0.794725775718689, 0.7937806844711304, 0.79750657081604, 0.7947580218315125, 0.7975789904594421, 0.7944822907447815, 0.8002062439918518, 0.7935543060302734, 0.7931860089302063, 0.7932364344596863, 0.7944653630256653, 0.7930692434310913, 0.7941107153892517, 0.794888436794281, 0.793901264667511, 0.7942426800727844, 0.7930476069450378, 0.7932810187339783, 0.7935327291488647, 0.804480254650116, 0.7932626605033875, 0.7963106632232666, 0.79449063539505, 0.7932407259941101, 0.7938010692596436, 0.7931012511253357, 0.7928975820541382, 0.7930675745010376, 0.7932989001274109, 0.7929293513298035, 0.7931433320045471, 0.7931625247001648, 0.7932407259941101, 0.7930291891098022, 0.7946754693984985, 0.7936179041862488, 0.7928851842880249, 0.7937470078468323, 0.7935218214988708, 0.7926865816116333, 0.7941291928291321, 0.7938085198402405, 0.792542040348053, 0.7936343550682068, 0.7928436398506165]\n"
     ]
    },
    {
     "name": "stderr",
     "output_type": "stream",
     "text": [
      " 97%|█████████▋| 97/100 [39:16<01:06, 22.12s/it]"
     ]
    },
    {
     "name": "stdout",
     "output_type": "stream",
     "text": [
      "[1.6519874334335327, 1.5915144681930542, 1.585037112236023, 1.4024659395217896, 1.3946133852005005, 1.1930017471313477, 1.1039574146270752, 0.9772248864173889, 1.328504204750061, 1.2628916501998901, 1.0601506233215332, 0.8797599673271179, 1.2181521654129028, 1.0476351976394653, 0.8659653663635254, 0.8503314256668091, 0.8855575919151306, 0.8448658585548401, 0.8267098069190979, 0.8268370032310486, 0.8181592226028442, 1.1628681421279907, 0.817520022392273, 0.8131731748580933, 0.8063421845436096, 0.8936448097229004, 0.8130049109458923, 0.80214524269104, 0.7999894618988037, 0.8051087856292725, 0.79868483543396, 0.8027011752128601, 0.8011804819107056, 0.7946569323539734, 0.8005953431129456, 0.7986651659011841, 0.7966488003730774, 0.7960048317909241, 1.1383332014083862, 0.795249879360199, 0.7961430549621582, 0.7954963445663452, 0.7958117127418518, 0.7962497472763062, 0.7953868508338928, 0.7945823073387146, 0.7950574159622192, 0.7960008978843689, 0.7939925193786621, 0.7942854762077332, 0.7945982813835144, 0.794725775718689, 0.7937806844711304, 0.79750657081604, 0.7947580218315125, 0.7975789904594421, 0.7944822907447815, 0.8002062439918518, 0.7935543060302734, 0.7931860089302063, 0.7932364344596863, 0.7944653630256653, 0.7930692434310913, 0.7941107153892517, 0.794888436794281, 0.793901264667511, 0.7942426800727844, 0.7930476069450378, 0.7932810187339783, 0.7935327291488647, 0.804480254650116, 0.7932626605033875, 0.7963106632232666, 0.79449063539505, 0.7932407259941101, 0.7938010692596436, 0.7931012511253357, 0.7928975820541382, 0.7930675745010376, 0.7932989001274109, 0.7929293513298035, 0.7931433320045471, 0.7931625247001648, 0.7932407259941101, 0.7930291891098022, 0.7946754693984985, 0.7936179041862488, 0.7928851842880249, 0.7937470078468323, 0.7935218214988708, 0.7926865816116333, 0.7941291928291321, 0.7938085198402405, 0.792542040348053, 0.7936343550682068, 0.7928436398506165, 0.7928450703620911]\n"
     ]
    },
    {
     "name": "stderr",
     "output_type": "stream",
     "text": [
      " 98%|█████████▊| 98/100 [39:38<00:44, 22.03s/it]"
     ]
    },
    {
     "name": "stdout",
     "output_type": "stream",
     "text": [
      "[1.6519874334335327, 1.5915144681930542, 1.585037112236023, 1.4024659395217896, 1.3946133852005005, 1.1930017471313477, 1.1039574146270752, 0.9772248864173889, 1.328504204750061, 1.2628916501998901, 1.0601506233215332, 0.8797599673271179, 1.2181521654129028, 1.0476351976394653, 0.8659653663635254, 0.8503314256668091, 0.8855575919151306, 0.8448658585548401, 0.8267098069190979, 0.8268370032310486, 0.8181592226028442, 1.1628681421279907, 0.817520022392273, 0.8131731748580933, 0.8063421845436096, 0.8936448097229004, 0.8130049109458923, 0.80214524269104, 0.7999894618988037, 0.8051087856292725, 0.79868483543396, 0.8027011752128601, 0.8011804819107056, 0.7946569323539734, 0.8005953431129456, 0.7986651659011841, 0.7966488003730774, 0.7960048317909241, 1.1383332014083862, 0.795249879360199, 0.7961430549621582, 0.7954963445663452, 0.7958117127418518, 0.7962497472763062, 0.7953868508338928, 0.7945823073387146, 0.7950574159622192, 0.7960008978843689, 0.7939925193786621, 0.7942854762077332, 0.7945982813835144, 0.794725775718689, 0.7937806844711304, 0.79750657081604, 0.7947580218315125, 0.7975789904594421, 0.7944822907447815, 0.8002062439918518, 0.7935543060302734, 0.7931860089302063, 0.7932364344596863, 0.7944653630256653, 0.7930692434310913, 0.7941107153892517, 0.794888436794281, 0.793901264667511, 0.7942426800727844, 0.7930476069450378, 0.7932810187339783, 0.7935327291488647, 0.804480254650116, 0.7932626605033875, 0.7963106632232666, 0.79449063539505, 0.7932407259941101, 0.7938010692596436, 0.7931012511253357, 0.7928975820541382, 0.7930675745010376, 0.7932989001274109, 0.7929293513298035, 0.7931433320045471, 0.7931625247001648, 0.7932407259941101, 0.7930291891098022, 0.7946754693984985, 0.7936179041862488, 0.7928851842880249, 0.7937470078468323, 0.7935218214988708, 0.7926865816116333, 0.7941291928291321, 0.7938085198402405, 0.792542040348053, 0.7936343550682068, 0.7928436398506165, 0.7928450703620911, 0.7940440773963928]\n"
     ]
    },
    {
     "name": "stderr",
     "output_type": "stream",
     "text": [
      " 99%|█████████▉| 99/100 [40:00<00:22, 22.01s/it]"
     ]
    },
    {
     "name": "stdout",
     "output_type": "stream",
     "text": [
      "[1.6519874334335327, 1.5915144681930542, 1.585037112236023, 1.4024659395217896, 1.3946133852005005, 1.1930017471313477, 1.1039574146270752, 0.9772248864173889, 1.328504204750061, 1.2628916501998901, 1.0601506233215332, 0.8797599673271179, 1.2181521654129028, 1.0476351976394653, 0.8659653663635254, 0.8503314256668091, 0.8855575919151306, 0.8448658585548401, 0.8267098069190979, 0.8268370032310486, 0.8181592226028442, 1.1628681421279907, 0.817520022392273, 0.8131731748580933, 0.8063421845436096, 0.8936448097229004, 0.8130049109458923, 0.80214524269104, 0.7999894618988037, 0.8051087856292725, 0.79868483543396, 0.8027011752128601, 0.8011804819107056, 0.7946569323539734, 0.8005953431129456, 0.7986651659011841, 0.7966488003730774, 0.7960048317909241, 1.1383332014083862, 0.795249879360199, 0.7961430549621582, 0.7954963445663452, 0.7958117127418518, 0.7962497472763062, 0.7953868508338928, 0.7945823073387146, 0.7950574159622192, 0.7960008978843689, 0.7939925193786621, 0.7942854762077332, 0.7945982813835144, 0.794725775718689, 0.7937806844711304, 0.79750657081604, 0.7947580218315125, 0.7975789904594421, 0.7944822907447815, 0.8002062439918518, 0.7935543060302734, 0.7931860089302063, 0.7932364344596863, 0.7944653630256653, 0.7930692434310913, 0.7941107153892517, 0.794888436794281, 0.793901264667511, 0.7942426800727844, 0.7930476069450378, 0.7932810187339783, 0.7935327291488647, 0.804480254650116, 0.7932626605033875, 0.7963106632232666, 0.79449063539505, 0.7932407259941101, 0.7938010692596436, 0.7931012511253357, 0.7928975820541382, 0.7930675745010376, 0.7932989001274109, 0.7929293513298035, 0.7931433320045471, 0.7931625247001648, 0.7932407259941101, 0.7930291891098022, 0.7946754693984985, 0.7936179041862488, 0.7928851842880249, 0.7937470078468323, 0.7935218214988708, 0.7926865816116333, 0.7941291928291321, 0.7938085198402405, 0.792542040348053, 0.7936343550682068, 0.7928436398506165, 0.7928450703620911, 0.7940440773963928, 0.7928797602653503]\n"
     ]
    },
    {
     "name": "stderr",
     "output_type": "stream",
     "text": [
      "100%|██████████| 100/100 [40:22<00:00, 24.22s/it]"
     ]
    },
    {
     "name": "stdout",
     "output_type": "stream",
     "text": [
      "[1.6519874334335327, 1.5915144681930542, 1.585037112236023, 1.4024659395217896, 1.3946133852005005, 1.1930017471313477, 1.1039574146270752, 0.9772248864173889, 1.328504204750061, 1.2628916501998901, 1.0601506233215332, 0.8797599673271179, 1.2181521654129028, 1.0476351976394653, 0.8659653663635254, 0.8503314256668091, 0.8855575919151306, 0.8448658585548401, 0.8267098069190979, 0.8268370032310486, 0.8181592226028442, 1.1628681421279907, 0.817520022392273, 0.8131731748580933, 0.8063421845436096, 0.8936448097229004, 0.8130049109458923, 0.80214524269104, 0.7999894618988037, 0.8051087856292725, 0.79868483543396, 0.8027011752128601, 0.8011804819107056, 0.7946569323539734, 0.8005953431129456, 0.7986651659011841, 0.7966488003730774, 0.7960048317909241, 1.1383332014083862, 0.795249879360199, 0.7961430549621582, 0.7954963445663452, 0.7958117127418518, 0.7962497472763062, 0.7953868508338928, 0.7945823073387146, 0.7950574159622192, 0.7960008978843689, 0.7939925193786621, 0.7942854762077332, 0.7945982813835144, 0.794725775718689, 0.7937806844711304, 0.79750657081604, 0.7947580218315125, 0.7975789904594421, 0.7944822907447815, 0.8002062439918518, 0.7935543060302734, 0.7931860089302063, 0.7932364344596863, 0.7944653630256653, 0.7930692434310913, 0.7941107153892517, 0.794888436794281, 0.793901264667511, 0.7942426800727844, 0.7930476069450378, 0.7932810187339783, 0.7935327291488647, 0.804480254650116, 0.7932626605033875, 0.7963106632232666, 0.79449063539505, 0.7932407259941101, 0.7938010692596436, 0.7931012511253357, 0.7928975820541382, 0.7930675745010376, 0.7932989001274109, 0.7929293513298035, 0.7931433320045471, 0.7931625247001648, 0.7932407259941101, 0.7930291891098022, 0.7946754693984985, 0.7936179041862488, 0.7928851842880249, 0.7937470078468323, 0.7935218214988708, 0.7926865816116333, 0.7941291928291321, 0.7938085198402405, 0.792542040348053, 0.7936343550682068, 0.7928436398506165, 0.7928450703620911, 0.7940440773963928, 0.7928797602653503, 0.793214738368988]\n"
     ]
    },
    {
     "name": "stderr",
     "output_type": "stream",
     "text": [
      "\n"
     ]
    }
   ],
   "source": [
    "losses = GAT_contrast_train(gat_contrast, mlp_contrast, contrastive_dataset, 100, scRNA_data.shape[0])"
   ]
  },
  {
   "cell_type": "code",
   "execution_count": 18,
   "id": "b44be1b5",
   "metadata": {},
   "outputs": [
    {
     "data": {
      "image/png": "[encoded data removed]",
      "text/plain": [
       "<Figure size 640x480 with 1 Axes>"
      ]
     },
     "metadata": {},
     "output_type": "display_data"
    }
   ],
   "source": [
    "plt.plot([i for i in range(len(losses))], losses)\n",
    "plt.xlabel('Epochs')\n",
    "plt.ylabel('Contrastive Loss')\n",
    "plt.show()"
   ]
  },
  {
   "cell_type": "code",
   "execution_count": 19,
   "id": "aed1bc60",
   "metadata": {},
   "outputs": [],
   "source": [
    "from sklearn.ensemble import RandomForestClassifier\n",
    "from sklearn.metrics import accuracy_score, confusion_matrix, precision_score, recall_score, ConfusionMatrixDisplay\n",
    "from sklearn.model_selection import RandomizedSearchCV, train_test_split"
   ]
  },
  {
   "cell_type": "code",
   "execution_count": 20,
   "id": "40db820b-cb67-4223-8edf-b959753ed9e8",
   "metadata": {},
   "outputs": [],
   "source": [
    "def RFC_test(model, dataset):\n",
    "    model.eval()\n",
    "    \n",
    "    e_nodes = dataset.get_e_nodes()\n",
    "    m_nodes = dataset.get_m_nodes()\n",
    "    edge_index = dataset.get_edge_index()\n",
    "\n",
    "    x = e_nodes + m_nodes\n",
    "    x = [model(i, edge_index).reshape(-1).detach().cpu().numpy() for i in x]\n",
    "    y = [0 for _ in range(len(e_nodes))] + [1 for _ in range(len(m_nodes))]\n",
    "\n",
    "    x_train, x_test, y_train, y_test = train_test_split(x, y, test_size=0.2)\n",
    " \n",
    "    rf = RandomForestClassifier()\n",
    "    rf.fit(x_train, y_train)\n",
    "    y_pred = rf.predict(x_test)\n",
    "\n",
    "    accuracy = accuracy_score(y_test, y_pred)\n",
    "    print(accuracy)"
   ]
  },
  {
   "cell_type": "code",
   "execution_count": 21,
   "id": "c2e88588-9f2d-43a3-84f0-0b9e985cdabc",
   "metadata": {},
   "outputs": [
    {
     "name": "stdout",
     "output_type": "stream",
     "text": [
      "0.9765625\n"
     ]
    }
   ],
   "source": [
    "RFC_test(gat_contrast, contrastive_dataset)"
   ]
  },
  {
   "cell_type": "code",
   "execution_count": null,
   "id": "749252f8-498c-408a-ad2d-0670eb1dfb4f",
   "metadata": {},
   "outputs": [],
   "source": []
  }
 ],
 "metadata": {
  "kernelspec": {
   "display_name": "Python 3 (ipykernel)",
   "language": "python",
   "name": "python3"
  },
  "language_info": {
   "codemirror_mode": {
    "name": "ipython",
    "version": 3
   },
   "file_extension": ".py",
   "mimetype": "text/x-python",
   "name": "python",
   "nbconvert_exporter": "python",
   "pygments_lexer": "ipython3",
   "version": "3.10.12"
  }
 },
 "nbformat": 4,
 "nbformat_minor": 5
}
