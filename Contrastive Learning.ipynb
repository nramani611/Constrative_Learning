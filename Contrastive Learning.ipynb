{
 "cells": [
  {
   "cell_type": "code",
   "execution_count": 1,
   "id": "580b0154",
   "metadata": {},
   "outputs": [],
   "source": [
    "import pandas as pd\n",
    "import requests\n",
    "from tqdm import tqdm\n",
    "import random\n",
    "import matplotlib.pyplot as plt"
   ]
  },
  {
   "cell_type": "code",
   "execution_count": 2,
   "id": "e0f049ff",
   "metadata": {},
   "outputs": [],
   "source": [
    "import torch\n",
    "import torch.nn.functional as F\n",
    "from torch.utils.data import DataLoader\n",
    "from torch.utils.data import random_split\n",
    "import torch.nn as nn\n",
    "from torch_geometric.data.batch import Batch\n",
    "from torch_geometric.data import Data\n",
    "from torch.utils.data import Dataset"
   ]
  },
  {
   "cell_type": "code",
   "execution_count": 3,
   "id": "a8c31da6",
   "metadata": {},
   "outputs": [
    {
     "data": {
      "text/plain": [
       "26364"
      ]
     },
     "execution_count": 3,
     "metadata": {},
     "output_type": "execute_result"
    }
   ],
   "source": [
    "scRNA_data = pd.read_csv('GSE200981_scRNAseq_processed.tsv', sep='\\t')\n",
    "scRNA_data.index = scRNA_data['Gene.names']\n",
    "scRNA_data = scRNA_data.drop('Gene.names', axis=1)\n",
    "len(scRNA_data)"
   ]
  },
  {
   "cell_type": "code",
   "execution_count": 4,
   "id": "4c03ab8a",
   "metadata": {},
   "outputs": [],
   "source": [
    "#Mapping string to protein names\n",
    "string_api_url = \"https://string-db.org/api\"\n",
    "output_format = \"tsv-no-header\"\n",
    "method = \"get_string_ids\"\n",
    "\n",
    "params = {\n",
    "\n",
    "    \"identifiers\" : \"\\r\".join(list(scRNA_data.index)), # your protein list\n",
    "    \"limit\": 1,\n",
    "    \"echo_query\": 1,\n",
    "    \"species\" : 9606, # species NCBI identifier \n",
    "    \"caller_identity\" : \"www.awesome_app.org\" # your app name\n",
    "\n",
    "}\n",
    "\n",
    "request_url = \"/\".join([string_api_url, output_format, method])\n",
    "\n",
    "results = requests.post(request_url, data=params)\n",
    "\n",
    "\n",
    "protein_2_string = dict()\n",
    "string_2_protein = dict()\n",
    "\n",
    "for line in results.text.strip().split(\"\\n\"):\n",
    "    l = line.split(\"\\t\")\n",
    "    protein_identifier, string_identifier = l[0], l[2]\n",
    "    protein_2_string[protein_identifier] = string_identifier\n",
    "    string_2_protein[string_identifier] = protein_identifier"
   ]
  },
  {
   "cell_type": "code",
   "execution_count": 5,
   "id": "7d6a6999",
   "metadata": {},
   "outputs": [
    {
     "data": {
      "text/html": [
       "<div>\n",
       "<style scoped>\n",
       "    .dataframe tbody tr th:only-of-type {\n",
       "        vertical-align: middle;\n",
       "    }\n",
       "\n",
       "    .dataframe tbody tr th {\n",
       "        vertical-align: top;\n",
       "    }\n",
       "\n",
       "    .dataframe thead th {\n",
       "        text-align: right;\n",
       "    }\n",
       "</style>\n",
       "<table border=\"1\" class=\"dataframe\">\n",
       "  <thead>\n",
       "    <tr style=\"text-align: right;\">\n",
       "      <th></th>\n",
       "      <th>V1_T0</th>\n",
       "      <th>V2_T0</th>\n",
       "      <th>V3_T0</th>\n",
       "      <th>V4_T0</th>\n",
       "      <th>V5_T0</th>\n",
       "      <th>V6_T0</th>\n",
       "      <th>V7_T0</th>\n",
       "      <th>V8_T0</th>\n",
       "      <th>V9_T0</th>\n",
       "      <th>V10_T0</th>\n",
       "      <th>...</th>\n",
       "      <th>V247_T7</th>\n",
       "      <th>V248_T7</th>\n",
       "      <th>V249_T7</th>\n",
       "      <th>V250_T7</th>\n",
       "      <th>V251_T7</th>\n",
       "      <th>V252_T7</th>\n",
       "      <th>V253_T7</th>\n",
       "      <th>V254_T7</th>\n",
       "      <th>V255_T7</th>\n",
       "      <th>V256_T7</th>\n",
       "    </tr>\n",
       "    <tr>\n",
       "      <th>Gene.names</th>\n",
       "      <th></th>\n",
       "      <th></th>\n",
       "      <th></th>\n",
       "      <th></th>\n",
       "      <th></th>\n",
       "      <th></th>\n",
       "      <th></th>\n",
       "      <th></th>\n",
       "      <th></th>\n",
       "      <th></th>\n",
       "      <th></th>\n",
       "      <th></th>\n",
       "      <th></th>\n",
       "      <th></th>\n",
       "      <th></th>\n",
       "      <th></th>\n",
       "      <th></th>\n",
       "      <th></th>\n",
       "      <th></th>\n",
       "      <th></th>\n",
       "      <th></th>\n",
       "    </tr>\n",
       "  </thead>\n",
       "  <tbody>\n",
       "    <tr>\n",
       "      <th>OR4F5</th>\n",
       "      <td>0</td>\n",
       "      <td>0</td>\n",
       "      <td>0</td>\n",
       "      <td>0</td>\n",
       "      <td>0</td>\n",
       "      <td>0</td>\n",
       "      <td>0</td>\n",
       "      <td>0</td>\n",
       "      <td>0</td>\n",
       "      <td>0</td>\n",
       "      <td>...</td>\n",
       "      <td>0</td>\n",
       "      <td>0</td>\n",
       "      <td>0</td>\n",
       "      <td>0</td>\n",
       "      <td>0</td>\n",
       "      <td>0</td>\n",
       "      <td>0</td>\n",
       "      <td>0</td>\n",
       "      <td>0</td>\n",
       "      <td>0</td>\n",
       "    </tr>\n",
       "    <tr>\n",
       "      <th>OR4F3</th>\n",
       "      <td>0</td>\n",
       "      <td>0</td>\n",
       "      <td>0</td>\n",
       "      <td>0</td>\n",
       "      <td>0</td>\n",
       "      <td>0</td>\n",
       "      <td>0</td>\n",
       "      <td>0</td>\n",
       "      <td>0</td>\n",
       "      <td>0</td>\n",
       "      <td>...</td>\n",
       "      <td>0</td>\n",
       "      <td>0</td>\n",
       "      <td>0</td>\n",
       "      <td>0</td>\n",
       "      <td>0</td>\n",
       "      <td>0</td>\n",
       "      <td>0</td>\n",
       "      <td>0</td>\n",
       "      <td>0</td>\n",
       "      <td>0</td>\n",
       "    </tr>\n",
       "    <tr>\n",
       "      <th>OR4F29</th>\n",
       "      <td>0</td>\n",
       "      <td>0</td>\n",
       "      <td>0</td>\n",
       "      <td>0</td>\n",
       "      <td>0</td>\n",
       "      <td>0</td>\n",
       "      <td>0</td>\n",
       "      <td>0</td>\n",
       "      <td>0</td>\n",
       "      <td>0</td>\n",
       "      <td>...</td>\n",
       "      <td>0</td>\n",
       "      <td>0</td>\n",
       "      <td>0</td>\n",
       "      <td>0</td>\n",
       "      <td>0</td>\n",
       "      <td>0</td>\n",
       "      <td>0</td>\n",
       "      <td>0</td>\n",
       "      <td>0</td>\n",
       "      <td>0</td>\n",
       "    </tr>\n",
       "    <tr>\n",
       "      <th>OR4F16</th>\n",
       "      <td>0</td>\n",
       "      <td>0</td>\n",
       "      <td>0</td>\n",
       "      <td>0</td>\n",
       "      <td>0</td>\n",
       "      <td>0</td>\n",
       "      <td>0</td>\n",
       "      <td>0</td>\n",
       "      <td>0</td>\n",
       "      <td>0</td>\n",
       "      <td>...</td>\n",
       "      <td>0</td>\n",
       "      <td>0</td>\n",
       "      <td>0</td>\n",
       "      <td>0</td>\n",
       "      <td>0</td>\n",
       "      <td>0</td>\n",
       "      <td>0</td>\n",
       "      <td>0</td>\n",
       "      <td>0</td>\n",
       "      <td>0</td>\n",
       "    </tr>\n",
       "    <tr>\n",
       "      <th>SAMD11</th>\n",
       "      <td>0</td>\n",
       "      <td>0</td>\n",
       "      <td>0</td>\n",
       "      <td>0</td>\n",
       "      <td>0</td>\n",
       "      <td>0</td>\n",
       "      <td>0</td>\n",
       "      <td>0</td>\n",
       "      <td>0</td>\n",
       "      <td>0</td>\n",
       "      <td>...</td>\n",
       "      <td>0</td>\n",
       "      <td>0</td>\n",
       "      <td>0</td>\n",
       "      <td>0</td>\n",
       "      <td>0</td>\n",
       "      <td>0</td>\n",
       "      <td>0</td>\n",
       "      <td>0</td>\n",
       "      <td>0</td>\n",
       "      <td>0</td>\n",
       "    </tr>\n",
       "    <tr>\n",
       "      <th>...</th>\n",
       "      <td>...</td>\n",
       "      <td>...</td>\n",
       "      <td>...</td>\n",
       "      <td>...</td>\n",
       "      <td>...</td>\n",
       "      <td>...</td>\n",
       "      <td>...</td>\n",
       "      <td>...</td>\n",
       "      <td>...</td>\n",
       "      <td>...</td>\n",
       "      <td>...</td>\n",
       "      <td>...</td>\n",
       "      <td>...</td>\n",
       "      <td>...</td>\n",
       "      <td>...</td>\n",
       "      <td>...</td>\n",
       "      <td>...</td>\n",
       "      <td>...</td>\n",
       "      <td>...</td>\n",
       "      <td>...</td>\n",
       "      <td>...</td>\n",
       "    </tr>\n",
       "    <tr>\n",
       "      <th>DAZ1</th>\n",
       "      <td>0</td>\n",
       "      <td>0</td>\n",
       "      <td>0</td>\n",
       "      <td>0</td>\n",
       "      <td>0</td>\n",
       "      <td>0</td>\n",
       "      <td>0</td>\n",
       "      <td>0</td>\n",
       "      <td>0</td>\n",
       "      <td>0</td>\n",
       "      <td>...</td>\n",
       "      <td>0</td>\n",
       "      <td>0</td>\n",
       "      <td>0</td>\n",
       "      <td>0</td>\n",
       "      <td>0</td>\n",
       "      <td>0</td>\n",
       "      <td>0</td>\n",
       "      <td>0</td>\n",
       "      <td>0</td>\n",
       "      <td>0</td>\n",
       "    </tr>\n",
       "    <tr>\n",
       "      <th>DAZ3</th>\n",
       "      <td>0</td>\n",
       "      <td>0</td>\n",
       "      <td>0</td>\n",
       "      <td>0</td>\n",
       "      <td>0</td>\n",
       "      <td>0</td>\n",
       "      <td>0</td>\n",
       "      <td>0</td>\n",
       "      <td>0</td>\n",
       "      <td>0</td>\n",
       "      <td>...</td>\n",
       "      <td>0</td>\n",
       "      <td>0</td>\n",
       "      <td>0</td>\n",
       "      <td>0</td>\n",
       "      <td>0</td>\n",
       "      <td>0</td>\n",
       "      <td>0</td>\n",
       "      <td>0</td>\n",
       "      <td>0</td>\n",
       "      <td>0</td>\n",
       "    </tr>\n",
       "    <tr>\n",
       "      <th>DAZ2</th>\n",
       "      <td>0</td>\n",
       "      <td>0</td>\n",
       "      <td>0</td>\n",
       "      <td>0</td>\n",
       "      <td>0</td>\n",
       "      <td>0</td>\n",
       "      <td>0</td>\n",
       "      <td>0</td>\n",
       "      <td>0</td>\n",
       "      <td>0</td>\n",
       "      <td>...</td>\n",
       "      <td>0</td>\n",
       "      <td>0</td>\n",
       "      <td>0</td>\n",
       "      <td>0</td>\n",
       "      <td>0</td>\n",
       "      <td>0</td>\n",
       "      <td>0</td>\n",
       "      <td>0</td>\n",
       "      <td>0</td>\n",
       "      <td>0</td>\n",
       "    </tr>\n",
       "    <tr>\n",
       "      <th>CDY1B</th>\n",
       "      <td>0</td>\n",
       "      <td>0</td>\n",
       "      <td>0</td>\n",
       "      <td>0</td>\n",
       "      <td>0</td>\n",
       "      <td>0</td>\n",
       "      <td>0</td>\n",
       "      <td>0</td>\n",
       "      <td>0</td>\n",
       "      <td>0</td>\n",
       "      <td>...</td>\n",
       "      <td>0</td>\n",
       "      <td>0</td>\n",
       "      <td>0</td>\n",
       "      <td>0</td>\n",
       "      <td>0</td>\n",
       "      <td>0</td>\n",
       "      <td>0</td>\n",
       "      <td>0</td>\n",
       "      <td>0</td>\n",
       "      <td>0</td>\n",
       "    </tr>\n",
       "    <tr>\n",
       "      <th>CDY1</th>\n",
       "      <td>0</td>\n",
       "      <td>0</td>\n",
       "      <td>0</td>\n",
       "      <td>0</td>\n",
       "      <td>0</td>\n",
       "      <td>0</td>\n",
       "      <td>0</td>\n",
       "      <td>0</td>\n",
       "      <td>0</td>\n",
       "      <td>0</td>\n",
       "      <td>...</td>\n",
       "      <td>0</td>\n",
       "      <td>0</td>\n",
       "      <td>0</td>\n",
       "      <td>0</td>\n",
       "      <td>0</td>\n",
       "      <td>0</td>\n",
       "      <td>0</td>\n",
       "      <td>0</td>\n",
       "      <td>0</td>\n",
       "      <td>0</td>\n",
       "    </tr>\n",
       "  </tbody>\n",
       "</table>\n",
       "<p>18840 rows × 2125 columns</p>\n",
       "</div>"
      ],
      "text/plain": [
       "            V1_T0  V2_T0  V3_T0  V4_T0  V5_T0  V6_T0  V7_T0  V8_T0  V9_T0  \\\n",
       "Gene.names                                                                  \n",
       "OR4F5           0      0      0      0      0      0      0      0      0   \n",
       "OR4F3           0      0      0      0      0      0      0      0      0   \n",
       "OR4F29          0      0      0      0      0      0      0      0      0   \n",
       "OR4F16          0      0      0      0      0      0      0      0      0   \n",
       "SAMD11          0      0      0      0      0      0      0      0      0   \n",
       "...           ...    ...    ...    ...    ...    ...    ...    ...    ...   \n",
       "DAZ1            0      0      0      0      0      0      0      0      0   \n",
       "DAZ3            0      0      0      0      0      0      0      0      0   \n",
       "DAZ2            0      0      0      0      0      0      0      0      0   \n",
       "CDY1B           0      0      0      0      0      0      0      0      0   \n",
       "CDY1            0      0      0      0      0      0      0      0      0   \n",
       "\n",
       "            V10_T0  ...  V247_T7  V248_T7  V249_T7  V250_T7  V251_T7  V252_T7  \\\n",
       "Gene.names          ...                                                         \n",
       "OR4F5            0  ...        0        0        0        0        0        0   \n",
       "OR4F3            0  ...        0        0        0        0        0        0   \n",
       "OR4F29           0  ...        0        0        0        0        0        0   \n",
       "OR4F16           0  ...        0        0        0        0        0        0   \n",
       "SAMD11           0  ...        0        0        0        0        0        0   \n",
       "...            ...  ...      ...      ...      ...      ...      ...      ...   \n",
       "DAZ1             0  ...        0        0        0        0        0        0   \n",
       "DAZ3             0  ...        0        0        0        0        0        0   \n",
       "DAZ2             0  ...        0        0        0        0        0        0   \n",
       "CDY1B            0  ...        0        0        0        0        0        0   \n",
       "CDY1             0  ...        0        0        0        0        0        0   \n",
       "\n",
       "            V253_T7  V254_T7  V255_T7  V256_T7  \n",
       "Gene.names                                      \n",
       "OR4F5             0        0        0        0  \n",
       "OR4F3             0        0        0        0  \n",
       "OR4F29            0        0        0        0  \n",
       "OR4F16            0        0        0        0  \n",
       "SAMD11            0        0        0        0  \n",
       "...             ...      ...      ...      ...  \n",
       "DAZ1              0        0        0        0  \n",
       "DAZ3              0        0        0        0  \n",
       "DAZ2              0        0        0        0  \n",
       "CDY1B             0        0        0        0  \n",
       "CDY1              0        0        0        0  \n",
       "\n",
       "[18840 rows x 2125 columns]"
      ]
     },
     "execution_count": 5,
     "metadata": {},
     "output_type": "execute_result"
    }
   ],
   "source": [
    "scRNA_data = scRNA_data.loc[list(protein_2_string.keys())]\n",
    "scRNA_data"
   ]
  },
  {
   "cell_type": "code",
   "execution_count": 6,
   "id": "19d09c26",
   "metadata": {},
   "outputs": [],
   "source": [
    "import gc\n",
    "torch.cuda.empty_cache()\n",
    "gc.collect()\n",
    "device = torch.device('cuda' if torch.cuda.is_available() else 'cpu')\n",
    "#device = 'cpu'"
   ]
  },
  {
   "cell_type": "code",
   "execution_count": 7,
   "id": "188e2405",
   "metadata": {},
   "outputs": [
    {
     "data": {
      "text/plain": [
       "device(type='cuda')"
      ]
     },
     "execution_count": 7,
     "metadata": {},
     "output_type": "execute_result"
    }
   ],
   "source": [
    "device"
   ]
  },
  {
   "cell_type": "code",
   "execution_count": 8,
   "id": "c2ba9ade",
   "metadata": {},
   "outputs": [],
   "source": [
    "def get_all_protein_pairs(protein_list):\n",
    "    protein_pairs = []\n",
    "    for i in range(len(protein_list)):\n",
    "        protein1 = protein_list[i]\n",
    "        for j in range(i+1, len(protein_list)):\n",
    "            protein2 = protein_list[j]\n",
    "        \n",
    "            protein_pairs.append((protein1, protein2))\n",
    "            \n",
    "    return protein_pairs\n",
    "\n",
    "class Contrastive_Dataset(Dataset):\n",
    "    def __init__(self, scRNA_data, string_2_protein, batch_size):\n",
    "        self.counter = 0\n",
    "        self.e_counter = 0\n",
    "        self.m_counter = 0\n",
    "        self.batch_size = batch_size\n",
    "        filename = '9606.protein.links.v12.0.txt'\n",
    "\n",
    "        file = open(filename, 'r')\n",
    "        lines = file.readlines()\n",
    "        lines.pop(0)\n",
    "\n",
    "        string_2_index = dict()\n",
    "        counter = 0\n",
    "        for string_id in string_2_protein:\n",
    "            string_2_index[string_id] = counter\n",
    "            counter += 1\n",
    "\n",
    "        list_network = list()\n",
    "        \n",
    "        \"\"\"self.train_node_features = list()\n",
    "        self.train_list_outputs = list()\n",
    "        \n",
    "        self.test_node_features = list()\n",
    "        self.test_list_outputs = list()\n",
    "        \n",
    "        self.val_node_features = list()\n",
    "        self.val_list_outputs = list()\"\"\"\n",
    "        \n",
    "        self.e_nodes = list()\n",
    "        self.m_nodes = list()\n",
    "\n",
    "        print('Getting network tensor...')\n",
    "        for line in tqdm(lines):\n",
    "            line = line.strip().split(' ')\n",
    "\n",
    "            if int(line[2]) >= 999:\n",
    "\n",
    "                try:\n",
    "                    id1 = string_2_index[line[0]]\n",
    "                    id2 = string_2_index[line[1]]\n",
    "                    list_network.append([id1, id2])\n",
    "                    list_network.append([id2, id1])\n",
    "\n",
    "                except KeyError:\n",
    "                    continue\n",
    "\n",
    "        print('Getting node features tensor...')\n",
    "        T0_column_vals = [column for column in scRNA_data.columns if 'T0' in column]\n",
    "        T8_column_vals = [column for column in scRNA_data.columns if 'T7' in column]\n",
    "        \n",
    "        proteins = set([string_2_protein[string_id] for string_id in string_2_index])\n",
    "        #train_proteins, test_proteins, validate_proteins = np.split(proteins, [int(len(proteins)*0.7), int(len(proteins*0.9))])\n",
    "        \n",
    "        #train_protein_pairs = get_all_protein_pairs(train_proteins)\n",
    "        #testing_protein_pairs = get_all_protein_pairs(test_proteins)\n",
    "        #validate_protein_pairs = get_all_protein_pairs(validate_proteins)\n",
    "        \n",
    "        #for \n",
    "        \n",
    "        for column in T0_column_vals:   \n",
    "            self.e_nodes.append(torch.tensor([scRNA_data.loc[protein, column] for protein in proteins], dtype=torch.float32).to(device))\n",
    "                                        \n",
    "        for column in T8_column_vals:\n",
    "            self.m_nodes.append(torch.tensor([scRNA_data.loc[protein, column] for protein in proteins], dtype=torch.float32).to(device))\n",
    "        \n",
    "        self.edge_index = torch.tensor(list_network).t().contiguous()\n",
    "        self.edge_index = self.edge_index.to(device)\n",
    "        \n",
    "        self.e_nodes = [i.view(len(i), 1) for i in self.e_nodes]\n",
    "        self.m_nodes = [i.view(len(i), 1) for i in self.m_nodes]\n",
    "        #self.len = len(self.e_nodes)\n",
    "        #print(len(self.e_nodes), len(self.m_nodes))\n",
    "    \n",
    "    def __getitem__(self, idx):\n",
    "        return self.e_nodes[idx], self.m_nodes[idx], self.edge_index\n",
    "        \"\"\"if self.counter == self.batch_size:\n",
    "            self.counter = 0\n",
    "        if self.counter < self.batch_size//2:\n",
    "            self.counter += 1\n",
    "            self.e_counter += 1\n",
    "            return self.e_nodes[self.e_counter - 1], self.edge_index\n",
    "        elif self.counter >= self.batch_size//2:\n",
    "            self.counter += 1\n",
    "            self.m_counter += 1\n",
    "            return self.m_nodes[self.m_counter-1], self.edge_index\"\"\"\n",
    "            \n",
    "    def get_e_nodes(self):\n",
    "        return self.e_nodes\n",
    "    \n",
    "    def get_m_nodes(self):\n",
    "        return self.m_nodes#[0:10]\n",
    "    \n",
    "    def get_edge_index(self):\n",
    "        return self.edge_index\n",
    "\n",
    "    def shuffle(self):\n",
    "        random.shuffle(self.e_nodes)\n",
    "        random.shuffle(self.m_nodes)\n",
    "\n",
    "    def __len__(self):\n",
    "        return min(len(self.e_nodes), len(self.m_nodes))"
   ]
  },
  {
   "cell_type": "code",
   "execution_count": 9,
   "id": "41e2140c-0f5d-40a8-9b20-a6046b77d622",
   "metadata": {},
   "outputs": [],
   "source": [
    "def graph_collate_fn(batch):\n",
    "    m_node_features = []\n",
    "    e_node_features = []\n",
    "    graph_list = []\n",
    "    counter = 0\n",
    "    batch_size = len(batch)\n",
    "    \n",
    "    for ex in batch:\n",
    "        e_node, m_node, graph = ex\n",
    "        num_nodes = e_node.shape[0]\n",
    "        m_node_features.append(m_node)\n",
    "        e_node_features.append(e_node)\n",
    "\n",
    "    for i in range(batch_size):\n",
    "        graph_list.append(graph + num_nodes*i)\n",
    "    graphs_2 = graph_list[0:2]\n",
    "\n",
    "    e_node_features = torch.stack(e_node_features, dim=0)\n",
    "    e_node_features = torch.reshape(e_node_features, (e_node_features.shape[0]*e_node_features.shape[1], e_node_features.shape[2]))\n",
    "    \n",
    "    graphs = torch.cat(graph_list, 1)\n",
    "    graphs_2 = torch.cat(graphs_2, 1)\n",
    "\n",
    "    m_node_features = torch.stack(m_node_features, dim=0)\n",
    "    m_node_features = torch.reshape(m_node_features, (m_node_features.shape[0]*m_node_features.shape[1], m_node_features.shape[2]))\n",
    "    \n",
    "    return e_node_features, m_node_features, graphs_2, graphs"
   ]
  },
  {
   "cell_type": "code",
   "execution_count": 10,
   "id": "7c526903",
   "metadata": {},
   "outputs": [
    {
     "name": "stdout",
     "output_type": "stream",
     "text": [
      "Getting network tensor...\n"
     ]
    },
    {
     "name": "stderr",
     "output_type": "stream",
     "text": [
      "100%|██████████| 13715404/13715404 [00:07<00:00, 1862325.57it/s]\n"
     ]
    },
    {
     "name": "stdout",
     "output_type": "stream",
     "text": [
      "Getting node features tensor...\n"
     ]
    }
   ],
   "source": [
    "batch_size = 20\n",
    "contrastive_dataset = Contrastive_Dataset(scRNA_data, string_2_protein, batch_size)"
   ]
  },
  {
   "cell_type": "code",
   "execution_count": 11,
   "id": "05044b87-6f3f-402e-a92b-884da9b54716",
   "metadata": {},
   "outputs": [],
   "source": [
    "#contrastive_dataloader = DataLoader(contrastive_dataset, batch_size=batch_size, shuffle=True, collate_fn=graph_collate_fn)"
   ]
  },
  {
   "cell_type": "code",
   "execution_count": 12,
   "id": "fed0a37a",
   "metadata": {},
   "outputs": [],
   "source": [
    "def cosine_similarity(x1, x2, temp):\n",
    "    return (torch.dot(x1.reshape(x1.shape[1]), x2.reshape(x2.shape[1]))/(torch.norm(x1)*torch.norm(x2)))/temp\n",
    "    \n",
    "class ContrastiveLoss(nn.Module):\n",
    "    def __init__(self):\n",
    "        super(ContrastiveLoss, self).__init__()\n",
    "        self.temp = 1\n",
    "    \n",
    "    def forward(self, zn, zd):\n",
    "        zi = zn[0, :, :]\n",
    "        zj = zn[1, :, :].detach()\n",
    "        num = torch.exp(cosine_similarity(zi, zj, self.temp))\n",
    "        #print('Numerator')\n",
    "        #print(num)\n",
    "\n",
    "        #with torch.no_grad():\n",
    "        denom = sum([torch.exp(cosine_similarity(zi, zd[i, :, :].detach(), self.temp)) for i in range(zd.shape[0])])\n",
    "        #print('Denominator')\n",
    "        #print(denom)\n",
    "        return torch.multiply(torch.log(torch.divide(num, denom)), -1)"
   ]
  },
  {
   "cell_type": "code",
   "execution_count": 13,
   "id": "2ee06d8f-d772-4702-a898-0fd87a54b730",
   "metadata": {},
   "outputs": [],
   "source": [
    "def train_model(epochs, dataset, gat, mlp, optimizer):\n",
    "    torch.cuda.empty_cache()\n",
    "    criterion = ContrastiveLoss()\n",
    "    plot_losses = []\n",
    "    for _ in tqdm(range(epochs)):\n",
    "        dataset.shuffle()\n",
    "        dataloader = DataLoader(dataset, batch_size=10, shuffle=False, collate_fn=graph_collate_fn)\n",
    "        torch.cuda.empty_cache()\n",
    "        \n",
    "        for batch in dataloader:\n",
    "            batch_losses = []\n",
    "            e_nodes, m_nodes, graphs_2, graphs = batch\n",
    "            batch_size = e_nodes.shape[0]//18840\n",
    "            e_nodes_unstacked = torch.reshape(e_nodes, (batch_size, 1, -1))\n",
    "\n",
    "            zd = gat(m_nodes, graphs)\n",
    "            zd = mlp(zd)\n",
    "\n",
    "            all_losses = []\n",
    "            for i in range(e_nodes_unstacked.shape[0]):\n",
    "                xi = e_nodes_unstacked[i]\n",
    "                #print(xi)\n",
    "                for j in range(e_nodes_unstacked.shape[0]):\n",
    "                    if i == j: continue\n",
    "                    xj = e_nodes_unstacked[j]\n",
    "                    xn = torch.stack([xi, xj], dim=0)\n",
    "                    xn = torch.reshape(xn, (xn.shape[0]*xn.shape[2], xn.shape[1]))\n",
    "                    zn = gat(xn, graphs_2)\n",
    "                    zn = mlp(zn)\n",
    "\n",
    "                    loss = criterion(zn, zd)\n",
    "                    #print(loss)\n",
    "                    all_losses.append(loss)\n",
    "                    \n",
    "            #final_loss = sum(all_losses)/len(all_losses)\n",
    "            #batch_losses.append(final_loss.item())\n",
    "            #print(final_loss)\n",
    "            #final_loss.backward()\n",
    "            #optimizer.step()\n",
    "            #final_loss.detach()\n",
    "\n",
    "            m_nodes_unstacked = torch.reshape(m_nodes, (batch_size, 1, -1))\n",
    "\n",
    "            zd = gat(e_nodes, graphs)\n",
    "            zd = mlp(zd)\n",
    "\n",
    "            #all_losses = []\n",
    "            for i in range(m_nodes_unstacked.shape[0]):\n",
    "                xi = m_nodes_unstacked[i]\n",
    "                #print(xi)\n",
    "                for j in range(m_nodes_unstacked.shape[0]):\n",
    "                    if i == j: continue\n",
    "                    xj = m_nodes_unstacked[j]\n",
    "                    xn = torch.stack([xi, xj], dim=0)\n",
    "                    xn = torch.reshape(xn, (xn.shape[0]*xn.shape[2], xn.shape[1]))\n",
    "                    zn = gat(xn, graphs_2)\n",
    "                    zn = mlp(zn)\n",
    "\n",
    "                    loss = criterion(zn, zd)\n",
    "                    all_losses.append(loss)\n",
    "                    \n",
    "            final_loss = sum(all_losses)/len(all_losses)\n",
    "            batch_losses.append(final_loss.item())\n",
    "            #print(final_loss)\n",
    "            final_loss.backward()\n",
    "            optimizer.step()\n",
    "            #final_loss.detach()\n",
    "        plot_losses.append(sum(batch_losses)/len(batch_losses)) \n",
    "        print(plot_losses)\n",
    "    return plot_losses"
   ]
  },
  {
   "cell_type": "code",
   "execution_count": 18,
   "id": "c0bad582",
   "metadata": {},
   "outputs": [],
   "source": [
    "class GAT_Contrast(torch.nn.Module):\n",
    "    def __init__(self, in_channels, hidden_channels, out_channels, heads):\n",
    "        super().__init__()\n",
    "\n",
    "        self.conv1 = GATConv(in_channels, hidden_channels, heads, dropout = 0.6)\n",
    "        #self.conv2 = GATConv(hidden_channels*heads, out_channels, heads, dropout=0.6)\n",
    "        self.num_nodes = 18840\n",
    "        self.output_layer = nn.Linear(self.num_nodes*hidden_channels*heads, out_channels)\n",
    "        #self.columns = out_channels*heads\n",
    "\n",
    "    def forward(self, x, edge_index):\n",
    "        batch_size = x.shape[0]//self.num_nodes\n",
    "        x = self.conv1(x, edge_index)\n",
    "        x = F.relu(x)\n",
    "        x = torch.reshape(x, (batch_size, 1, -1))\n",
    "\n",
    "        x = self.output_layer(x)\n",
    "        x = F.relu(x)\n",
    "        return x\n",
    "\n",
    "class MLP(torch.nn.Module):\n",
    "    def __init__(self, in_channels, hidden_channels, out_channels):\n",
    "        super().__init__()\n",
    "\n",
    "        self.linear1 = nn.Linear(in_channels, hidden_channels)\n",
    "        self.linear2 = nn.Linear(hidden_channels, out_channels)\n",
    "        self.num_nodes = 18840\n",
    "\n",
    "    def forward(self, x):\n",
    "        #batch_size = x.shape[0]//self.num_nodes\n",
    "        #x = torch.reshape(x, (batch_size, 1, -1))\n",
    "        x = self.linear1(x)\n",
    "        x = F.relu(x)\n",
    "        x = self.linear2(x)\n",
    "        x = F.relu(x)\n",
    "        return x"
   ]
  },
  {
   "cell_type": "code",
   "execution_count": 19,
   "id": "1bc55b01",
   "metadata": {},
   "outputs": [],
   "source": [
    "import torch_geometric.utils\n",
    "from torch_geometric.nn import GATConv\n",
    "\n",
    "def GAT_contrast_train(gat, mlp, dataset, epochs, num_nodes, lr = 1e-6, weight_decay = 5e-4, temp=0.05):\n",
    "    torch.cuda.empty_cache()\n",
    "    params = list(gat.parameters()) + list(mlp.parameters())\n",
    "    optimizer = torch.optim.Adam(params, lr=lr, weight_decay=weight_decay)\n",
    "    criterion = ContrastiveLoss()\n",
    "    gat.train()\n",
    "    mlp.train()\n",
    "    optimizer.zero_grad()\n",
    "\n",
    "    losses = train_model(epochs, dataset, gat, mlp, optimizer)\n",
    "    return losses"
   ]
  },
  {
   "cell_type": "code",
   "execution_count": 22,
   "id": "7e3d2468",
   "metadata": {},
   "outputs": [],
   "source": [
    "#Need to put in tensor batches again\n",
    "gat_contrast = GAT_Contrast(1, 8, 64, 2).to(device)\n",
    "mlp_contrast = MLP(64, 32, 16).to(device)"
   ]
  },
  {
   "cell_type": "code",
   "execution_count": 23,
   "id": "b4d855cb",
   "metadata": {
    "scrolled": true
   },
   "outputs": [
    {
     "name": "stderr",
     "output_type": "stream",
     "text": [
      "  1%|          | 1/100 [00:25<41:46, 25.31s/it]"
     ]
    },
    {
     "name": "stdout",
     "output_type": "stream",
     "text": [
      "[1.7546837329864502]\n"
     ]
    },
    {
     "name": "stderr",
     "output_type": "stream",
     "text": [
      "  2%|▏         | 2/100 [00:50<41:06, 25.17s/it]"
     ]
    },
    {
     "name": "stdout",
     "output_type": "stream",
     "text": [
      "[1.7546837329864502, 1.5517641305923462]\n"
     ]
    },
    {
     "name": "stderr",
     "output_type": "stream",
     "text": [
      "  3%|▎         | 3/100 [01:15<40:32, 25.07s/it]"
     ]
    },
    {
     "name": "stdout",
     "output_type": "stream",
     "text": [
      "[1.7546837329864502, 1.5517641305923462, 1.1961331367492676]\n"
     ]
    },
    {
     "name": "stderr",
     "output_type": "stream",
     "text": [
      "  4%|▍         | 4/100 [01:40<40:03, 25.04s/it]"
     ]
    },
    {
     "name": "stdout",
     "output_type": "stream",
     "text": [
      "[1.7546837329864502, 1.5517641305923462, 1.1961331367492676, 1.253907322883606]\n"
     ]
    },
    {
     "name": "stderr",
     "output_type": "stream",
     "text": [
      "  5%|▌         | 5/100 [02:05<39:34, 24.99s/it]"
     ]
    },
    {
     "name": "stdout",
     "output_type": "stream",
     "text": [
      "[1.7546837329864502, 1.5517641305923462, 1.1961331367492676, 1.253907322883606, 0.9549305438995361]\n"
     ]
    },
    {
     "name": "stderr",
     "output_type": "stream",
     "text": [
      "  6%|▌         | 6/100 [02:30<39:03, 24.93s/it]"
     ]
    },
    {
     "name": "stdout",
     "output_type": "stream",
     "text": [
      "[1.7546837329864502, 1.5517641305923462, 1.1961331367492676, 1.253907322883606, 0.9549305438995361, 0.8409180641174316]\n"
     ]
    },
    {
     "name": "stderr",
     "output_type": "stream",
     "text": [
      "  7%|▋         | 7/100 [02:54<38:33, 24.87s/it]"
     ]
    },
    {
     "name": "stdout",
     "output_type": "stream",
     "text": [
      "[1.7546837329864502, 1.5517641305923462, 1.1961331367492676, 1.253907322883606, 0.9549305438995361, 0.8409180641174316, 0.9344982504844666]\n"
     ]
    },
    {
     "name": "stderr",
     "output_type": "stream",
     "text": [
      "  8%|▊         | 8/100 [03:19<38:15, 24.95s/it]"
     ]
    },
    {
     "name": "stdout",
     "output_type": "stream",
     "text": [
      "[1.7546837329864502, 1.5517641305923462, 1.1961331367492676, 1.253907322883606, 0.9549305438995361, 0.8409180641174316, 0.9344982504844666, 1.2062411308288574]\n"
     ]
    },
    {
     "name": "stderr",
     "output_type": "stream",
     "text": [
      "  9%|▉         | 9/100 [03:44<37:46, 24.91s/it]"
     ]
    },
    {
     "name": "stdout",
     "output_type": "stream",
     "text": [
      "[1.7546837329864502, 1.5517641305923462, 1.1961331367492676, 1.253907322883606, 0.9549305438995361, 0.8409180641174316, 0.9344982504844666, 1.2062411308288574, 0.9092323780059814]\n"
     ]
    },
    {
     "name": "stderr",
     "output_type": "stream",
     "text": [
      " 10%|█         | 10/100 [04:09<37:05, 24.73s/it]"
     ]
    },
    {
     "name": "stdout",
     "output_type": "stream",
     "text": [
      "[1.7546837329864502, 1.5517641305923462, 1.1961331367492676, 1.253907322883606, 0.9549305438995361, 0.8409180641174316, 0.9344982504844666, 1.2062411308288574, 0.9092323780059814, 0.8683468103408813]\n"
     ]
    },
    {
     "name": "stderr",
     "output_type": "stream",
     "text": [
      " 11%|█         | 11/100 [04:33<36:34, 24.65s/it]"
     ]
    },
    {
     "name": "stdout",
     "output_type": "stream",
     "text": [
      "[1.7546837329864502, 1.5517641305923462, 1.1961331367492676, 1.253907322883606, 0.9549305438995361, 0.8409180641174316, 0.9344982504844666, 1.2062411308288574, 0.9092323780059814, 0.8683468103408813, 0.8000071048736572]\n"
     ]
    },
    {
     "name": "stderr",
     "output_type": "stream",
     "text": [
      " 12%|█▏        | 12/100 [04:57<35:59, 24.54s/it]"
     ]
    },
    {
     "name": "stdout",
     "output_type": "stream",
     "text": [
      "[1.7546837329864502, 1.5517641305923462, 1.1961331367492676, 1.253907322883606, 0.9549305438995361, 0.8409180641174316, 0.9344982504844666, 1.2062411308288574, 0.9092323780059814, 0.8683468103408813, 0.8000071048736572, 0.8883180022239685]\n"
     ]
    },
    {
     "name": "stderr",
     "output_type": "stream",
     "text": [
      " 13%|█▎        | 13/100 [05:22<35:31, 24.50s/it]"
     ]
    },
    {
     "name": "stdout",
     "output_type": "stream",
     "text": [
      "[1.7546837329864502, 1.5517641305923462, 1.1961331367492676, 1.253907322883606, 0.9549305438995361, 0.8409180641174316, 0.9344982504844666, 1.2062411308288574, 0.9092323780059814, 0.8683468103408813, 0.8000071048736572, 0.8883180022239685, 0.8412086367607117]\n"
     ]
    },
    {
     "name": "stderr",
     "output_type": "stream",
     "text": [
      " 14%|█▍        | 14/100 [05:46<34:58, 24.40s/it]"
     ]
    },
    {
     "name": "stdout",
     "output_type": "stream",
     "text": [
      "[1.7546837329864502, 1.5517641305923462, 1.1961331367492676, 1.253907322883606, 0.9549305438995361, 0.8409180641174316, 0.9344982504844666, 1.2062411308288574, 0.9092323780059814, 0.8683468103408813, 0.8000071048736572, 0.8883180022239685, 0.8412086367607117, 0.7984576225280762]\n"
     ]
    },
    {
     "name": "stderr",
     "output_type": "stream",
     "text": [
      " 15%|█▌        | 15/100 [06:10<34:22, 24.26s/it]"
     ]
    },
    {
     "name": "stdout",
     "output_type": "stream",
     "text": [
      "[1.7546837329864502, 1.5517641305923462, 1.1961331367492676, 1.253907322883606, 0.9549305438995361, 0.8409180641174316, 0.9344982504844666, 1.2062411308288574, 0.9092323780059814, 0.8683468103408813, 0.8000071048736572, 0.8883180022239685, 0.8412086367607117, 0.7984576225280762, 0.8122421503067017]\n"
     ]
    },
    {
     "name": "stderr",
     "output_type": "stream",
     "text": [
      " 16%|█▌        | 16/100 [06:34<33:46, 24.12s/it]"
     ]
    },
    {
     "name": "stdout",
     "output_type": "stream",
     "text": [
      "[1.7546837329864502, 1.5517641305923462, 1.1961331367492676, 1.253907322883606, 0.9549305438995361, 0.8409180641174316, 0.9344982504844666, 1.2062411308288574, 0.9092323780059814, 0.8683468103408813, 0.8000071048736572, 0.8883180022239685, 0.8412086367607117, 0.7984576225280762, 0.8122421503067017, 0.8028316497802734]\n"
     ]
    },
    {
     "name": "stderr",
     "output_type": "stream",
     "text": [
      " 17%|█▋        | 17/100 [06:57<33:15, 24.04s/it]"
     ]
    },
    {
     "name": "stdout",
     "output_type": "stream",
     "text": [
      "[1.7546837329864502, 1.5517641305923462, 1.1961331367492676, 1.253907322883606, 0.9549305438995361, 0.8409180641174316, 0.9344982504844666, 1.2062411308288574, 0.9092323780059814, 0.8683468103408813, 0.8000071048736572, 0.8883180022239685, 0.8412086367607117, 0.7984576225280762, 0.8122421503067017, 0.8028316497802734, 0.7998448610305786]\n"
     ]
    },
    {
     "name": "stderr",
     "output_type": "stream",
     "text": [
      " 18%|█▊        | 18/100 [07:21<32:44, 23.95s/it]"
     ]
    },
    {
     "name": "stdout",
     "output_type": "stream",
     "text": [
      "[1.7546837329864502, 1.5517641305923462, 1.1961331367492676, 1.253907322883606, 0.9549305438995361, 0.8409180641174316, 0.9344982504844666, 1.2062411308288574, 0.9092323780059814, 0.8683468103408813, 0.8000071048736572, 0.8883180022239685, 0.8412086367607117, 0.7984576225280762, 0.8122421503067017, 0.8028316497802734, 0.7998448610305786, 0.7978290915489197]\n"
     ]
    },
    {
     "name": "stderr",
     "output_type": "stream",
     "text": [
      " 19%|█▉        | 19/100 [07:45<32:15, 23.90s/it]"
     ]
    },
    {
     "name": "stdout",
     "output_type": "stream",
     "text": [
      "[1.7546837329864502, 1.5517641305923462, 1.1961331367492676, 1.253907322883606, 0.9549305438995361, 0.8409180641174316, 0.9344982504844666, 1.2062411308288574, 0.9092323780059814, 0.8683468103408813, 0.8000071048736572, 0.8883180022239685, 0.8412086367607117, 0.7984576225280762, 0.8122421503067017, 0.8028316497802734, 0.7998448610305786, 0.7978290915489197, 0.8049805760383606]\n"
     ]
    },
    {
     "name": "stderr",
     "output_type": "stream",
     "text": [
      " 20%|██        | 20/100 [08:09<31:52, 23.90s/it]"
     ]
    },
    {
     "name": "stdout",
     "output_type": "stream",
     "text": [
      "[1.7546837329864502, 1.5517641305923462, 1.1961331367492676, 1.253907322883606, 0.9549305438995361, 0.8409180641174316, 0.9344982504844666, 1.2062411308288574, 0.9092323780059814, 0.8683468103408813, 0.8000071048736572, 0.8883180022239685, 0.8412086367607117, 0.7984576225280762, 0.8122421503067017, 0.8028316497802734, 0.7998448610305786, 0.7978290915489197, 0.8049805760383606, 0.8091869354248047]\n"
     ]
    },
    {
     "name": "stderr",
     "output_type": "stream",
     "text": [
      " 21%|██        | 21/100 [08:33<31:25, 23.86s/it]"
     ]
    },
    {
     "name": "stdout",
     "output_type": "stream",
     "text": [
      "[1.7546837329864502, 1.5517641305923462, 1.1961331367492676, 1.253907322883606, 0.9549305438995361, 0.8409180641174316, 0.9344982504844666, 1.2062411308288574, 0.9092323780059814, 0.8683468103408813, 0.8000071048736572, 0.8883180022239685, 0.8412086367607117, 0.7984576225280762, 0.8122421503067017, 0.8028316497802734, 0.7998448610305786, 0.7978290915489197, 0.8049805760383606, 0.8091869354248047, 0.7977853417396545]\n"
     ]
    },
    {
     "name": "stderr",
     "output_type": "stream",
     "text": [
      " 22%|██▏       | 22/100 [08:57<31:00, 23.85s/it]"
     ]
    },
    {
     "name": "stdout",
     "output_type": "stream",
     "text": [
      "[1.7546837329864502, 1.5517641305923462, 1.1961331367492676, 1.253907322883606, 0.9549305438995361, 0.8409180641174316, 0.9344982504844666, 1.2062411308288574, 0.9092323780059814, 0.8683468103408813, 0.8000071048736572, 0.8883180022239685, 0.8412086367607117, 0.7984576225280762, 0.8122421503067017, 0.8028316497802734, 0.7998448610305786, 0.7978290915489197, 0.8049805760383606, 0.8091869354248047, 0.7977853417396545, 0.7969744205474854]\n"
     ]
    },
    {
     "name": "stderr",
     "output_type": "stream",
     "text": [
      " 23%|██▎       | 23/100 [09:20<30:38, 23.88s/it]"
     ]
    },
    {
     "name": "stdout",
     "output_type": "stream",
     "text": [
      "[1.7546837329864502, 1.5517641305923462, 1.1961331367492676, 1.253907322883606, 0.9549305438995361, 0.8409180641174316, 0.9344982504844666, 1.2062411308288574, 0.9092323780059814, 0.8683468103408813, 0.8000071048736572, 0.8883180022239685, 0.8412086367607117, 0.7984576225280762, 0.8122421503067017, 0.8028316497802734, 0.7998448610305786, 0.7978290915489197, 0.8049805760383606, 0.8091869354248047, 0.7977853417396545, 0.7969744205474854, 0.796508252620697]\n"
     ]
    },
    {
     "name": "stderr",
     "output_type": "stream",
     "text": [
      " 24%|██▍       | 24/100 [09:44<30:14, 23.87s/it]"
     ]
    },
    {
     "name": "stdout",
     "output_type": "stream",
     "text": [
      "[1.7546837329864502, 1.5517641305923462, 1.1961331367492676, 1.253907322883606, 0.9549305438995361, 0.8409180641174316, 0.9344982504844666, 1.2062411308288574, 0.9092323780059814, 0.8683468103408813, 0.8000071048736572, 0.8883180022239685, 0.8412086367607117, 0.7984576225280762, 0.8122421503067017, 0.8028316497802734, 0.7998448610305786, 0.7978290915489197, 0.8049805760383606, 0.8091869354248047, 0.7977853417396545, 0.7969744205474854, 0.796508252620697, 0.7954268455505371]\n"
     ]
    },
    {
     "name": "stderr",
     "output_type": "stream",
     "text": [
      " 25%|██▌       | 25/100 [10:08<29:50, 23.87s/it]"
     ]
    },
    {
     "name": "stdout",
     "output_type": "stream",
     "text": [
      "[1.7546837329864502, 1.5517641305923462, 1.1961331367492676, 1.253907322883606, 0.9549305438995361, 0.8409180641174316, 0.9344982504844666, 1.2062411308288574, 0.9092323780059814, 0.8683468103408813, 0.8000071048736572, 0.8883180022239685, 0.8412086367607117, 0.7984576225280762, 0.8122421503067017, 0.8028316497802734, 0.7998448610305786, 0.7978290915489197, 0.8049805760383606, 0.8091869354248047, 0.7977853417396545, 0.7969744205474854, 0.796508252620697, 0.7954268455505371, 0.8045516014099121]\n"
     ]
    },
    {
     "name": "stderr",
     "output_type": "stream",
     "text": [
      " 26%|██▌       | 26/100 [10:32<29:29, 23.91s/it]"
     ]
    },
    {
     "name": "stdout",
     "output_type": "stream",
     "text": [
      "[1.7546837329864502, 1.5517641305923462, 1.1961331367492676, 1.253907322883606, 0.9549305438995361, 0.8409180641174316, 0.9344982504844666, 1.2062411308288574, 0.9092323780059814, 0.8683468103408813, 0.8000071048736572, 0.8883180022239685, 0.8412086367607117, 0.7984576225280762, 0.8122421503067017, 0.8028316497802734, 0.7998448610305786, 0.7978290915489197, 0.8049805760383606, 0.8091869354248047, 0.7977853417396545, 0.7969744205474854, 0.796508252620697, 0.7954268455505371, 0.8045516014099121, 0.8010838627815247]\n"
     ]
    },
    {
     "name": "stderr",
     "output_type": "stream",
     "text": [
      " 27%|██▋       | 27/100 [10:56<29:04, 23.89s/it]"
     ]
    },
    {
     "name": "stdout",
     "output_type": "stream",
     "text": [
      "[1.7546837329864502, 1.5517641305923462, 1.1961331367492676, 1.253907322883606, 0.9549305438995361, 0.8409180641174316, 0.9344982504844666, 1.2062411308288574, 0.9092323780059814, 0.8683468103408813, 0.8000071048736572, 0.8883180022239685, 0.8412086367607117, 0.7984576225280762, 0.8122421503067017, 0.8028316497802734, 0.7998448610305786, 0.7978290915489197, 0.8049805760383606, 0.8091869354248047, 0.7977853417396545, 0.7969744205474854, 0.796508252620697, 0.7954268455505371, 0.8045516014099121, 0.8010838627815247, 0.7954719662666321]\n"
     ]
    },
    {
     "name": "stderr",
     "output_type": "stream",
     "text": [
      " 28%|██▊       | 28/100 [11:20<28:40, 23.90s/it]"
     ]
    },
    {
     "name": "stdout",
     "output_type": "stream",
     "text": [
      "[1.7546837329864502, 1.5517641305923462, 1.1961331367492676, 1.253907322883606, 0.9549305438995361, 0.8409180641174316, 0.9344982504844666, 1.2062411308288574, 0.9092323780059814, 0.8683468103408813, 0.8000071048736572, 0.8883180022239685, 0.8412086367607117, 0.7984576225280762, 0.8122421503067017, 0.8028316497802734, 0.7998448610305786, 0.7978290915489197, 0.8049805760383606, 0.8091869354248047, 0.7977853417396545, 0.7969744205474854, 0.796508252620697, 0.7954268455505371, 0.8045516014099121, 0.8010838627815247, 0.7954719662666321, 0.7953111529350281]\n"
     ]
    },
    {
     "name": "stderr",
     "output_type": "stream",
     "text": [
      " 29%|██▉       | 29/100 [11:44<28:18, 23.93s/it]"
     ]
    },
    {
     "name": "stdout",
     "output_type": "stream",
     "text": [
      "[1.7546837329864502, 1.5517641305923462, 1.1961331367492676, 1.253907322883606, 0.9549305438995361, 0.8409180641174316, 0.9344982504844666, 1.2062411308288574, 0.9092323780059814, 0.8683468103408813, 0.8000071048736572, 0.8883180022239685, 0.8412086367607117, 0.7984576225280762, 0.8122421503067017, 0.8028316497802734, 0.7998448610305786, 0.7978290915489197, 0.8049805760383606, 0.8091869354248047, 0.7977853417396545, 0.7969744205474854, 0.796508252620697, 0.7954268455505371, 0.8045516014099121, 0.8010838627815247, 0.7954719662666321, 0.7953111529350281, 0.8017899990081787]\n"
     ]
    },
    {
     "name": "stderr",
     "output_type": "stream",
     "text": [
      " 30%|███       | 30/100 [12:08<27:52, 23.89s/it]"
     ]
    },
    {
     "name": "stdout",
     "output_type": "stream",
     "text": [
      "[1.7546837329864502, 1.5517641305923462, 1.1961331367492676, 1.253907322883606, 0.9549305438995361, 0.8409180641174316, 0.9344982504844666, 1.2062411308288574, 0.9092323780059814, 0.8683468103408813, 0.8000071048736572, 0.8883180022239685, 0.8412086367607117, 0.7984576225280762, 0.8122421503067017, 0.8028316497802734, 0.7998448610305786, 0.7978290915489197, 0.8049805760383606, 0.8091869354248047, 0.7977853417396545, 0.7969744205474854, 0.796508252620697, 0.7954268455505371, 0.8045516014099121, 0.8010838627815247, 0.7954719662666321, 0.7953111529350281, 0.8017899990081787, 0.796161949634552]\n"
     ]
    },
    {
     "name": "stderr",
     "output_type": "stream",
     "text": [
      " 31%|███       | 31/100 [12:32<27:26, 23.86s/it]"
     ]
    },
    {
     "name": "stdout",
     "output_type": "stream",
     "text": [
      "[1.7546837329864502, 1.5517641305923462, 1.1961331367492676, 1.253907322883606, 0.9549305438995361, 0.8409180641174316, 0.9344982504844666, 1.2062411308288574, 0.9092323780059814, 0.8683468103408813, 0.8000071048736572, 0.8883180022239685, 0.8412086367607117, 0.7984576225280762, 0.8122421503067017, 0.8028316497802734, 0.7998448610305786, 0.7978290915489197, 0.8049805760383606, 0.8091869354248047, 0.7977853417396545, 0.7969744205474854, 0.796508252620697, 0.7954268455505371, 0.8045516014099121, 0.8010838627815247, 0.7954719662666321, 0.7953111529350281, 0.8017899990081787, 0.796161949634552, 0.8023525476455688]\n"
     ]
    },
    {
     "name": "stderr",
     "output_type": "stream",
     "text": [
      " 32%|███▏      | 32/100 [12:55<27:02, 23.86s/it]"
     ]
    },
    {
     "name": "stdout",
     "output_type": "stream",
     "text": [
      "[1.7546837329864502, 1.5517641305923462, 1.1961331367492676, 1.253907322883606, 0.9549305438995361, 0.8409180641174316, 0.9344982504844666, 1.2062411308288574, 0.9092323780059814, 0.8683468103408813, 0.8000071048736572, 0.8883180022239685, 0.8412086367607117, 0.7984576225280762, 0.8122421503067017, 0.8028316497802734, 0.7998448610305786, 0.7978290915489197, 0.8049805760383606, 0.8091869354248047, 0.7977853417396545, 0.7969744205474854, 0.796508252620697, 0.7954268455505371, 0.8045516014099121, 0.8010838627815247, 0.7954719662666321, 0.7953111529350281, 0.8017899990081787, 0.796161949634552, 0.8023525476455688, 0.7956680655479431]\n"
     ]
    },
    {
     "name": "stderr",
     "output_type": "stream",
     "text": [
      " 33%|███▎      | 33/100 [13:19<26:36, 23.83s/it]"
     ]
    },
    {
     "name": "stdout",
     "output_type": "stream",
     "text": [
      "[1.7546837329864502, 1.5517641305923462, 1.1961331367492676, 1.253907322883606, 0.9549305438995361, 0.8409180641174316, 0.9344982504844666, 1.2062411308288574, 0.9092323780059814, 0.8683468103408813, 0.8000071048736572, 0.8883180022239685, 0.8412086367607117, 0.7984576225280762, 0.8122421503067017, 0.8028316497802734, 0.7998448610305786, 0.7978290915489197, 0.8049805760383606, 0.8091869354248047, 0.7977853417396545, 0.7969744205474854, 0.796508252620697, 0.7954268455505371, 0.8045516014099121, 0.8010838627815247, 0.7954719662666321, 0.7953111529350281, 0.8017899990081787, 0.796161949634552, 0.8023525476455688, 0.7956680655479431, 0.7938088774681091]\n"
     ]
    },
    {
     "name": "stderr",
     "output_type": "stream",
     "text": [
      " 34%|███▍      | 34/100 [13:43<26:11, 23.82s/it]"
     ]
    },
    {
     "name": "stdout",
     "output_type": "stream",
     "text": [
      "[1.7546837329864502, 1.5517641305923462, 1.1961331367492676, 1.253907322883606, 0.9549305438995361, 0.8409180641174316, 0.9344982504844666, 1.2062411308288574, 0.9092323780059814, 0.8683468103408813, 0.8000071048736572, 0.8883180022239685, 0.8412086367607117, 0.7984576225280762, 0.8122421503067017, 0.8028316497802734, 0.7998448610305786, 0.7978290915489197, 0.8049805760383606, 0.8091869354248047, 0.7977853417396545, 0.7969744205474854, 0.796508252620697, 0.7954268455505371, 0.8045516014099121, 0.8010838627815247, 0.7954719662666321, 0.7953111529350281, 0.8017899990081787, 0.796161949634552, 0.8023525476455688, 0.7956680655479431, 0.7938088774681091, 0.7961350679397583]\n"
     ]
    },
    {
     "name": "stderr",
     "output_type": "stream",
     "text": [
      " 35%|███▌      | 35/100 [14:07<25:50, 23.85s/it]"
     ]
    },
    {
     "name": "stdout",
     "output_type": "stream",
     "text": [
      "[1.7546837329864502, 1.5517641305923462, 1.1961331367492676, 1.253907322883606, 0.9549305438995361, 0.8409180641174316, 0.9344982504844666, 1.2062411308288574, 0.9092323780059814, 0.8683468103408813, 0.8000071048736572, 0.8883180022239685, 0.8412086367607117, 0.7984576225280762, 0.8122421503067017, 0.8028316497802734, 0.7998448610305786, 0.7978290915489197, 0.8049805760383606, 0.8091869354248047, 0.7977853417396545, 0.7969744205474854, 0.796508252620697, 0.7954268455505371, 0.8045516014099121, 0.8010838627815247, 0.7954719662666321, 0.7953111529350281, 0.8017899990081787, 0.796161949634552, 0.8023525476455688, 0.7956680655479431, 0.7938088774681091, 0.7961350679397583, 0.7989593744277954]\n"
     ]
    },
    {
     "name": "stderr",
     "output_type": "stream",
     "text": [
      " 36%|███▌      | 36/100 [14:31<25:24, 23.82s/it]"
     ]
    },
    {
     "name": "stdout",
     "output_type": "stream",
     "text": [
      "[1.7546837329864502, 1.5517641305923462, 1.1961331367492676, 1.253907322883606, 0.9549305438995361, 0.8409180641174316, 0.9344982504844666, 1.2062411308288574, 0.9092323780059814, 0.8683468103408813, 0.8000071048736572, 0.8883180022239685, 0.8412086367607117, 0.7984576225280762, 0.8122421503067017, 0.8028316497802734, 0.7998448610305786, 0.7978290915489197, 0.8049805760383606, 0.8091869354248047, 0.7977853417396545, 0.7969744205474854, 0.796508252620697, 0.7954268455505371, 0.8045516014099121, 0.8010838627815247, 0.7954719662666321, 0.7953111529350281, 0.8017899990081787, 0.796161949634552, 0.8023525476455688, 0.7956680655479431, 0.7938088774681091, 0.7961350679397583, 0.7989593744277954, 0.7959492802619934]\n"
     ]
    },
    {
     "name": "stderr",
     "output_type": "stream",
     "text": [
      " 37%|███▋      | 37/100 [14:54<24:57, 23.76s/it]"
     ]
    },
    {
     "name": "stdout",
     "output_type": "stream",
     "text": [
      "[1.7546837329864502, 1.5517641305923462, 1.1961331367492676, 1.253907322883606, 0.9549305438995361, 0.8409180641174316, 0.9344982504844666, 1.2062411308288574, 0.9092323780059814, 0.8683468103408813, 0.8000071048736572, 0.8883180022239685, 0.8412086367607117, 0.7984576225280762, 0.8122421503067017, 0.8028316497802734, 0.7998448610305786, 0.7978290915489197, 0.8049805760383606, 0.8091869354248047, 0.7977853417396545, 0.7969744205474854, 0.796508252620697, 0.7954268455505371, 0.8045516014099121, 0.8010838627815247, 0.7954719662666321, 0.7953111529350281, 0.8017899990081787, 0.796161949634552, 0.8023525476455688, 0.7956680655479431, 0.7938088774681091, 0.7961350679397583, 0.7989593744277954, 0.7959492802619934, 0.7930888533592224]\n"
     ]
    },
    {
     "name": "stderr",
     "output_type": "stream",
     "text": [
      " 38%|███▊      | 38/100 [15:18<24:34, 23.78s/it]"
     ]
    },
    {
     "name": "stdout",
     "output_type": "stream",
     "text": [
      "[1.7546837329864502, 1.5517641305923462, 1.1961331367492676, 1.253907322883606, 0.9549305438995361, 0.8409180641174316, 0.9344982504844666, 1.2062411308288574, 0.9092323780059814, 0.8683468103408813, 0.8000071048736572, 0.8883180022239685, 0.8412086367607117, 0.7984576225280762, 0.8122421503067017, 0.8028316497802734, 0.7998448610305786, 0.7978290915489197, 0.8049805760383606, 0.8091869354248047, 0.7977853417396545, 0.7969744205474854, 0.796508252620697, 0.7954268455505371, 0.8045516014099121, 0.8010838627815247, 0.7954719662666321, 0.7953111529350281, 0.8017899990081787, 0.796161949634552, 0.8023525476455688, 0.7956680655479431, 0.7938088774681091, 0.7961350679397583, 0.7989593744277954, 0.7959492802619934, 0.7930888533592224, 0.7953541874885559]\n"
     ]
    },
    {
     "name": "stderr",
     "output_type": "stream",
     "text": [
      " 39%|███▉      | 39/100 [15:42<24:10, 23.78s/it]"
     ]
    },
    {
     "name": "stdout",
     "output_type": "stream",
     "text": [
      "[1.7546837329864502, 1.5517641305923462, 1.1961331367492676, 1.253907322883606, 0.9549305438995361, 0.8409180641174316, 0.9344982504844666, 1.2062411308288574, 0.9092323780059814, 0.8683468103408813, 0.8000071048736572, 0.8883180022239685, 0.8412086367607117, 0.7984576225280762, 0.8122421503067017, 0.8028316497802734, 0.7998448610305786, 0.7978290915489197, 0.8049805760383606, 0.8091869354248047, 0.7977853417396545, 0.7969744205474854, 0.796508252620697, 0.7954268455505371, 0.8045516014099121, 0.8010838627815247, 0.7954719662666321, 0.7953111529350281, 0.8017899990081787, 0.796161949634552, 0.8023525476455688, 0.7956680655479431, 0.7938088774681091, 0.7961350679397583, 0.7989593744277954, 0.7959492802619934, 0.7930888533592224, 0.7953541874885559, 0.7942318916320801]\n"
     ]
    },
    {
     "name": "stderr",
     "output_type": "stream",
     "text": [
      " 40%|████      | 40/100 [16:05<23:44, 23.74s/it]"
     ]
    },
    {
     "name": "stdout",
     "output_type": "stream",
     "text": [
      "[1.7546837329864502, 1.5517641305923462, 1.1961331367492676, 1.253907322883606, 0.9549305438995361, 0.8409180641174316, 0.9344982504844666, 1.2062411308288574, 0.9092323780059814, 0.8683468103408813, 0.8000071048736572, 0.8883180022239685, 0.8412086367607117, 0.7984576225280762, 0.8122421503067017, 0.8028316497802734, 0.7998448610305786, 0.7978290915489197, 0.8049805760383606, 0.8091869354248047, 0.7977853417396545, 0.7969744205474854, 0.796508252620697, 0.7954268455505371, 0.8045516014099121, 0.8010838627815247, 0.7954719662666321, 0.7953111529350281, 0.8017899990081787, 0.796161949634552, 0.8023525476455688, 0.7956680655479431, 0.7938088774681091, 0.7961350679397583, 0.7989593744277954, 0.7959492802619934, 0.7930888533592224, 0.7953541874885559, 0.7942318916320801, 0.7957602739334106]\n"
     ]
    },
    {
     "name": "stderr",
     "output_type": "stream",
     "text": [
      " 41%|████      | 41/100 [16:29<23:21, 23.76s/it]"
     ]
    },
    {
     "name": "stdout",
     "output_type": "stream",
     "text": [
      "[1.7546837329864502, 1.5517641305923462, 1.1961331367492676, 1.253907322883606, 0.9549305438995361, 0.8409180641174316, 0.9344982504844666, 1.2062411308288574, 0.9092323780059814, 0.8683468103408813, 0.8000071048736572, 0.8883180022239685, 0.8412086367607117, 0.7984576225280762, 0.8122421503067017, 0.8028316497802734, 0.7998448610305786, 0.7978290915489197, 0.8049805760383606, 0.8091869354248047, 0.7977853417396545, 0.7969744205474854, 0.796508252620697, 0.7954268455505371, 0.8045516014099121, 0.8010838627815247, 0.7954719662666321, 0.7953111529350281, 0.8017899990081787, 0.796161949634552, 0.8023525476455688, 0.7956680655479431, 0.7938088774681091, 0.7961350679397583, 0.7989593744277954, 0.7959492802619934, 0.7930888533592224, 0.7953541874885559, 0.7942318916320801, 0.7957602739334106, 0.793613076210022]\n"
     ]
    },
    {
     "name": "stderr",
     "output_type": "stream",
     "text": [
      " 42%|████▏     | 42/100 [16:53<22:57, 23.75s/it]"
     ]
    },
    {
     "name": "stdout",
     "output_type": "stream",
     "text": [
      "[1.7546837329864502, 1.5517641305923462, 1.1961331367492676, 1.253907322883606, 0.9549305438995361, 0.8409180641174316, 0.9344982504844666, 1.2062411308288574, 0.9092323780059814, 0.8683468103408813, 0.8000071048736572, 0.8883180022239685, 0.8412086367607117, 0.7984576225280762, 0.8122421503067017, 0.8028316497802734, 0.7998448610305786, 0.7978290915489197, 0.8049805760383606, 0.8091869354248047, 0.7977853417396545, 0.7969744205474854, 0.796508252620697, 0.7954268455505371, 0.8045516014099121, 0.8010838627815247, 0.7954719662666321, 0.7953111529350281, 0.8017899990081787, 0.796161949634552, 0.8023525476455688, 0.7956680655479431, 0.7938088774681091, 0.7961350679397583, 0.7989593744277954, 0.7959492802619934, 0.7930888533592224, 0.7953541874885559, 0.7942318916320801, 0.7957602739334106, 0.793613076210022, 0.7935414910316467]\n"
     ]
    },
    {
     "name": "stderr",
     "output_type": "stream",
     "text": [
      " 43%|████▎     | 43/100 [17:17<22:33, 23.75s/it]"
     ]
    },
    {
     "name": "stdout",
     "output_type": "stream",
     "text": [
      "[1.7546837329864502, 1.5517641305923462, 1.1961331367492676, 1.253907322883606, 0.9549305438995361, 0.8409180641174316, 0.9344982504844666, 1.2062411308288574, 0.9092323780059814, 0.8683468103408813, 0.8000071048736572, 0.8883180022239685, 0.8412086367607117, 0.7984576225280762, 0.8122421503067017, 0.8028316497802734, 0.7998448610305786, 0.7978290915489197, 0.8049805760383606, 0.8091869354248047, 0.7977853417396545, 0.7969744205474854, 0.796508252620697, 0.7954268455505371, 0.8045516014099121, 0.8010838627815247, 0.7954719662666321, 0.7953111529350281, 0.8017899990081787, 0.796161949634552, 0.8023525476455688, 0.7956680655479431, 0.7938088774681091, 0.7961350679397583, 0.7989593744277954, 0.7959492802619934, 0.7930888533592224, 0.7953541874885559, 0.7942318916320801, 0.7957602739334106, 0.793613076210022, 0.7935414910316467, 0.7935348153114319]\n"
     ]
    },
    {
     "name": "stderr",
     "output_type": "stream",
     "text": [
      " 44%|████▍     | 44/100 [17:41<22:11, 23.77s/it]"
     ]
    },
    {
     "name": "stdout",
     "output_type": "stream",
     "text": [
      "[1.7546837329864502, 1.5517641305923462, 1.1961331367492676, 1.253907322883606, 0.9549305438995361, 0.8409180641174316, 0.9344982504844666, 1.2062411308288574, 0.9092323780059814, 0.8683468103408813, 0.8000071048736572, 0.8883180022239685, 0.8412086367607117, 0.7984576225280762, 0.8122421503067017, 0.8028316497802734, 0.7998448610305786, 0.7978290915489197, 0.8049805760383606, 0.8091869354248047, 0.7977853417396545, 0.7969744205474854, 0.796508252620697, 0.7954268455505371, 0.8045516014099121, 0.8010838627815247, 0.7954719662666321, 0.7953111529350281, 0.8017899990081787, 0.796161949634552, 0.8023525476455688, 0.7956680655479431, 0.7938088774681091, 0.7961350679397583, 0.7989593744277954, 0.7959492802619934, 0.7930888533592224, 0.7953541874885559, 0.7942318916320801, 0.7957602739334106, 0.793613076210022, 0.7935414910316467, 0.7935348153114319, 0.7948523163795471]\n"
     ]
    },
    {
     "name": "stderr",
     "output_type": "stream",
     "text": [
      " 45%|████▌     | 45/100 [18:04<21:46, 23.75s/it]"
     ]
    },
    {
     "name": "stdout",
     "output_type": "stream",
     "text": [
      "[1.7546837329864502, 1.5517641305923462, 1.1961331367492676, 1.253907322883606, 0.9549305438995361, 0.8409180641174316, 0.9344982504844666, 1.2062411308288574, 0.9092323780059814, 0.8683468103408813, 0.8000071048736572, 0.8883180022239685, 0.8412086367607117, 0.7984576225280762, 0.8122421503067017, 0.8028316497802734, 0.7998448610305786, 0.7978290915489197, 0.8049805760383606, 0.8091869354248047, 0.7977853417396545, 0.7969744205474854, 0.796508252620697, 0.7954268455505371, 0.8045516014099121, 0.8010838627815247, 0.7954719662666321, 0.7953111529350281, 0.8017899990081787, 0.796161949634552, 0.8023525476455688, 0.7956680655479431, 0.7938088774681091, 0.7961350679397583, 0.7989593744277954, 0.7959492802619934, 0.7930888533592224, 0.7953541874885559, 0.7942318916320801, 0.7957602739334106, 0.793613076210022, 0.7935414910316467, 0.7935348153114319, 0.7948523163795471, 0.7943196892738342]\n"
     ]
    },
    {
     "name": "stderr",
     "output_type": "stream",
     "text": [
      " 46%|████▌     | 46/100 [18:28<21:22, 23.75s/it]"
     ]
    },
    {
     "name": "stdout",
     "output_type": "stream",
     "text": [
      "[1.7546837329864502, 1.5517641305923462, 1.1961331367492676, 1.253907322883606, 0.9549305438995361, 0.8409180641174316, 0.9344982504844666, 1.2062411308288574, 0.9092323780059814, 0.8683468103408813, 0.8000071048736572, 0.8883180022239685, 0.8412086367607117, 0.7984576225280762, 0.8122421503067017, 0.8028316497802734, 0.7998448610305786, 0.7978290915489197, 0.8049805760383606, 0.8091869354248047, 0.7977853417396545, 0.7969744205474854, 0.796508252620697, 0.7954268455505371, 0.8045516014099121, 0.8010838627815247, 0.7954719662666321, 0.7953111529350281, 0.8017899990081787, 0.796161949634552, 0.8023525476455688, 0.7956680655479431, 0.7938088774681091, 0.7961350679397583, 0.7989593744277954, 0.7959492802619934, 0.7930888533592224, 0.7953541874885559, 0.7942318916320801, 0.7957602739334106, 0.793613076210022, 0.7935414910316467, 0.7935348153114319, 0.7948523163795471, 0.7943196892738342, 0.7933995127677917]\n"
     ]
    },
    {
     "name": "stderr",
     "output_type": "stream",
     "text": [
      " 47%|████▋     | 47/100 [18:52<21:00, 23.79s/it]"
     ]
    },
    {
     "name": "stdout",
     "output_type": "stream",
     "text": [
      "[1.7546837329864502, 1.5517641305923462, 1.1961331367492676, 1.253907322883606, 0.9549305438995361, 0.8409180641174316, 0.9344982504844666, 1.2062411308288574, 0.9092323780059814, 0.8683468103408813, 0.8000071048736572, 0.8883180022239685, 0.8412086367607117, 0.7984576225280762, 0.8122421503067017, 0.8028316497802734, 0.7998448610305786, 0.7978290915489197, 0.8049805760383606, 0.8091869354248047, 0.7977853417396545, 0.7969744205474854, 0.796508252620697, 0.7954268455505371, 0.8045516014099121, 0.8010838627815247, 0.7954719662666321, 0.7953111529350281, 0.8017899990081787, 0.796161949634552, 0.8023525476455688, 0.7956680655479431, 0.7938088774681091, 0.7961350679397583, 0.7989593744277954, 0.7959492802619934, 0.7930888533592224, 0.7953541874885559, 0.7942318916320801, 0.7957602739334106, 0.793613076210022, 0.7935414910316467, 0.7935348153114319, 0.7948523163795471, 0.7943196892738342, 0.7933995127677917, 0.7942845225334167]\n"
     ]
    },
    {
     "name": "stderr",
     "output_type": "stream",
     "text": [
      " 48%|████▊     | 48/100 [19:16<20:36, 23.78s/it]"
     ]
    },
    {
     "name": "stdout",
     "output_type": "stream",
     "text": [
      "[1.7546837329864502, 1.5517641305923462, 1.1961331367492676, 1.253907322883606, 0.9549305438995361, 0.8409180641174316, 0.9344982504844666, 1.2062411308288574, 0.9092323780059814, 0.8683468103408813, 0.8000071048736572, 0.8883180022239685, 0.8412086367607117, 0.7984576225280762, 0.8122421503067017, 0.8028316497802734, 0.7998448610305786, 0.7978290915489197, 0.8049805760383606, 0.8091869354248047, 0.7977853417396545, 0.7969744205474854, 0.796508252620697, 0.7954268455505371, 0.8045516014099121, 0.8010838627815247, 0.7954719662666321, 0.7953111529350281, 0.8017899990081787, 0.796161949634552, 0.8023525476455688, 0.7956680655479431, 0.7938088774681091, 0.7961350679397583, 0.7989593744277954, 0.7959492802619934, 0.7930888533592224, 0.7953541874885559, 0.7942318916320801, 0.7957602739334106, 0.793613076210022, 0.7935414910316467, 0.7935348153114319, 0.7948523163795471, 0.7943196892738342, 0.7933995127677917, 0.7942845225334167, 0.7932013869285583]\n"
     ]
    },
    {
     "name": "stderr",
     "output_type": "stream",
     "text": [
      " 49%|████▉     | 49/100 [19:39<20:12, 23.78s/it]"
     ]
    },
    {
     "name": "stdout",
     "output_type": "stream",
     "text": [
      "[1.7546837329864502, 1.5517641305923462, 1.1961331367492676, 1.253907322883606, 0.9549305438995361, 0.8409180641174316, 0.9344982504844666, 1.2062411308288574, 0.9092323780059814, 0.8683468103408813, 0.8000071048736572, 0.8883180022239685, 0.8412086367607117, 0.7984576225280762, 0.8122421503067017, 0.8028316497802734, 0.7998448610305786, 0.7978290915489197, 0.8049805760383606, 0.8091869354248047, 0.7977853417396545, 0.7969744205474854, 0.796508252620697, 0.7954268455505371, 0.8045516014099121, 0.8010838627815247, 0.7954719662666321, 0.7953111529350281, 0.8017899990081787, 0.796161949634552, 0.8023525476455688, 0.7956680655479431, 0.7938088774681091, 0.7961350679397583, 0.7989593744277954, 0.7959492802619934, 0.7930888533592224, 0.7953541874885559, 0.7942318916320801, 0.7957602739334106, 0.793613076210022, 0.7935414910316467, 0.7935348153114319, 0.7948523163795471, 0.7943196892738342, 0.7933995127677917, 0.7942845225334167, 0.7932013869285583, 0.795397937297821]\n"
     ]
    },
    {
     "name": "stderr",
     "output_type": "stream",
     "text": [
      " 50%|█████     | 50/100 [20:03<19:50, 23.81s/it]"
     ]
    },
    {
     "name": "stdout",
     "output_type": "stream",
     "text": [
      "[1.7546837329864502, 1.5517641305923462, 1.1961331367492676, 1.253907322883606, 0.9549305438995361, 0.8409180641174316, 0.9344982504844666, 1.2062411308288574, 0.9092323780059814, 0.8683468103408813, 0.8000071048736572, 0.8883180022239685, 0.8412086367607117, 0.7984576225280762, 0.8122421503067017, 0.8028316497802734, 0.7998448610305786, 0.7978290915489197, 0.8049805760383606, 0.8091869354248047, 0.7977853417396545, 0.7969744205474854, 0.796508252620697, 0.7954268455505371, 0.8045516014099121, 0.8010838627815247, 0.7954719662666321, 0.7953111529350281, 0.8017899990081787, 0.796161949634552, 0.8023525476455688, 0.7956680655479431, 0.7938088774681091, 0.7961350679397583, 0.7989593744277954, 0.7959492802619934, 0.7930888533592224, 0.7953541874885559, 0.7942318916320801, 0.7957602739334106, 0.793613076210022, 0.7935414910316467, 0.7935348153114319, 0.7948523163795471, 0.7943196892738342, 0.7933995127677917, 0.7942845225334167, 0.7932013869285583, 0.795397937297821, 0.7943454384803772]\n"
     ]
    },
    {
     "name": "stderr",
     "output_type": "stream",
     "text": [
      " 51%|█████     | 51/100 [20:27<19:26, 23.81s/it]"
     ]
    },
    {
     "name": "stdout",
     "output_type": "stream",
     "text": [
      "[1.7546837329864502, 1.5517641305923462, 1.1961331367492676, 1.253907322883606, 0.9549305438995361, 0.8409180641174316, 0.9344982504844666, 1.2062411308288574, 0.9092323780059814, 0.8683468103408813, 0.8000071048736572, 0.8883180022239685, 0.8412086367607117, 0.7984576225280762, 0.8122421503067017, 0.8028316497802734, 0.7998448610305786, 0.7978290915489197, 0.8049805760383606, 0.8091869354248047, 0.7977853417396545, 0.7969744205474854, 0.796508252620697, 0.7954268455505371, 0.8045516014099121, 0.8010838627815247, 0.7954719662666321, 0.7953111529350281, 0.8017899990081787, 0.796161949634552, 0.8023525476455688, 0.7956680655479431, 0.7938088774681091, 0.7961350679397583, 0.7989593744277954, 0.7959492802619934, 0.7930888533592224, 0.7953541874885559, 0.7942318916320801, 0.7957602739334106, 0.793613076210022, 0.7935414910316467, 0.7935348153114319, 0.7948523163795471, 0.7943196892738342, 0.7933995127677917, 0.7942845225334167, 0.7932013869285583, 0.795397937297821, 0.7943454384803772, 0.7938722968101501]\n"
     ]
    },
    {
     "name": "stderr",
     "output_type": "stream",
     "text": [
      " 52%|█████▏    | 52/100 [20:51<19:01, 23.78s/it]"
     ]
    },
    {
     "name": "stdout",
     "output_type": "stream",
     "text": [
      "[1.7546837329864502, 1.5517641305923462, 1.1961331367492676, 1.253907322883606, 0.9549305438995361, 0.8409180641174316, 0.9344982504844666, 1.2062411308288574, 0.9092323780059814, 0.8683468103408813, 0.8000071048736572, 0.8883180022239685, 0.8412086367607117, 0.7984576225280762, 0.8122421503067017, 0.8028316497802734, 0.7998448610305786, 0.7978290915489197, 0.8049805760383606, 0.8091869354248047, 0.7977853417396545, 0.7969744205474854, 0.796508252620697, 0.7954268455505371, 0.8045516014099121, 0.8010838627815247, 0.7954719662666321, 0.7953111529350281, 0.8017899990081787, 0.796161949634552, 0.8023525476455688, 0.7956680655479431, 0.7938088774681091, 0.7961350679397583, 0.7989593744277954, 0.7959492802619934, 0.7930888533592224, 0.7953541874885559, 0.7942318916320801, 0.7957602739334106, 0.793613076210022, 0.7935414910316467, 0.7935348153114319, 0.7948523163795471, 0.7943196892738342, 0.7933995127677917, 0.7942845225334167, 0.7932013869285583, 0.795397937297821, 0.7943454384803772, 0.7938722968101501, 0.7942334413528442]\n"
     ]
    },
    {
     "name": "stderr",
     "output_type": "stream",
     "text": [
      " 53%|█████▎    | 53/100 [21:15<18:38, 23.80s/it]"
     ]
    },
    {
     "name": "stdout",
     "output_type": "stream",
     "text": [
      "[1.7546837329864502, 1.5517641305923462, 1.1961331367492676, 1.253907322883606, 0.9549305438995361, 0.8409180641174316, 0.9344982504844666, 1.2062411308288574, 0.9092323780059814, 0.8683468103408813, 0.8000071048736572, 0.8883180022239685, 0.8412086367607117, 0.7984576225280762, 0.8122421503067017, 0.8028316497802734, 0.7998448610305786, 0.7978290915489197, 0.8049805760383606, 0.8091869354248047, 0.7977853417396545, 0.7969744205474854, 0.796508252620697, 0.7954268455505371, 0.8045516014099121, 0.8010838627815247, 0.7954719662666321, 0.7953111529350281, 0.8017899990081787, 0.796161949634552, 0.8023525476455688, 0.7956680655479431, 0.7938088774681091, 0.7961350679397583, 0.7989593744277954, 0.7959492802619934, 0.7930888533592224, 0.7953541874885559, 0.7942318916320801, 0.7957602739334106, 0.793613076210022, 0.7935414910316467, 0.7935348153114319, 0.7948523163795471, 0.7943196892738342, 0.7933995127677917, 0.7942845225334167, 0.7932013869285583, 0.795397937297821, 0.7943454384803772, 0.7938722968101501, 0.7942334413528442, 0.7938726544380188]\n"
     ]
    },
    {
     "name": "stderr",
     "output_type": "stream",
     "text": [
      " 54%|█████▍    | 54/100 [21:38<18:13, 23.78s/it]"
     ]
    },
    {
     "name": "stdout",
     "output_type": "stream",
     "text": [
      "[1.7546837329864502, 1.5517641305923462, 1.1961331367492676, 1.253907322883606, 0.9549305438995361, 0.8409180641174316, 0.9344982504844666, 1.2062411308288574, 0.9092323780059814, 0.8683468103408813, 0.8000071048736572, 0.8883180022239685, 0.8412086367607117, 0.7984576225280762, 0.8122421503067017, 0.8028316497802734, 0.7998448610305786, 0.7978290915489197, 0.8049805760383606, 0.8091869354248047, 0.7977853417396545, 0.7969744205474854, 0.796508252620697, 0.7954268455505371, 0.8045516014099121, 0.8010838627815247, 0.7954719662666321, 0.7953111529350281, 0.8017899990081787, 0.796161949634552, 0.8023525476455688, 0.7956680655479431, 0.7938088774681091, 0.7961350679397583, 0.7989593744277954, 0.7959492802619934, 0.7930888533592224, 0.7953541874885559, 0.7942318916320801, 0.7957602739334106, 0.793613076210022, 0.7935414910316467, 0.7935348153114319, 0.7948523163795471, 0.7943196892738342, 0.7933995127677917, 0.7942845225334167, 0.7932013869285583, 0.795397937297821, 0.7943454384803772, 0.7938722968101501, 0.7942334413528442, 0.7938726544380188, 0.794576108455658]\n"
     ]
    },
    {
     "name": "stderr",
     "output_type": "stream",
     "text": [
      " 55%|█████▌    | 55/100 [22:02<17:48, 23.74s/it]"
     ]
    },
    {
     "name": "stdout",
     "output_type": "stream",
     "text": [
      "[1.7546837329864502, 1.5517641305923462, 1.1961331367492676, 1.253907322883606, 0.9549305438995361, 0.8409180641174316, 0.9344982504844666, 1.2062411308288574, 0.9092323780059814, 0.8683468103408813, 0.8000071048736572, 0.8883180022239685, 0.8412086367607117, 0.7984576225280762, 0.8122421503067017, 0.8028316497802734, 0.7998448610305786, 0.7978290915489197, 0.8049805760383606, 0.8091869354248047, 0.7977853417396545, 0.7969744205474854, 0.796508252620697, 0.7954268455505371, 0.8045516014099121, 0.8010838627815247, 0.7954719662666321, 0.7953111529350281, 0.8017899990081787, 0.796161949634552, 0.8023525476455688, 0.7956680655479431, 0.7938088774681091, 0.7961350679397583, 0.7989593744277954, 0.7959492802619934, 0.7930888533592224, 0.7953541874885559, 0.7942318916320801, 0.7957602739334106, 0.793613076210022, 0.7935414910316467, 0.7935348153114319, 0.7948523163795471, 0.7943196892738342, 0.7933995127677917, 0.7942845225334167, 0.7932013869285583, 0.795397937297821, 0.7943454384803772, 0.7938722968101501, 0.7942334413528442, 0.7938726544380188, 0.794576108455658, 0.7934432029724121]\n"
     ]
    },
    {
     "name": "stderr",
     "output_type": "stream",
     "text": [
      " 56%|█████▌    | 56/100 [22:26<17:26, 23.77s/it]"
     ]
    },
    {
     "name": "stdout",
     "output_type": "stream",
     "text": [
      "[1.7546837329864502, 1.5517641305923462, 1.1961331367492676, 1.253907322883606, 0.9549305438995361, 0.8409180641174316, 0.9344982504844666, 1.2062411308288574, 0.9092323780059814, 0.8683468103408813, 0.8000071048736572, 0.8883180022239685, 0.8412086367607117, 0.7984576225280762, 0.8122421503067017, 0.8028316497802734, 0.7998448610305786, 0.7978290915489197, 0.8049805760383606, 0.8091869354248047, 0.7977853417396545, 0.7969744205474854, 0.796508252620697, 0.7954268455505371, 0.8045516014099121, 0.8010838627815247, 0.7954719662666321, 0.7953111529350281, 0.8017899990081787, 0.796161949634552, 0.8023525476455688, 0.7956680655479431, 0.7938088774681091, 0.7961350679397583, 0.7989593744277954, 0.7959492802619934, 0.7930888533592224, 0.7953541874885559, 0.7942318916320801, 0.7957602739334106, 0.793613076210022, 0.7935414910316467, 0.7935348153114319, 0.7948523163795471, 0.7943196892738342, 0.7933995127677917, 0.7942845225334167, 0.7932013869285583, 0.795397937297821, 0.7943454384803772, 0.7938722968101501, 0.7942334413528442, 0.7938726544380188, 0.794576108455658, 0.7934432029724121, 0.7931607961654663]\n"
     ]
    },
    {
     "name": "stderr",
     "output_type": "stream",
     "text": [
      " 57%|█████▋    | 57/100 [22:50<17:01, 23.75s/it]"
     ]
    },
    {
     "name": "stdout",
     "output_type": "stream",
     "text": [
      "[1.7546837329864502, 1.5517641305923462, 1.1961331367492676, 1.253907322883606, 0.9549305438995361, 0.8409180641174316, 0.9344982504844666, 1.2062411308288574, 0.9092323780059814, 0.8683468103408813, 0.8000071048736572, 0.8883180022239685, 0.8412086367607117, 0.7984576225280762, 0.8122421503067017, 0.8028316497802734, 0.7998448610305786, 0.7978290915489197, 0.8049805760383606, 0.8091869354248047, 0.7977853417396545, 0.7969744205474854, 0.796508252620697, 0.7954268455505371, 0.8045516014099121, 0.8010838627815247, 0.7954719662666321, 0.7953111529350281, 0.8017899990081787, 0.796161949634552, 0.8023525476455688, 0.7956680655479431, 0.7938088774681091, 0.7961350679397583, 0.7989593744277954, 0.7959492802619934, 0.7930888533592224, 0.7953541874885559, 0.7942318916320801, 0.7957602739334106, 0.793613076210022, 0.7935414910316467, 0.7935348153114319, 0.7948523163795471, 0.7943196892738342, 0.7933995127677917, 0.7942845225334167, 0.7932013869285583, 0.795397937297821, 0.7943454384803772, 0.7938722968101501, 0.7942334413528442, 0.7938726544380188, 0.794576108455658, 0.7934432029724121, 0.7931607961654663, 0.7931248545646667]\n"
     ]
    },
    {
     "name": "stderr",
     "output_type": "stream",
     "text": [
      " 58%|█████▊    | 58/100 [23:13<16:38, 23.78s/it]"
     ]
    },
    {
     "name": "stdout",
     "output_type": "stream",
     "text": [
      "[1.7546837329864502, 1.5517641305923462, 1.1961331367492676, 1.253907322883606, 0.9549305438995361, 0.8409180641174316, 0.9344982504844666, 1.2062411308288574, 0.9092323780059814, 0.8683468103408813, 0.8000071048736572, 0.8883180022239685, 0.8412086367607117, 0.7984576225280762, 0.8122421503067017, 0.8028316497802734, 0.7998448610305786, 0.7978290915489197, 0.8049805760383606, 0.8091869354248047, 0.7977853417396545, 0.7969744205474854, 0.796508252620697, 0.7954268455505371, 0.8045516014099121, 0.8010838627815247, 0.7954719662666321, 0.7953111529350281, 0.8017899990081787, 0.796161949634552, 0.8023525476455688, 0.7956680655479431, 0.7938088774681091, 0.7961350679397583, 0.7989593744277954, 0.7959492802619934, 0.7930888533592224, 0.7953541874885559, 0.7942318916320801, 0.7957602739334106, 0.793613076210022, 0.7935414910316467, 0.7935348153114319, 0.7948523163795471, 0.7943196892738342, 0.7933995127677917, 0.7942845225334167, 0.7932013869285583, 0.795397937297821, 0.7943454384803772, 0.7938722968101501, 0.7942334413528442, 0.7938726544380188, 0.794576108455658, 0.7934432029724121, 0.7931607961654663, 0.7931248545646667, 0.7944796085357666]\n"
     ]
    },
    {
     "name": "stderr",
     "output_type": "stream",
     "text": [
      " 59%|█████▉    | 59/100 [23:37<16:16, 23.81s/it]"
     ]
    },
    {
     "name": "stdout",
     "output_type": "stream",
     "text": [
      "[1.7546837329864502, 1.5517641305923462, 1.1961331367492676, 1.253907322883606, 0.9549305438995361, 0.8409180641174316, 0.9344982504844666, 1.2062411308288574, 0.9092323780059814, 0.8683468103408813, 0.8000071048736572, 0.8883180022239685, 0.8412086367607117, 0.7984576225280762, 0.8122421503067017, 0.8028316497802734, 0.7998448610305786, 0.7978290915489197, 0.8049805760383606, 0.8091869354248047, 0.7977853417396545, 0.7969744205474854, 0.796508252620697, 0.7954268455505371, 0.8045516014099121, 0.8010838627815247, 0.7954719662666321, 0.7953111529350281, 0.8017899990081787, 0.796161949634552, 0.8023525476455688, 0.7956680655479431, 0.7938088774681091, 0.7961350679397583, 0.7989593744277954, 0.7959492802619934, 0.7930888533592224, 0.7953541874885559, 0.7942318916320801, 0.7957602739334106, 0.793613076210022, 0.7935414910316467, 0.7935348153114319, 0.7948523163795471, 0.7943196892738342, 0.7933995127677917, 0.7942845225334167, 0.7932013869285583, 0.795397937297821, 0.7943454384803772, 0.7938722968101501, 0.7942334413528442, 0.7938726544380188, 0.794576108455658, 0.7934432029724121, 0.7931607961654663, 0.7931248545646667, 0.7944796085357666, 0.7945371866226196]\n"
     ]
    },
    {
     "name": "stderr",
     "output_type": "stream",
     "text": [
      " 60%|██████    | 60/100 [24:01<15:51, 23.78s/it]"
     ]
    },
    {
     "name": "stdout",
     "output_type": "stream",
     "text": [
      "[1.7546837329864502, 1.5517641305923462, 1.1961331367492676, 1.253907322883606, 0.9549305438995361, 0.8409180641174316, 0.9344982504844666, 1.2062411308288574, 0.9092323780059814, 0.8683468103408813, 0.8000071048736572, 0.8883180022239685, 0.8412086367607117, 0.7984576225280762, 0.8122421503067017, 0.8028316497802734, 0.7998448610305786, 0.7978290915489197, 0.8049805760383606, 0.8091869354248047, 0.7977853417396545, 0.7969744205474854, 0.796508252620697, 0.7954268455505371, 0.8045516014099121, 0.8010838627815247, 0.7954719662666321, 0.7953111529350281, 0.8017899990081787, 0.796161949634552, 0.8023525476455688, 0.7956680655479431, 0.7938088774681091, 0.7961350679397583, 0.7989593744277954, 0.7959492802619934, 0.7930888533592224, 0.7953541874885559, 0.7942318916320801, 0.7957602739334106, 0.793613076210022, 0.7935414910316467, 0.7935348153114319, 0.7948523163795471, 0.7943196892738342, 0.7933995127677917, 0.7942845225334167, 0.7932013869285583, 0.795397937297821, 0.7943454384803772, 0.7938722968101501, 0.7942334413528442, 0.7938726544380188, 0.794576108455658, 0.7934432029724121, 0.7931607961654663, 0.7931248545646667, 0.7944796085357666, 0.7945371866226196, 0.7935035228729248]\n"
     ]
    },
    {
     "name": "stderr",
     "output_type": "stream",
     "text": [
      " 61%|██████    | 61/100 [24:25<15:26, 23.75s/it]"
     ]
    },
    {
     "name": "stdout",
     "output_type": "stream",
     "text": [
      "[1.7546837329864502, 1.5517641305923462, 1.1961331367492676, 1.253907322883606, 0.9549305438995361, 0.8409180641174316, 0.9344982504844666, 1.2062411308288574, 0.9092323780059814, 0.8683468103408813, 0.8000071048736572, 0.8883180022239685, 0.8412086367607117, 0.7984576225280762, 0.8122421503067017, 0.8028316497802734, 0.7998448610305786, 0.7978290915489197, 0.8049805760383606, 0.8091869354248047, 0.7977853417396545, 0.7969744205474854, 0.796508252620697, 0.7954268455505371, 0.8045516014099121, 0.8010838627815247, 0.7954719662666321, 0.7953111529350281, 0.8017899990081787, 0.796161949634552, 0.8023525476455688, 0.7956680655479431, 0.7938088774681091, 0.7961350679397583, 0.7989593744277954, 0.7959492802619934, 0.7930888533592224, 0.7953541874885559, 0.7942318916320801, 0.7957602739334106, 0.793613076210022, 0.7935414910316467, 0.7935348153114319, 0.7948523163795471, 0.7943196892738342, 0.7933995127677917, 0.7942845225334167, 0.7932013869285583, 0.795397937297821, 0.7943454384803772, 0.7938722968101501, 0.7942334413528442, 0.7938726544380188, 0.794576108455658, 0.7934432029724121, 0.7931607961654663, 0.7931248545646667, 0.7944796085357666, 0.7945371866226196, 0.7935035228729248, 0.7958583831787109]\n"
     ]
    },
    {
     "name": "stderr",
     "output_type": "stream",
     "text": [
      " 62%|██████▏   | 62/100 [24:49<15:04, 23.80s/it]"
     ]
    },
    {
     "name": "stdout",
     "output_type": "stream",
     "text": [
      "[1.7546837329864502, 1.5517641305923462, 1.1961331367492676, 1.253907322883606, 0.9549305438995361, 0.8409180641174316, 0.9344982504844666, 1.2062411308288574, 0.9092323780059814, 0.8683468103408813, 0.8000071048736572, 0.8883180022239685, 0.8412086367607117, 0.7984576225280762, 0.8122421503067017, 0.8028316497802734, 0.7998448610305786, 0.7978290915489197, 0.8049805760383606, 0.8091869354248047, 0.7977853417396545, 0.7969744205474854, 0.796508252620697, 0.7954268455505371, 0.8045516014099121, 0.8010838627815247, 0.7954719662666321, 0.7953111529350281, 0.8017899990081787, 0.796161949634552, 0.8023525476455688, 0.7956680655479431, 0.7938088774681091, 0.7961350679397583, 0.7989593744277954, 0.7959492802619934, 0.7930888533592224, 0.7953541874885559, 0.7942318916320801, 0.7957602739334106, 0.793613076210022, 0.7935414910316467, 0.7935348153114319, 0.7948523163795471, 0.7943196892738342, 0.7933995127677917, 0.7942845225334167, 0.7932013869285583, 0.795397937297821, 0.7943454384803772, 0.7938722968101501, 0.7942334413528442, 0.7938726544380188, 0.794576108455658, 0.7934432029724121, 0.7931607961654663, 0.7931248545646667, 0.7944796085357666, 0.7945371866226196, 0.7935035228729248, 0.7958583831787109, 0.7938826084136963]\n"
     ]
    },
    {
     "name": "stderr",
     "output_type": "stream",
     "text": [
      " 63%|██████▎   | 63/100 [25:12<14:39, 23.78s/it]"
     ]
    },
    {
     "name": "stdout",
     "output_type": "stream",
     "text": [
      "[1.7546837329864502, 1.5517641305923462, 1.1961331367492676, 1.253907322883606, 0.9549305438995361, 0.8409180641174316, 0.9344982504844666, 1.2062411308288574, 0.9092323780059814, 0.8683468103408813, 0.8000071048736572, 0.8883180022239685, 0.8412086367607117, 0.7984576225280762, 0.8122421503067017, 0.8028316497802734, 0.7998448610305786, 0.7978290915489197, 0.8049805760383606, 0.8091869354248047, 0.7977853417396545, 0.7969744205474854, 0.796508252620697, 0.7954268455505371, 0.8045516014099121, 0.8010838627815247, 0.7954719662666321, 0.7953111529350281, 0.8017899990081787, 0.796161949634552, 0.8023525476455688, 0.7956680655479431, 0.7938088774681091, 0.7961350679397583, 0.7989593744277954, 0.7959492802619934, 0.7930888533592224, 0.7953541874885559, 0.7942318916320801, 0.7957602739334106, 0.793613076210022, 0.7935414910316467, 0.7935348153114319, 0.7948523163795471, 0.7943196892738342, 0.7933995127677917, 0.7942845225334167, 0.7932013869285583, 0.795397937297821, 0.7943454384803772, 0.7938722968101501, 0.7942334413528442, 0.7938726544380188, 0.794576108455658, 0.7934432029724121, 0.7931607961654663, 0.7931248545646667, 0.7944796085357666, 0.7945371866226196, 0.7935035228729248, 0.7958583831787109, 0.7938826084136963, 0.793319821357727]\n"
     ]
    },
    {
     "name": "stderr",
     "output_type": "stream",
     "text": [
      " 64%|██████▍   | 64/100 [25:36<14:16, 23.79s/it]"
     ]
    },
    {
     "name": "stdout",
     "output_type": "stream",
     "text": [
      "[1.7546837329864502, 1.5517641305923462, 1.1961331367492676, 1.253907322883606, 0.9549305438995361, 0.8409180641174316, 0.9344982504844666, 1.2062411308288574, 0.9092323780059814, 0.8683468103408813, 0.8000071048736572, 0.8883180022239685, 0.8412086367607117, 0.7984576225280762, 0.8122421503067017, 0.8028316497802734, 0.7998448610305786, 0.7978290915489197, 0.8049805760383606, 0.8091869354248047, 0.7977853417396545, 0.7969744205474854, 0.796508252620697, 0.7954268455505371, 0.8045516014099121, 0.8010838627815247, 0.7954719662666321, 0.7953111529350281, 0.8017899990081787, 0.796161949634552, 0.8023525476455688, 0.7956680655479431, 0.7938088774681091, 0.7961350679397583, 0.7989593744277954, 0.7959492802619934, 0.7930888533592224, 0.7953541874885559, 0.7942318916320801, 0.7957602739334106, 0.793613076210022, 0.7935414910316467, 0.7935348153114319, 0.7948523163795471, 0.7943196892738342, 0.7933995127677917, 0.7942845225334167, 0.7932013869285583, 0.795397937297821, 0.7943454384803772, 0.7938722968101501, 0.7942334413528442, 0.7938726544380188, 0.794576108455658, 0.7934432029724121, 0.7931607961654663, 0.7931248545646667, 0.7944796085357666, 0.7945371866226196, 0.7935035228729248, 0.7958583831787109, 0.7938826084136963, 0.793319821357727, 0.7930265665054321]\n"
     ]
    },
    {
     "name": "stderr",
     "output_type": "stream",
     "text": [
      " 65%|██████▌   | 65/100 [26:00<13:53, 23.81s/it]"
     ]
    },
    {
     "name": "stdout",
     "output_type": "stream",
     "text": [
      "[1.7546837329864502, 1.5517641305923462, 1.1961331367492676, 1.253907322883606, 0.9549305438995361, 0.8409180641174316, 0.9344982504844666, 1.2062411308288574, 0.9092323780059814, 0.8683468103408813, 0.8000071048736572, 0.8883180022239685, 0.8412086367607117, 0.7984576225280762, 0.8122421503067017, 0.8028316497802734, 0.7998448610305786, 0.7978290915489197, 0.8049805760383606, 0.8091869354248047, 0.7977853417396545, 0.7969744205474854, 0.796508252620697, 0.7954268455505371, 0.8045516014099121, 0.8010838627815247, 0.7954719662666321, 0.7953111529350281, 0.8017899990081787, 0.796161949634552, 0.8023525476455688, 0.7956680655479431, 0.7938088774681091, 0.7961350679397583, 0.7989593744277954, 0.7959492802619934, 0.7930888533592224, 0.7953541874885559, 0.7942318916320801, 0.7957602739334106, 0.793613076210022, 0.7935414910316467, 0.7935348153114319, 0.7948523163795471, 0.7943196892738342, 0.7933995127677917, 0.7942845225334167, 0.7932013869285583, 0.795397937297821, 0.7943454384803772, 0.7938722968101501, 0.7942334413528442, 0.7938726544380188, 0.794576108455658, 0.7934432029724121, 0.7931607961654663, 0.7931248545646667, 0.7944796085357666, 0.7945371866226196, 0.7935035228729248, 0.7958583831787109, 0.7938826084136963, 0.793319821357727, 0.7930265665054321, 0.7937620282173157]\n"
     ]
    },
    {
     "name": "stderr",
     "output_type": "stream",
     "text": [
      " 66%|██████▌   | 66/100 [26:24<13:28, 23.78s/it]"
     ]
    },
    {
     "name": "stdout",
     "output_type": "stream",
     "text": [
      "[1.7546837329864502, 1.5517641305923462, 1.1961331367492676, 1.253907322883606, 0.9549305438995361, 0.8409180641174316, 0.9344982504844666, 1.2062411308288574, 0.9092323780059814, 0.8683468103408813, 0.8000071048736572, 0.8883180022239685, 0.8412086367607117, 0.7984576225280762, 0.8122421503067017, 0.8028316497802734, 0.7998448610305786, 0.7978290915489197, 0.8049805760383606, 0.8091869354248047, 0.7977853417396545, 0.7969744205474854, 0.796508252620697, 0.7954268455505371, 0.8045516014099121, 0.8010838627815247, 0.7954719662666321, 0.7953111529350281, 0.8017899990081787, 0.796161949634552, 0.8023525476455688, 0.7956680655479431, 0.7938088774681091, 0.7961350679397583, 0.7989593744277954, 0.7959492802619934, 0.7930888533592224, 0.7953541874885559, 0.7942318916320801, 0.7957602739334106, 0.793613076210022, 0.7935414910316467, 0.7935348153114319, 0.7948523163795471, 0.7943196892738342, 0.7933995127677917, 0.7942845225334167, 0.7932013869285583, 0.795397937297821, 0.7943454384803772, 0.7938722968101501, 0.7942334413528442, 0.7938726544380188, 0.794576108455658, 0.7934432029724121, 0.7931607961654663, 0.7931248545646667, 0.7944796085357666, 0.7945371866226196, 0.7935035228729248, 0.7958583831787109, 0.7938826084136963, 0.793319821357727, 0.7930265665054321, 0.7937620282173157, 0.7931857705116272]\n"
     ]
    },
    {
     "name": "stderr",
     "output_type": "stream",
     "text": [
      " 67%|██████▋   | 67/100 [26:47<13:04, 23.76s/it]"
     ]
    },
    {
     "name": "stdout",
     "output_type": "stream",
     "text": [
      "[1.7546837329864502, 1.5517641305923462, 1.1961331367492676, 1.253907322883606, 0.9549305438995361, 0.8409180641174316, 0.9344982504844666, 1.2062411308288574, 0.9092323780059814, 0.8683468103408813, 0.8000071048736572, 0.8883180022239685, 0.8412086367607117, 0.7984576225280762, 0.8122421503067017, 0.8028316497802734, 0.7998448610305786, 0.7978290915489197, 0.8049805760383606, 0.8091869354248047, 0.7977853417396545, 0.7969744205474854, 0.796508252620697, 0.7954268455505371, 0.8045516014099121, 0.8010838627815247, 0.7954719662666321, 0.7953111529350281, 0.8017899990081787, 0.796161949634552, 0.8023525476455688, 0.7956680655479431, 0.7938088774681091, 0.7961350679397583, 0.7989593744277954, 0.7959492802619934, 0.7930888533592224, 0.7953541874885559, 0.7942318916320801, 0.7957602739334106, 0.793613076210022, 0.7935414910316467, 0.7935348153114319, 0.7948523163795471, 0.7943196892738342, 0.7933995127677917, 0.7942845225334167, 0.7932013869285583, 0.795397937297821, 0.7943454384803772, 0.7938722968101501, 0.7942334413528442, 0.7938726544380188, 0.794576108455658, 0.7934432029724121, 0.7931607961654663, 0.7931248545646667, 0.7944796085357666, 0.7945371866226196, 0.7935035228729248, 0.7958583831787109, 0.7938826084136963, 0.793319821357727, 0.7930265665054321, 0.7937620282173157, 0.7931857705116272, 0.792940616607666]\n"
     ]
    },
    {
     "name": "stderr",
     "output_type": "stream",
     "text": [
      " 68%|██████▊   | 68/100 [27:11<12:41, 23.80s/it]"
     ]
    },
    {
     "name": "stdout",
     "output_type": "stream",
     "text": [
      "[1.7546837329864502, 1.5517641305923462, 1.1961331367492676, 1.253907322883606, 0.9549305438995361, 0.8409180641174316, 0.9344982504844666, 1.2062411308288574, 0.9092323780059814, 0.8683468103408813, 0.8000071048736572, 0.8883180022239685, 0.8412086367607117, 0.7984576225280762, 0.8122421503067017, 0.8028316497802734, 0.7998448610305786, 0.7978290915489197, 0.8049805760383606, 0.8091869354248047, 0.7977853417396545, 0.7969744205474854, 0.796508252620697, 0.7954268455505371, 0.8045516014099121, 0.8010838627815247, 0.7954719662666321, 0.7953111529350281, 0.8017899990081787, 0.796161949634552, 0.8023525476455688, 0.7956680655479431, 0.7938088774681091, 0.7961350679397583, 0.7989593744277954, 0.7959492802619934, 0.7930888533592224, 0.7953541874885559, 0.7942318916320801, 0.7957602739334106, 0.793613076210022, 0.7935414910316467, 0.7935348153114319, 0.7948523163795471, 0.7943196892738342, 0.7933995127677917, 0.7942845225334167, 0.7932013869285583, 0.795397937297821, 0.7943454384803772, 0.7938722968101501, 0.7942334413528442, 0.7938726544380188, 0.794576108455658, 0.7934432029724121, 0.7931607961654663, 0.7931248545646667, 0.7944796085357666, 0.7945371866226196, 0.7935035228729248, 0.7958583831787109, 0.7938826084136963, 0.793319821357727, 0.7930265665054321, 0.7937620282173157, 0.7931857705116272, 0.792940616607666, 0.7940697073936462]\n"
     ]
    },
    {
     "name": "stderr",
     "output_type": "stream",
     "text": [
      " 69%|██████▉   | 69/100 [27:35<12:16, 23.76s/it]"
     ]
    },
    {
     "name": "stdout",
     "output_type": "stream",
     "text": [
      "[1.7546837329864502, 1.5517641305923462, 1.1961331367492676, 1.253907322883606, 0.9549305438995361, 0.8409180641174316, 0.9344982504844666, 1.2062411308288574, 0.9092323780059814, 0.8683468103408813, 0.8000071048736572, 0.8883180022239685, 0.8412086367607117, 0.7984576225280762, 0.8122421503067017, 0.8028316497802734, 0.7998448610305786, 0.7978290915489197, 0.8049805760383606, 0.8091869354248047, 0.7977853417396545, 0.7969744205474854, 0.796508252620697, 0.7954268455505371, 0.8045516014099121, 0.8010838627815247, 0.7954719662666321, 0.7953111529350281, 0.8017899990081787, 0.796161949634552, 0.8023525476455688, 0.7956680655479431, 0.7938088774681091, 0.7961350679397583, 0.7989593744277954, 0.7959492802619934, 0.7930888533592224, 0.7953541874885559, 0.7942318916320801, 0.7957602739334106, 0.793613076210022, 0.7935414910316467, 0.7935348153114319, 0.7948523163795471, 0.7943196892738342, 0.7933995127677917, 0.7942845225334167, 0.7932013869285583, 0.795397937297821, 0.7943454384803772, 0.7938722968101501, 0.7942334413528442, 0.7938726544380188, 0.794576108455658, 0.7934432029724121, 0.7931607961654663, 0.7931248545646667, 0.7944796085357666, 0.7945371866226196, 0.7935035228729248, 0.7958583831787109, 0.7938826084136963, 0.793319821357727, 0.7930265665054321, 0.7937620282173157, 0.7931857705116272, 0.792940616607666, 0.7940697073936462, 0.7936347126960754]\n"
     ]
    },
    {
     "name": "stderr",
     "output_type": "stream",
     "text": [
      " 70%|███████   | 70/100 [27:59<11:52, 23.74s/it]"
     ]
    },
    {
     "name": "stdout",
     "output_type": "stream",
     "text": [
      "[1.7546837329864502, 1.5517641305923462, 1.1961331367492676, 1.253907322883606, 0.9549305438995361, 0.8409180641174316, 0.9344982504844666, 1.2062411308288574, 0.9092323780059814, 0.8683468103408813, 0.8000071048736572, 0.8883180022239685, 0.8412086367607117, 0.7984576225280762, 0.8122421503067017, 0.8028316497802734, 0.7998448610305786, 0.7978290915489197, 0.8049805760383606, 0.8091869354248047, 0.7977853417396545, 0.7969744205474854, 0.796508252620697, 0.7954268455505371, 0.8045516014099121, 0.8010838627815247, 0.7954719662666321, 0.7953111529350281, 0.8017899990081787, 0.796161949634552, 0.8023525476455688, 0.7956680655479431, 0.7938088774681091, 0.7961350679397583, 0.7989593744277954, 0.7959492802619934, 0.7930888533592224, 0.7953541874885559, 0.7942318916320801, 0.7957602739334106, 0.793613076210022, 0.7935414910316467, 0.7935348153114319, 0.7948523163795471, 0.7943196892738342, 0.7933995127677917, 0.7942845225334167, 0.7932013869285583, 0.795397937297821, 0.7943454384803772, 0.7938722968101501, 0.7942334413528442, 0.7938726544380188, 0.794576108455658, 0.7934432029724121, 0.7931607961654663, 0.7931248545646667, 0.7944796085357666, 0.7945371866226196, 0.7935035228729248, 0.7958583831787109, 0.7938826084136963, 0.793319821357727, 0.7930265665054321, 0.7937620282173157, 0.7931857705116272, 0.792940616607666, 0.7940697073936462, 0.7936347126960754, 0.7936342358589172]\n"
     ]
    },
    {
     "name": "stderr",
     "output_type": "stream",
     "text": [
      " 71%|███████   | 71/100 [28:23<11:28, 23.76s/it]"
     ]
    },
    {
     "name": "stdout",
     "output_type": "stream",
     "text": [
      "[1.7546837329864502, 1.5517641305923462, 1.1961331367492676, 1.253907322883606, 0.9549305438995361, 0.8409180641174316, 0.9344982504844666, 1.2062411308288574, 0.9092323780059814, 0.8683468103408813, 0.8000071048736572, 0.8883180022239685, 0.8412086367607117, 0.7984576225280762, 0.8122421503067017, 0.8028316497802734, 0.7998448610305786, 0.7978290915489197, 0.8049805760383606, 0.8091869354248047, 0.7977853417396545, 0.7969744205474854, 0.796508252620697, 0.7954268455505371, 0.8045516014099121, 0.8010838627815247, 0.7954719662666321, 0.7953111529350281, 0.8017899990081787, 0.796161949634552, 0.8023525476455688, 0.7956680655479431, 0.7938088774681091, 0.7961350679397583, 0.7989593744277954, 0.7959492802619934, 0.7930888533592224, 0.7953541874885559, 0.7942318916320801, 0.7957602739334106, 0.793613076210022, 0.7935414910316467, 0.7935348153114319, 0.7948523163795471, 0.7943196892738342, 0.7933995127677917, 0.7942845225334167, 0.7932013869285583, 0.795397937297821, 0.7943454384803772, 0.7938722968101501, 0.7942334413528442, 0.7938726544380188, 0.794576108455658, 0.7934432029724121, 0.7931607961654663, 0.7931248545646667, 0.7944796085357666, 0.7945371866226196, 0.7935035228729248, 0.7958583831787109, 0.7938826084136963, 0.793319821357727, 0.7930265665054321, 0.7937620282173157, 0.7931857705116272, 0.792940616607666, 0.7940697073936462, 0.7936347126960754, 0.7936342358589172, 0.7928628921508789]\n"
     ]
    },
    {
     "name": "stderr",
     "output_type": "stream",
     "text": [
      " 72%|███████▏  | 72/100 [28:46<11:04, 23.73s/it]"
     ]
    },
    {
     "name": "stdout",
     "output_type": "stream",
     "text": [
      "[1.7546837329864502, 1.5517641305923462, 1.1961331367492676, 1.253907322883606, 0.9549305438995361, 0.8409180641174316, 0.9344982504844666, 1.2062411308288574, 0.9092323780059814, 0.8683468103408813, 0.8000071048736572, 0.8883180022239685, 0.8412086367607117, 0.7984576225280762, 0.8122421503067017, 0.8028316497802734, 0.7998448610305786, 0.7978290915489197, 0.8049805760383606, 0.8091869354248047, 0.7977853417396545, 0.7969744205474854, 0.796508252620697, 0.7954268455505371, 0.8045516014099121, 0.8010838627815247, 0.7954719662666321, 0.7953111529350281, 0.8017899990081787, 0.796161949634552, 0.8023525476455688, 0.7956680655479431, 0.7938088774681091, 0.7961350679397583, 0.7989593744277954, 0.7959492802619934, 0.7930888533592224, 0.7953541874885559, 0.7942318916320801, 0.7957602739334106, 0.793613076210022, 0.7935414910316467, 0.7935348153114319, 0.7948523163795471, 0.7943196892738342, 0.7933995127677917, 0.7942845225334167, 0.7932013869285583, 0.795397937297821, 0.7943454384803772, 0.7938722968101501, 0.7942334413528442, 0.7938726544380188, 0.794576108455658, 0.7934432029724121, 0.7931607961654663, 0.7931248545646667, 0.7944796085357666, 0.7945371866226196, 0.7935035228729248, 0.7958583831787109, 0.7938826084136963, 0.793319821357727, 0.7930265665054321, 0.7937620282173157, 0.7931857705116272, 0.792940616607666, 0.7940697073936462, 0.7936347126960754, 0.7936342358589172, 0.7928628921508789, 0.7935700416564941]\n"
     ]
    },
    {
     "name": "stderr",
     "output_type": "stream",
     "text": [
      " 73%|███████▎  | 73/100 [29:10<10:41, 23.74s/it]"
     ]
    },
    {
     "name": "stdout",
     "output_type": "stream",
     "text": [
      "[1.7546837329864502, 1.5517641305923462, 1.1961331367492676, 1.253907322883606, 0.9549305438995361, 0.8409180641174316, 0.9344982504844666, 1.2062411308288574, 0.9092323780059814, 0.8683468103408813, 0.8000071048736572, 0.8883180022239685, 0.8412086367607117, 0.7984576225280762, 0.8122421503067017, 0.8028316497802734, 0.7998448610305786, 0.7978290915489197, 0.8049805760383606, 0.8091869354248047, 0.7977853417396545, 0.7969744205474854, 0.796508252620697, 0.7954268455505371, 0.8045516014099121, 0.8010838627815247, 0.7954719662666321, 0.7953111529350281, 0.8017899990081787, 0.796161949634552, 0.8023525476455688, 0.7956680655479431, 0.7938088774681091, 0.7961350679397583, 0.7989593744277954, 0.7959492802619934, 0.7930888533592224, 0.7953541874885559, 0.7942318916320801, 0.7957602739334106, 0.793613076210022, 0.7935414910316467, 0.7935348153114319, 0.7948523163795471, 0.7943196892738342, 0.7933995127677917, 0.7942845225334167, 0.7932013869285583, 0.795397937297821, 0.7943454384803772, 0.7938722968101501, 0.7942334413528442, 0.7938726544380188, 0.794576108455658, 0.7934432029724121, 0.7931607961654663, 0.7931248545646667, 0.7944796085357666, 0.7945371866226196, 0.7935035228729248, 0.7958583831787109, 0.7938826084136963, 0.793319821357727, 0.7930265665054321, 0.7937620282173157, 0.7931857705116272, 0.792940616607666, 0.7940697073936462, 0.7936347126960754, 0.7936342358589172, 0.7928628921508789, 0.7935700416564941, 0.7926568984985352]\n"
     ]
    },
    {
     "name": "stderr",
     "output_type": "stream",
     "text": [
      " 74%|███████▍  | 74/100 [29:34<10:18, 23.80s/it]"
     ]
    },
    {
     "name": "stdout",
     "output_type": "stream",
     "text": [
      "[1.7546837329864502, 1.5517641305923462, 1.1961331367492676, 1.253907322883606, 0.9549305438995361, 0.8409180641174316, 0.9344982504844666, 1.2062411308288574, 0.9092323780059814, 0.8683468103408813, 0.8000071048736572, 0.8883180022239685, 0.8412086367607117, 0.7984576225280762, 0.8122421503067017, 0.8028316497802734, 0.7998448610305786, 0.7978290915489197, 0.8049805760383606, 0.8091869354248047, 0.7977853417396545, 0.7969744205474854, 0.796508252620697, 0.7954268455505371, 0.8045516014099121, 0.8010838627815247, 0.7954719662666321, 0.7953111529350281, 0.8017899990081787, 0.796161949634552, 0.8023525476455688, 0.7956680655479431, 0.7938088774681091, 0.7961350679397583, 0.7989593744277954, 0.7959492802619934, 0.7930888533592224, 0.7953541874885559, 0.7942318916320801, 0.7957602739334106, 0.793613076210022, 0.7935414910316467, 0.7935348153114319, 0.7948523163795471, 0.7943196892738342, 0.7933995127677917, 0.7942845225334167, 0.7932013869285583, 0.795397937297821, 0.7943454384803772, 0.7938722968101501, 0.7942334413528442, 0.7938726544380188, 0.794576108455658, 0.7934432029724121, 0.7931607961654663, 0.7931248545646667, 0.7944796085357666, 0.7945371866226196, 0.7935035228729248, 0.7958583831787109, 0.7938826084136963, 0.793319821357727, 0.7930265665054321, 0.7937620282173157, 0.7931857705116272, 0.792940616607666, 0.7940697073936462, 0.7936347126960754, 0.7936342358589172, 0.7928628921508789, 0.7935700416564941, 0.7926568984985352, 0.7935792207717896]\n"
     ]
    },
    {
     "name": "stderr",
     "output_type": "stream",
     "text": [
      " 75%|███████▌  | 75/100 [29:58<09:55, 23.80s/it]"
     ]
    },
    {
     "name": "stdout",
     "output_type": "stream",
     "text": [
      "[1.7546837329864502, 1.5517641305923462, 1.1961331367492676, 1.253907322883606, 0.9549305438995361, 0.8409180641174316, 0.9344982504844666, 1.2062411308288574, 0.9092323780059814, 0.8683468103408813, 0.8000071048736572, 0.8883180022239685, 0.8412086367607117, 0.7984576225280762, 0.8122421503067017, 0.8028316497802734, 0.7998448610305786, 0.7978290915489197, 0.8049805760383606, 0.8091869354248047, 0.7977853417396545, 0.7969744205474854, 0.796508252620697, 0.7954268455505371, 0.8045516014099121, 0.8010838627815247, 0.7954719662666321, 0.7953111529350281, 0.8017899990081787, 0.796161949634552, 0.8023525476455688, 0.7956680655479431, 0.7938088774681091, 0.7961350679397583, 0.7989593744277954, 0.7959492802619934, 0.7930888533592224, 0.7953541874885559, 0.7942318916320801, 0.7957602739334106, 0.793613076210022, 0.7935414910316467, 0.7935348153114319, 0.7948523163795471, 0.7943196892738342, 0.7933995127677917, 0.7942845225334167, 0.7932013869285583, 0.795397937297821, 0.7943454384803772, 0.7938722968101501, 0.7942334413528442, 0.7938726544380188, 0.794576108455658, 0.7934432029724121, 0.7931607961654663, 0.7931248545646667, 0.7944796085357666, 0.7945371866226196, 0.7935035228729248, 0.7958583831787109, 0.7938826084136963, 0.793319821357727, 0.7930265665054321, 0.7937620282173157, 0.7931857705116272, 0.792940616607666, 0.7940697073936462, 0.7936347126960754, 0.7936342358589172, 0.7928628921508789, 0.7935700416564941, 0.7926568984985352, 0.7935792207717896, 0.7934043407440186]\n"
     ]
    },
    {
     "name": "stderr",
     "output_type": "stream",
     "text": [
      " 76%|███████▌  | 76/100 [30:22<09:31, 23.81s/it]"
     ]
    },
    {
     "name": "stdout",
     "output_type": "stream",
     "text": [
      "[1.7546837329864502, 1.5517641305923462, 1.1961331367492676, 1.253907322883606, 0.9549305438995361, 0.8409180641174316, 0.9344982504844666, 1.2062411308288574, 0.9092323780059814, 0.8683468103408813, 0.8000071048736572, 0.8883180022239685, 0.8412086367607117, 0.7984576225280762, 0.8122421503067017, 0.8028316497802734, 0.7998448610305786, 0.7978290915489197, 0.8049805760383606, 0.8091869354248047, 0.7977853417396545, 0.7969744205474854, 0.796508252620697, 0.7954268455505371, 0.8045516014099121, 0.8010838627815247, 0.7954719662666321, 0.7953111529350281, 0.8017899990081787, 0.796161949634552, 0.8023525476455688, 0.7956680655479431, 0.7938088774681091, 0.7961350679397583, 0.7989593744277954, 0.7959492802619934, 0.7930888533592224, 0.7953541874885559, 0.7942318916320801, 0.7957602739334106, 0.793613076210022, 0.7935414910316467, 0.7935348153114319, 0.7948523163795471, 0.7943196892738342, 0.7933995127677917, 0.7942845225334167, 0.7932013869285583, 0.795397937297821, 0.7943454384803772, 0.7938722968101501, 0.7942334413528442, 0.7938726544380188, 0.794576108455658, 0.7934432029724121, 0.7931607961654663, 0.7931248545646667, 0.7944796085357666, 0.7945371866226196, 0.7935035228729248, 0.7958583831787109, 0.7938826084136963, 0.793319821357727, 0.7930265665054321, 0.7937620282173157, 0.7931857705116272, 0.792940616607666, 0.7940697073936462, 0.7936347126960754, 0.7936342358589172, 0.7928628921508789, 0.7935700416564941, 0.7926568984985352, 0.7935792207717896, 0.7934043407440186, 0.7939911484718323]\n"
     ]
    },
    {
     "name": "stderr",
     "output_type": "stream",
     "text": [
      " 77%|███████▋  | 77/100 [30:46<09:08, 23.86s/it]"
     ]
    },
    {
     "name": "stdout",
     "output_type": "stream",
     "text": [
      "[1.7546837329864502, 1.5517641305923462, 1.1961331367492676, 1.253907322883606, 0.9549305438995361, 0.8409180641174316, 0.9344982504844666, 1.2062411308288574, 0.9092323780059814, 0.8683468103408813, 0.8000071048736572, 0.8883180022239685, 0.8412086367607117, 0.7984576225280762, 0.8122421503067017, 0.8028316497802734, 0.7998448610305786, 0.7978290915489197, 0.8049805760383606, 0.8091869354248047, 0.7977853417396545, 0.7969744205474854, 0.796508252620697, 0.7954268455505371, 0.8045516014099121, 0.8010838627815247, 0.7954719662666321, 0.7953111529350281, 0.8017899990081787, 0.796161949634552, 0.8023525476455688, 0.7956680655479431, 0.7938088774681091, 0.7961350679397583, 0.7989593744277954, 0.7959492802619934, 0.7930888533592224, 0.7953541874885559, 0.7942318916320801, 0.7957602739334106, 0.793613076210022, 0.7935414910316467, 0.7935348153114319, 0.7948523163795471, 0.7943196892738342, 0.7933995127677917, 0.7942845225334167, 0.7932013869285583, 0.795397937297821, 0.7943454384803772, 0.7938722968101501, 0.7942334413528442, 0.7938726544380188, 0.794576108455658, 0.7934432029724121, 0.7931607961654663, 0.7931248545646667, 0.7944796085357666, 0.7945371866226196, 0.7935035228729248, 0.7958583831787109, 0.7938826084136963, 0.793319821357727, 0.7930265665054321, 0.7937620282173157, 0.7931857705116272, 0.792940616607666, 0.7940697073936462, 0.7936347126960754, 0.7936342358589172, 0.7928628921508789, 0.7935700416564941, 0.7926568984985352, 0.7935792207717896, 0.7934043407440186, 0.7939911484718323, 0.7932226657867432]\n"
     ]
    },
    {
     "name": "stderr",
     "output_type": "stream",
     "text": [
      " 78%|███████▊  | 78/100 [31:09<08:42, 23.76s/it]"
     ]
    },
    {
     "name": "stdout",
     "output_type": "stream",
     "text": [
      "[1.7546837329864502, 1.5517641305923462, 1.1961331367492676, 1.253907322883606, 0.9549305438995361, 0.8409180641174316, 0.9344982504844666, 1.2062411308288574, 0.9092323780059814, 0.8683468103408813, 0.8000071048736572, 0.8883180022239685, 0.8412086367607117, 0.7984576225280762, 0.8122421503067017, 0.8028316497802734, 0.7998448610305786, 0.7978290915489197, 0.8049805760383606, 0.8091869354248047, 0.7977853417396545, 0.7969744205474854, 0.796508252620697, 0.7954268455505371, 0.8045516014099121, 0.8010838627815247, 0.7954719662666321, 0.7953111529350281, 0.8017899990081787, 0.796161949634552, 0.8023525476455688, 0.7956680655479431, 0.7938088774681091, 0.7961350679397583, 0.7989593744277954, 0.7959492802619934, 0.7930888533592224, 0.7953541874885559, 0.7942318916320801, 0.7957602739334106, 0.793613076210022, 0.7935414910316467, 0.7935348153114319, 0.7948523163795471, 0.7943196892738342, 0.7933995127677917, 0.7942845225334167, 0.7932013869285583, 0.795397937297821, 0.7943454384803772, 0.7938722968101501, 0.7942334413528442, 0.7938726544380188, 0.794576108455658, 0.7934432029724121, 0.7931607961654663, 0.7931248545646667, 0.7944796085357666, 0.7945371866226196, 0.7935035228729248, 0.7958583831787109, 0.7938826084136963, 0.793319821357727, 0.7930265665054321, 0.7937620282173157, 0.7931857705116272, 0.792940616607666, 0.7940697073936462, 0.7936347126960754, 0.7936342358589172, 0.7928628921508789, 0.7935700416564941, 0.7926568984985352, 0.7935792207717896, 0.7934043407440186, 0.7939911484718323, 0.7932226657867432, 0.7936283349990845]\n"
     ]
    },
    {
     "name": "stderr",
     "output_type": "stream",
     "text": [
      " 79%|███████▉  | 79/100 [31:33<08:18, 23.72s/it]"
     ]
    },
    {
     "name": "stdout",
     "output_type": "stream",
     "text": [
      "[1.7546837329864502, 1.5517641305923462, 1.1961331367492676, 1.253907322883606, 0.9549305438995361, 0.8409180641174316, 0.9344982504844666, 1.2062411308288574, 0.9092323780059814, 0.8683468103408813, 0.8000071048736572, 0.8883180022239685, 0.8412086367607117, 0.7984576225280762, 0.8122421503067017, 0.8028316497802734, 0.7998448610305786, 0.7978290915489197, 0.8049805760383606, 0.8091869354248047, 0.7977853417396545, 0.7969744205474854, 0.796508252620697, 0.7954268455505371, 0.8045516014099121, 0.8010838627815247, 0.7954719662666321, 0.7953111529350281, 0.8017899990081787, 0.796161949634552, 0.8023525476455688, 0.7956680655479431, 0.7938088774681091, 0.7961350679397583, 0.7989593744277954, 0.7959492802619934, 0.7930888533592224, 0.7953541874885559, 0.7942318916320801, 0.7957602739334106, 0.793613076210022, 0.7935414910316467, 0.7935348153114319, 0.7948523163795471, 0.7943196892738342, 0.7933995127677917, 0.7942845225334167, 0.7932013869285583, 0.795397937297821, 0.7943454384803772, 0.7938722968101501, 0.7942334413528442, 0.7938726544380188, 0.794576108455658, 0.7934432029724121, 0.7931607961654663, 0.7931248545646667, 0.7944796085357666, 0.7945371866226196, 0.7935035228729248, 0.7958583831787109, 0.7938826084136963, 0.793319821357727, 0.7930265665054321, 0.7937620282173157, 0.7931857705116272, 0.792940616607666, 0.7940697073936462, 0.7936347126960754, 0.7936342358589172, 0.7928628921508789, 0.7935700416564941, 0.7926568984985352, 0.7935792207717896, 0.7934043407440186, 0.7939911484718323, 0.7932226657867432, 0.7936283349990845, 0.7929121851921082]\n"
     ]
    },
    {
     "name": "stderr",
     "output_type": "stream",
     "text": [
      " 80%|████████  | 80/100 [31:56<07:54, 23.73s/it]"
     ]
    },
    {
     "name": "stdout",
     "output_type": "stream",
     "text": [
      "[1.7546837329864502, 1.5517641305923462, 1.1961331367492676, 1.253907322883606, 0.9549305438995361, 0.8409180641174316, 0.9344982504844666, 1.2062411308288574, 0.9092323780059814, 0.8683468103408813, 0.8000071048736572, 0.8883180022239685, 0.8412086367607117, 0.7984576225280762, 0.8122421503067017, 0.8028316497802734, 0.7998448610305786, 0.7978290915489197, 0.8049805760383606, 0.8091869354248047, 0.7977853417396545, 0.7969744205474854, 0.796508252620697, 0.7954268455505371, 0.8045516014099121, 0.8010838627815247, 0.7954719662666321, 0.7953111529350281, 0.8017899990081787, 0.796161949634552, 0.8023525476455688, 0.7956680655479431, 0.7938088774681091, 0.7961350679397583, 0.7989593744277954, 0.7959492802619934, 0.7930888533592224, 0.7953541874885559, 0.7942318916320801, 0.7957602739334106, 0.793613076210022, 0.7935414910316467, 0.7935348153114319, 0.7948523163795471, 0.7943196892738342, 0.7933995127677917, 0.7942845225334167, 0.7932013869285583, 0.795397937297821, 0.7943454384803772, 0.7938722968101501, 0.7942334413528442, 0.7938726544380188, 0.794576108455658, 0.7934432029724121, 0.7931607961654663, 0.7931248545646667, 0.7944796085357666, 0.7945371866226196, 0.7935035228729248, 0.7958583831787109, 0.7938826084136963, 0.793319821357727, 0.7930265665054321, 0.7937620282173157, 0.7931857705116272, 0.792940616607666, 0.7940697073936462, 0.7936347126960754, 0.7936342358589172, 0.7928628921508789, 0.7935700416564941, 0.7926568984985352, 0.7935792207717896, 0.7934043407440186, 0.7939911484718323, 0.7932226657867432, 0.7936283349990845, 0.7929121851921082, 0.7926371693611145]\n"
     ]
    },
    {
     "name": "stderr",
     "output_type": "stream",
     "text": [
      " 81%|████████  | 81/100 [32:20<07:30, 23.73s/it]"
     ]
    },
    {
     "name": "stdout",
     "output_type": "stream",
     "text": [
      "[1.7546837329864502, 1.5517641305923462, 1.1961331367492676, 1.253907322883606, 0.9549305438995361, 0.8409180641174316, 0.9344982504844666, 1.2062411308288574, 0.9092323780059814, 0.8683468103408813, 0.8000071048736572, 0.8883180022239685, 0.8412086367607117, 0.7984576225280762, 0.8122421503067017, 0.8028316497802734, 0.7998448610305786, 0.7978290915489197, 0.8049805760383606, 0.8091869354248047, 0.7977853417396545, 0.7969744205474854, 0.796508252620697, 0.7954268455505371, 0.8045516014099121, 0.8010838627815247, 0.7954719662666321, 0.7953111529350281, 0.8017899990081787, 0.796161949634552, 0.8023525476455688, 0.7956680655479431, 0.7938088774681091, 0.7961350679397583, 0.7989593744277954, 0.7959492802619934, 0.7930888533592224, 0.7953541874885559, 0.7942318916320801, 0.7957602739334106, 0.793613076210022, 0.7935414910316467, 0.7935348153114319, 0.7948523163795471, 0.7943196892738342, 0.7933995127677917, 0.7942845225334167, 0.7932013869285583, 0.795397937297821, 0.7943454384803772, 0.7938722968101501, 0.7942334413528442, 0.7938726544380188, 0.794576108455658, 0.7934432029724121, 0.7931607961654663, 0.7931248545646667, 0.7944796085357666, 0.7945371866226196, 0.7935035228729248, 0.7958583831787109, 0.7938826084136963, 0.793319821357727, 0.7930265665054321, 0.7937620282173157, 0.7931857705116272, 0.792940616607666, 0.7940697073936462, 0.7936347126960754, 0.7936342358589172, 0.7928628921508789, 0.7935700416564941, 0.7926568984985352, 0.7935792207717896, 0.7934043407440186, 0.7939911484718323, 0.7932226657867432, 0.7936283349990845, 0.7929121851921082, 0.7926371693611145, 0.7934821248054504]\n"
     ]
    },
    {
     "name": "stderr",
     "output_type": "stream",
     "text": [
      " 82%|████████▏ | 82/100 [32:44<07:06, 23.71s/it]"
     ]
    },
    {
     "name": "stdout",
     "output_type": "stream",
     "text": [
      "[1.7546837329864502, 1.5517641305923462, 1.1961331367492676, 1.253907322883606, 0.9549305438995361, 0.8409180641174316, 0.9344982504844666, 1.2062411308288574, 0.9092323780059814, 0.8683468103408813, 0.8000071048736572, 0.8883180022239685, 0.8412086367607117, 0.7984576225280762, 0.8122421503067017, 0.8028316497802734, 0.7998448610305786, 0.7978290915489197, 0.8049805760383606, 0.8091869354248047, 0.7977853417396545, 0.7969744205474854, 0.796508252620697, 0.7954268455505371, 0.8045516014099121, 0.8010838627815247, 0.7954719662666321, 0.7953111529350281, 0.8017899990081787, 0.796161949634552, 0.8023525476455688, 0.7956680655479431, 0.7938088774681091, 0.7961350679397583, 0.7989593744277954, 0.7959492802619934, 0.7930888533592224, 0.7953541874885559, 0.7942318916320801, 0.7957602739334106, 0.793613076210022, 0.7935414910316467, 0.7935348153114319, 0.7948523163795471, 0.7943196892738342, 0.7933995127677917, 0.7942845225334167, 0.7932013869285583, 0.795397937297821, 0.7943454384803772, 0.7938722968101501, 0.7942334413528442, 0.7938726544380188, 0.794576108455658, 0.7934432029724121, 0.7931607961654663, 0.7931248545646667, 0.7944796085357666, 0.7945371866226196, 0.7935035228729248, 0.7958583831787109, 0.7938826084136963, 0.793319821357727, 0.7930265665054321, 0.7937620282173157, 0.7931857705116272, 0.792940616607666, 0.7940697073936462, 0.7936347126960754, 0.7936342358589172, 0.7928628921508789, 0.7935700416564941, 0.7926568984985352, 0.7935792207717896, 0.7934043407440186, 0.7939911484718323, 0.7932226657867432, 0.7936283349990845, 0.7929121851921082, 0.7926371693611145, 0.7934821248054504, 0.793359100818634]\n"
     ]
    },
    {
     "name": "stderr",
     "output_type": "stream",
     "text": [
      " 83%|████████▎ | 83/100 [33:07<06:42, 23.69s/it]"
     ]
    },
    {
     "name": "stdout",
     "output_type": "stream",
     "text": [
      "[1.7546837329864502, 1.5517641305923462, 1.1961331367492676, 1.253907322883606, 0.9549305438995361, 0.8409180641174316, 0.9344982504844666, 1.2062411308288574, 0.9092323780059814, 0.8683468103408813, 0.8000071048736572, 0.8883180022239685, 0.8412086367607117, 0.7984576225280762, 0.8122421503067017, 0.8028316497802734, 0.7998448610305786, 0.7978290915489197, 0.8049805760383606, 0.8091869354248047, 0.7977853417396545, 0.7969744205474854, 0.796508252620697, 0.7954268455505371, 0.8045516014099121, 0.8010838627815247, 0.7954719662666321, 0.7953111529350281, 0.8017899990081787, 0.796161949634552, 0.8023525476455688, 0.7956680655479431, 0.7938088774681091, 0.7961350679397583, 0.7989593744277954, 0.7959492802619934, 0.7930888533592224, 0.7953541874885559, 0.7942318916320801, 0.7957602739334106, 0.793613076210022, 0.7935414910316467, 0.7935348153114319, 0.7948523163795471, 0.7943196892738342, 0.7933995127677917, 0.7942845225334167, 0.7932013869285583, 0.795397937297821, 0.7943454384803772, 0.7938722968101501, 0.7942334413528442, 0.7938726544380188, 0.794576108455658, 0.7934432029724121, 0.7931607961654663, 0.7931248545646667, 0.7944796085357666, 0.7945371866226196, 0.7935035228729248, 0.7958583831787109, 0.7938826084136963, 0.793319821357727, 0.7930265665054321, 0.7937620282173157, 0.7931857705116272, 0.792940616607666, 0.7940697073936462, 0.7936347126960754, 0.7936342358589172, 0.7928628921508789, 0.7935700416564941, 0.7926568984985352, 0.7935792207717896, 0.7934043407440186, 0.7939911484718323, 0.7932226657867432, 0.7936283349990845, 0.7929121851921082, 0.7926371693611145, 0.7934821248054504, 0.793359100818634, 0.7928577661514282]\n"
     ]
    },
    {
     "name": "stderr",
     "output_type": "stream",
     "text": [
      " 84%|████████▍ | 84/100 [33:31<06:18, 23.63s/it]"
     ]
    },
    {
     "name": "stdout",
     "output_type": "stream",
     "text": [
      "[1.7546837329864502, 1.5517641305923462, 1.1961331367492676, 1.253907322883606, 0.9549305438995361, 0.8409180641174316, 0.9344982504844666, 1.2062411308288574, 0.9092323780059814, 0.8683468103408813, 0.8000071048736572, 0.8883180022239685, 0.8412086367607117, 0.7984576225280762, 0.8122421503067017, 0.8028316497802734, 0.7998448610305786, 0.7978290915489197, 0.8049805760383606, 0.8091869354248047, 0.7977853417396545, 0.7969744205474854, 0.796508252620697, 0.7954268455505371, 0.8045516014099121, 0.8010838627815247, 0.7954719662666321, 0.7953111529350281, 0.8017899990081787, 0.796161949634552, 0.8023525476455688, 0.7956680655479431, 0.7938088774681091, 0.7961350679397583, 0.7989593744277954, 0.7959492802619934, 0.7930888533592224, 0.7953541874885559, 0.7942318916320801, 0.7957602739334106, 0.793613076210022, 0.7935414910316467, 0.7935348153114319, 0.7948523163795471, 0.7943196892738342, 0.7933995127677917, 0.7942845225334167, 0.7932013869285583, 0.795397937297821, 0.7943454384803772, 0.7938722968101501, 0.7942334413528442, 0.7938726544380188, 0.794576108455658, 0.7934432029724121, 0.7931607961654663, 0.7931248545646667, 0.7944796085357666, 0.7945371866226196, 0.7935035228729248, 0.7958583831787109, 0.7938826084136963, 0.793319821357727, 0.7930265665054321, 0.7937620282173157, 0.7931857705116272, 0.792940616607666, 0.7940697073936462, 0.7936347126960754, 0.7936342358589172, 0.7928628921508789, 0.7935700416564941, 0.7926568984985352, 0.7935792207717896, 0.7934043407440186, 0.7939911484718323, 0.7932226657867432, 0.7936283349990845, 0.7929121851921082, 0.7926371693611145, 0.7934821248054504, 0.793359100818634, 0.7928577661514282, 0.7925106883049011]\n"
     ]
    },
    {
     "name": "stderr",
     "output_type": "stream",
     "text": [
      " 85%|████████▌ | 85/100 [33:55<05:54, 23.63s/it]"
     ]
    },
    {
     "name": "stdout",
     "output_type": "stream",
     "text": [
      "[1.7546837329864502, 1.5517641305923462, 1.1961331367492676, 1.253907322883606, 0.9549305438995361, 0.8409180641174316, 0.9344982504844666, 1.2062411308288574, 0.9092323780059814, 0.8683468103408813, 0.8000071048736572, 0.8883180022239685, 0.8412086367607117, 0.7984576225280762, 0.8122421503067017, 0.8028316497802734, 0.7998448610305786, 0.7978290915489197, 0.8049805760383606, 0.8091869354248047, 0.7977853417396545, 0.7969744205474854, 0.796508252620697, 0.7954268455505371, 0.8045516014099121, 0.8010838627815247, 0.7954719662666321, 0.7953111529350281, 0.8017899990081787, 0.796161949634552, 0.8023525476455688, 0.7956680655479431, 0.7938088774681091, 0.7961350679397583, 0.7989593744277954, 0.7959492802619934, 0.7930888533592224, 0.7953541874885559, 0.7942318916320801, 0.7957602739334106, 0.793613076210022, 0.7935414910316467, 0.7935348153114319, 0.7948523163795471, 0.7943196892738342, 0.7933995127677917, 0.7942845225334167, 0.7932013869285583, 0.795397937297821, 0.7943454384803772, 0.7938722968101501, 0.7942334413528442, 0.7938726544380188, 0.794576108455658, 0.7934432029724121, 0.7931607961654663, 0.7931248545646667, 0.7944796085357666, 0.7945371866226196, 0.7935035228729248, 0.7958583831787109, 0.7938826084136963, 0.793319821357727, 0.7930265665054321, 0.7937620282173157, 0.7931857705116272, 0.792940616607666, 0.7940697073936462, 0.7936347126960754, 0.7936342358589172, 0.7928628921508789, 0.7935700416564941, 0.7926568984985352, 0.7935792207717896, 0.7934043407440186, 0.7939911484718323, 0.7932226657867432, 0.7936283349990845, 0.7929121851921082, 0.7926371693611145, 0.7934821248054504, 0.793359100818634, 0.7928577661514282, 0.7925106883049011, 0.7926624417304993]\n"
     ]
    },
    {
     "name": "stderr",
     "output_type": "stream",
     "text": [
      " 86%|████████▌ | 86/100 [34:18<05:31, 23.71s/it]"
     ]
    },
    {
     "name": "stdout",
     "output_type": "stream",
     "text": [
      "[1.7546837329864502, 1.5517641305923462, 1.1961331367492676, 1.253907322883606, 0.9549305438995361, 0.8409180641174316, 0.9344982504844666, 1.2062411308288574, 0.9092323780059814, 0.8683468103408813, 0.8000071048736572, 0.8883180022239685, 0.8412086367607117, 0.7984576225280762, 0.8122421503067017, 0.8028316497802734, 0.7998448610305786, 0.7978290915489197, 0.8049805760383606, 0.8091869354248047, 0.7977853417396545, 0.7969744205474854, 0.796508252620697, 0.7954268455505371, 0.8045516014099121, 0.8010838627815247, 0.7954719662666321, 0.7953111529350281, 0.8017899990081787, 0.796161949634552, 0.8023525476455688, 0.7956680655479431, 0.7938088774681091, 0.7961350679397583, 0.7989593744277954, 0.7959492802619934, 0.7930888533592224, 0.7953541874885559, 0.7942318916320801, 0.7957602739334106, 0.793613076210022, 0.7935414910316467, 0.7935348153114319, 0.7948523163795471, 0.7943196892738342, 0.7933995127677917, 0.7942845225334167, 0.7932013869285583, 0.795397937297821, 0.7943454384803772, 0.7938722968101501, 0.7942334413528442, 0.7938726544380188, 0.794576108455658, 0.7934432029724121, 0.7931607961654663, 0.7931248545646667, 0.7944796085357666, 0.7945371866226196, 0.7935035228729248, 0.7958583831787109, 0.7938826084136963, 0.793319821357727, 0.7930265665054321, 0.7937620282173157, 0.7931857705116272, 0.792940616607666, 0.7940697073936462, 0.7936347126960754, 0.7936342358589172, 0.7928628921508789, 0.7935700416564941, 0.7926568984985352, 0.7935792207717896, 0.7934043407440186, 0.7939911484718323, 0.7932226657867432, 0.7936283349990845, 0.7929121851921082, 0.7926371693611145, 0.7934821248054504, 0.793359100818634, 0.7928577661514282, 0.7925106883049011, 0.7926624417304993, 0.7931554317474365]\n"
     ]
    },
    {
     "name": "stderr",
     "output_type": "stream",
     "text": [
      " 87%|████████▋ | 87/100 [34:42<05:08, 23.73s/it]"
     ]
    },
    {
     "name": "stdout",
     "output_type": "stream",
     "text": [
      "[1.7546837329864502, 1.5517641305923462, 1.1961331367492676, 1.253907322883606, 0.9549305438995361, 0.8409180641174316, 0.9344982504844666, 1.2062411308288574, 0.9092323780059814, 0.8683468103408813, 0.8000071048736572, 0.8883180022239685, 0.8412086367607117, 0.7984576225280762, 0.8122421503067017, 0.8028316497802734, 0.7998448610305786, 0.7978290915489197, 0.8049805760383606, 0.8091869354248047, 0.7977853417396545, 0.7969744205474854, 0.796508252620697, 0.7954268455505371, 0.8045516014099121, 0.8010838627815247, 0.7954719662666321, 0.7953111529350281, 0.8017899990081787, 0.796161949634552, 0.8023525476455688, 0.7956680655479431, 0.7938088774681091, 0.7961350679397583, 0.7989593744277954, 0.7959492802619934, 0.7930888533592224, 0.7953541874885559, 0.7942318916320801, 0.7957602739334106, 0.793613076210022, 0.7935414910316467, 0.7935348153114319, 0.7948523163795471, 0.7943196892738342, 0.7933995127677917, 0.7942845225334167, 0.7932013869285583, 0.795397937297821, 0.7943454384803772, 0.7938722968101501, 0.7942334413528442, 0.7938726544380188, 0.794576108455658, 0.7934432029724121, 0.7931607961654663, 0.7931248545646667, 0.7944796085357666, 0.7945371866226196, 0.7935035228729248, 0.7958583831787109, 0.7938826084136963, 0.793319821357727, 0.7930265665054321, 0.7937620282173157, 0.7931857705116272, 0.792940616607666, 0.7940697073936462, 0.7936347126960754, 0.7936342358589172, 0.7928628921508789, 0.7935700416564941, 0.7926568984985352, 0.7935792207717896, 0.7934043407440186, 0.7939911484718323, 0.7932226657867432, 0.7936283349990845, 0.7929121851921082, 0.7926371693611145, 0.7934821248054504, 0.793359100818634, 0.7928577661514282, 0.7925106883049011, 0.7926624417304993, 0.7931554317474365, 0.8017225861549377]\n"
     ]
    },
    {
     "name": "stderr",
     "output_type": "stream",
     "text": [
      " 88%|████████▊ | 88/100 [35:06<04:44, 23.73s/it]"
     ]
    },
    {
     "name": "stdout",
     "output_type": "stream",
     "text": [
      "[1.7546837329864502, 1.5517641305923462, 1.1961331367492676, 1.253907322883606, 0.9549305438995361, 0.8409180641174316, 0.9344982504844666, 1.2062411308288574, 0.9092323780059814, 0.8683468103408813, 0.8000071048736572, 0.8883180022239685, 0.8412086367607117, 0.7984576225280762, 0.8122421503067017, 0.8028316497802734, 0.7998448610305786, 0.7978290915489197, 0.8049805760383606, 0.8091869354248047, 0.7977853417396545, 0.7969744205474854, 0.796508252620697, 0.7954268455505371, 0.8045516014099121, 0.8010838627815247, 0.7954719662666321, 0.7953111529350281, 0.8017899990081787, 0.796161949634552, 0.8023525476455688, 0.7956680655479431, 0.7938088774681091, 0.7961350679397583, 0.7989593744277954, 0.7959492802619934, 0.7930888533592224, 0.7953541874885559, 0.7942318916320801, 0.7957602739334106, 0.793613076210022, 0.7935414910316467, 0.7935348153114319, 0.7948523163795471, 0.7943196892738342, 0.7933995127677917, 0.7942845225334167, 0.7932013869285583, 0.795397937297821, 0.7943454384803772, 0.7938722968101501, 0.7942334413528442, 0.7938726544380188, 0.794576108455658, 0.7934432029724121, 0.7931607961654663, 0.7931248545646667, 0.7944796085357666, 0.7945371866226196, 0.7935035228729248, 0.7958583831787109, 0.7938826084136963, 0.793319821357727, 0.7930265665054321, 0.7937620282173157, 0.7931857705116272, 0.792940616607666, 0.7940697073936462, 0.7936347126960754, 0.7936342358589172, 0.7928628921508789, 0.7935700416564941, 0.7926568984985352, 0.7935792207717896, 0.7934043407440186, 0.7939911484718323, 0.7932226657867432, 0.7936283349990845, 0.7929121851921082, 0.7926371693611145, 0.7934821248054504, 0.793359100818634, 0.7928577661514282, 0.7925106883049011, 0.7926624417304993, 0.7931554317474365, 0.8017225861549377, 0.792590856552124]\n"
     ]
    },
    {
     "name": "stderr",
     "output_type": "stream",
     "text": [
      " 89%|████████▉ | 89/100 [35:30<04:21, 23.76s/it]"
     ]
    },
    {
     "name": "stdout",
     "output_type": "stream",
     "text": [
      "[1.7546837329864502, 1.5517641305923462, 1.1961331367492676, 1.253907322883606, 0.9549305438995361, 0.8409180641174316, 0.9344982504844666, 1.2062411308288574, 0.9092323780059814, 0.8683468103408813, 0.8000071048736572, 0.8883180022239685, 0.8412086367607117, 0.7984576225280762, 0.8122421503067017, 0.8028316497802734, 0.7998448610305786, 0.7978290915489197, 0.8049805760383606, 0.8091869354248047, 0.7977853417396545, 0.7969744205474854, 0.796508252620697, 0.7954268455505371, 0.8045516014099121, 0.8010838627815247, 0.7954719662666321, 0.7953111529350281, 0.8017899990081787, 0.796161949634552, 0.8023525476455688, 0.7956680655479431, 0.7938088774681091, 0.7961350679397583, 0.7989593744277954, 0.7959492802619934, 0.7930888533592224, 0.7953541874885559, 0.7942318916320801, 0.7957602739334106, 0.793613076210022, 0.7935414910316467, 0.7935348153114319, 0.7948523163795471, 0.7943196892738342, 0.7933995127677917, 0.7942845225334167, 0.7932013869285583, 0.795397937297821, 0.7943454384803772, 0.7938722968101501, 0.7942334413528442, 0.7938726544380188, 0.794576108455658, 0.7934432029724121, 0.7931607961654663, 0.7931248545646667, 0.7944796085357666, 0.7945371866226196, 0.7935035228729248, 0.7958583831787109, 0.7938826084136963, 0.793319821357727, 0.7930265665054321, 0.7937620282173157, 0.7931857705116272, 0.792940616607666, 0.7940697073936462, 0.7936347126960754, 0.7936342358589172, 0.7928628921508789, 0.7935700416564941, 0.7926568984985352, 0.7935792207717896, 0.7934043407440186, 0.7939911484718323, 0.7932226657867432, 0.7936283349990845, 0.7929121851921082, 0.7926371693611145, 0.7934821248054504, 0.793359100818634, 0.7928577661514282, 0.7925106883049011, 0.7926624417304993, 0.7931554317474365, 0.8017225861549377, 0.792590856552124, 0.793057382106781]\n"
     ]
    },
    {
     "name": "stderr",
     "output_type": "stream",
     "text": [
      " 90%|█████████ | 90/100 [35:53<03:56, 23.65s/it]"
     ]
    },
    {
     "name": "stdout",
     "output_type": "stream",
     "text": [
      "[1.7546837329864502, 1.5517641305923462, 1.1961331367492676, 1.253907322883606, 0.9549305438995361, 0.8409180641174316, 0.9344982504844666, 1.2062411308288574, 0.9092323780059814, 0.8683468103408813, 0.8000071048736572, 0.8883180022239685, 0.8412086367607117, 0.7984576225280762, 0.8122421503067017, 0.8028316497802734, 0.7998448610305786, 0.7978290915489197, 0.8049805760383606, 0.8091869354248047, 0.7977853417396545, 0.7969744205474854, 0.796508252620697, 0.7954268455505371, 0.8045516014099121, 0.8010838627815247, 0.7954719662666321, 0.7953111529350281, 0.8017899990081787, 0.796161949634552, 0.8023525476455688, 0.7956680655479431, 0.7938088774681091, 0.7961350679397583, 0.7989593744277954, 0.7959492802619934, 0.7930888533592224, 0.7953541874885559, 0.7942318916320801, 0.7957602739334106, 0.793613076210022, 0.7935414910316467, 0.7935348153114319, 0.7948523163795471, 0.7943196892738342, 0.7933995127677917, 0.7942845225334167, 0.7932013869285583, 0.795397937297821, 0.7943454384803772, 0.7938722968101501, 0.7942334413528442, 0.7938726544380188, 0.794576108455658, 0.7934432029724121, 0.7931607961654663, 0.7931248545646667, 0.7944796085357666, 0.7945371866226196, 0.7935035228729248, 0.7958583831787109, 0.7938826084136963, 0.793319821357727, 0.7930265665054321, 0.7937620282173157, 0.7931857705116272, 0.792940616607666, 0.7940697073936462, 0.7936347126960754, 0.7936342358589172, 0.7928628921508789, 0.7935700416564941, 0.7926568984985352, 0.7935792207717896, 0.7934043407440186, 0.7939911484718323, 0.7932226657867432, 0.7936283349990845, 0.7929121851921082, 0.7926371693611145, 0.7934821248054504, 0.793359100818634, 0.7928577661514282, 0.7925106883049011, 0.7926624417304993, 0.7931554317474365, 0.8017225861549377, 0.792590856552124, 0.793057382106781, 0.7928793430328369]\n"
     ]
    },
    {
     "name": "stderr",
     "output_type": "stream",
     "text": [
      " 91%|█████████ | 91/100 [36:17<03:32, 23.64s/it]"
     ]
    },
    {
     "name": "stdout",
     "output_type": "stream",
     "text": [
      "[1.7546837329864502, 1.5517641305923462, 1.1961331367492676, 1.253907322883606, 0.9549305438995361, 0.8409180641174316, 0.9344982504844666, 1.2062411308288574, 0.9092323780059814, 0.8683468103408813, 0.8000071048736572, 0.8883180022239685, 0.8412086367607117, 0.7984576225280762, 0.8122421503067017, 0.8028316497802734, 0.7998448610305786, 0.7978290915489197, 0.8049805760383606, 0.8091869354248047, 0.7977853417396545, 0.7969744205474854, 0.796508252620697, 0.7954268455505371, 0.8045516014099121, 0.8010838627815247, 0.7954719662666321, 0.7953111529350281, 0.8017899990081787, 0.796161949634552, 0.8023525476455688, 0.7956680655479431, 0.7938088774681091, 0.7961350679397583, 0.7989593744277954, 0.7959492802619934, 0.7930888533592224, 0.7953541874885559, 0.7942318916320801, 0.7957602739334106, 0.793613076210022, 0.7935414910316467, 0.7935348153114319, 0.7948523163795471, 0.7943196892738342, 0.7933995127677917, 0.7942845225334167, 0.7932013869285583, 0.795397937297821, 0.7943454384803772, 0.7938722968101501, 0.7942334413528442, 0.7938726544380188, 0.794576108455658, 0.7934432029724121, 0.7931607961654663, 0.7931248545646667, 0.7944796085357666, 0.7945371866226196, 0.7935035228729248, 0.7958583831787109, 0.7938826084136963, 0.793319821357727, 0.7930265665054321, 0.7937620282173157, 0.7931857705116272, 0.792940616607666, 0.7940697073936462, 0.7936347126960754, 0.7936342358589172, 0.7928628921508789, 0.7935700416564941, 0.7926568984985352, 0.7935792207717896, 0.7934043407440186, 0.7939911484718323, 0.7932226657867432, 0.7936283349990845, 0.7929121851921082, 0.7926371693611145, 0.7934821248054504, 0.793359100818634, 0.7928577661514282, 0.7925106883049011, 0.7926624417304993, 0.7931554317474365, 0.8017225861549377, 0.792590856552124, 0.793057382106781, 0.7928793430328369, 0.7932071089744568]\n"
     ]
    },
    {
     "name": "stderr",
     "output_type": "stream",
     "text": [
      " 92%|█████████▏| 92/100 [36:41<03:09, 23.67s/it]"
     ]
    },
    {
     "name": "stdout",
     "output_type": "stream",
     "text": [
      "[1.7546837329864502, 1.5517641305923462, 1.1961331367492676, 1.253907322883606, 0.9549305438995361, 0.8409180641174316, 0.9344982504844666, 1.2062411308288574, 0.9092323780059814, 0.8683468103408813, 0.8000071048736572, 0.8883180022239685, 0.8412086367607117, 0.7984576225280762, 0.8122421503067017, 0.8028316497802734, 0.7998448610305786, 0.7978290915489197, 0.8049805760383606, 0.8091869354248047, 0.7977853417396545, 0.7969744205474854, 0.796508252620697, 0.7954268455505371, 0.8045516014099121, 0.8010838627815247, 0.7954719662666321, 0.7953111529350281, 0.8017899990081787, 0.796161949634552, 0.8023525476455688, 0.7956680655479431, 0.7938088774681091, 0.7961350679397583, 0.7989593744277954, 0.7959492802619934, 0.7930888533592224, 0.7953541874885559, 0.7942318916320801, 0.7957602739334106, 0.793613076210022, 0.7935414910316467, 0.7935348153114319, 0.7948523163795471, 0.7943196892738342, 0.7933995127677917, 0.7942845225334167, 0.7932013869285583, 0.795397937297821, 0.7943454384803772, 0.7938722968101501, 0.7942334413528442, 0.7938726544380188, 0.794576108455658, 0.7934432029724121, 0.7931607961654663, 0.7931248545646667, 0.7944796085357666, 0.7945371866226196, 0.7935035228729248, 0.7958583831787109, 0.7938826084136963, 0.793319821357727, 0.7930265665054321, 0.7937620282173157, 0.7931857705116272, 0.792940616607666, 0.7940697073936462, 0.7936347126960754, 0.7936342358589172, 0.7928628921508789, 0.7935700416564941, 0.7926568984985352, 0.7935792207717896, 0.7934043407440186, 0.7939911484718323, 0.7932226657867432, 0.7936283349990845, 0.7929121851921082, 0.7926371693611145, 0.7934821248054504, 0.793359100818634, 0.7928577661514282, 0.7925106883049011, 0.7926624417304993, 0.7931554317474365, 0.8017225861549377, 0.792590856552124, 0.793057382106781, 0.7928793430328369, 0.7932071089744568, 0.7933395504951477]\n"
     ]
    },
    {
     "name": "stderr",
     "output_type": "stream",
     "text": [
      " 93%|█████████▎| 93/100 [37:04<02:45, 23.62s/it]"
     ]
    },
    {
     "name": "stdout",
     "output_type": "stream",
     "text": [
      "[1.7546837329864502, 1.5517641305923462, 1.1961331367492676, 1.253907322883606, 0.9549305438995361, 0.8409180641174316, 0.9344982504844666, 1.2062411308288574, 0.9092323780059814, 0.8683468103408813, 0.8000071048736572, 0.8883180022239685, 0.8412086367607117, 0.7984576225280762, 0.8122421503067017, 0.8028316497802734, 0.7998448610305786, 0.7978290915489197, 0.8049805760383606, 0.8091869354248047, 0.7977853417396545, 0.7969744205474854, 0.796508252620697, 0.7954268455505371, 0.8045516014099121, 0.8010838627815247, 0.7954719662666321, 0.7953111529350281, 0.8017899990081787, 0.796161949634552, 0.8023525476455688, 0.7956680655479431, 0.7938088774681091, 0.7961350679397583, 0.7989593744277954, 0.7959492802619934, 0.7930888533592224, 0.7953541874885559, 0.7942318916320801, 0.7957602739334106, 0.793613076210022, 0.7935414910316467, 0.7935348153114319, 0.7948523163795471, 0.7943196892738342, 0.7933995127677917, 0.7942845225334167, 0.7932013869285583, 0.795397937297821, 0.7943454384803772, 0.7938722968101501, 0.7942334413528442, 0.7938726544380188, 0.794576108455658, 0.7934432029724121, 0.7931607961654663, 0.7931248545646667, 0.7944796085357666, 0.7945371866226196, 0.7935035228729248, 0.7958583831787109, 0.7938826084136963, 0.793319821357727, 0.7930265665054321, 0.7937620282173157, 0.7931857705116272, 0.792940616607666, 0.7940697073936462, 0.7936347126960754, 0.7936342358589172, 0.7928628921508789, 0.7935700416564941, 0.7926568984985352, 0.7935792207717896, 0.7934043407440186, 0.7939911484718323, 0.7932226657867432, 0.7936283349990845, 0.7929121851921082, 0.7926371693611145, 0.7934821248054504, 0.793359100818634, 0.7928577661514282, 0.7925106883049011, 0.7926624417304993, 0.7931554317474365, 0.8017225861549377, 0.792590856552124, 0.793057382106781, 0.7928793430328369, 0.7932071089744568, 0.7933395504951477, 0.7926478981971741]\n"
     ]
    },
    {
     "name": "stderr",
     "output_type": "stream",
     "text": [
      " 94%|█████████▍| 94/100 [37:28<02:21, 23.60s/it]"
     ]
    },
    {
     "name": "stdout",
     "output_type": "stream",
     "text": [
      "[1.7546837329864502, 1.5517641305923462, 1.1961331367492676, 1.253907322883606, 0.9549305438995361, 0.8409180641174316, 0.9344982504844666, 1.2062411308288574, 0.9092323780059814, 0.8683468103408813, 0.8000071048736572, 0.8883180022239685, 0.8412086367607117, 0.7984576225280762, 0.8122421503067017, 0.8028316497802734, 0.7998448610305786, 0.7978290915489197, 0.8049805760383606, 0.8091869354248047, 0.7977853417396545, 0.7969744205474854, 0.796508252620697, 0.7954268455505371, 0.8045516014099121, 0.8010838627815247, 0.7954719662666321, 0.7953111529350281, 0.8017899990081787, 0.796161949634552, 0.8023525476455688, 0.7956680655479431, 0.7938088774681091, 0.7961350679397583, 0.7989593744277954, 0.7959492802619934, 0.7930888533592224, 0.7953541874885559, 0.7942318916320801, 0.7957602739334106, 0.793613076210022, 0.7935414910316467, 0.7935348153114319, 0.7948523163795471, 0.7943196892738342, 0.7933995127677917, 0.7942845225334167, 0.7932013869285583, 0.795397937297821, 0.7943454384803772, 0.7938722968101501, 0.7942334413528442, 0.7938726544380188, 0.794576108455658, 0.7934432029724121, 0.7931607961654663, 0.7931248545646667, 0.7944796085357666, 0.7945371866226196, 0.7935035228729248, 0.7958583831787109, 0.7938826084136963, 0.793319821357727, 0.7930265665054321, 0.7937620282173157, 0.7931857705116272, 0.792940616607666, 0.7940697073936462, 0.7936347126960754, 0.7936342358589172, 0.7928628921508789, 0.7935700416564941, 0.7926568984985352, 0.7935792207717896, 0.7934043407440186, 0.7939911484718323, 0.7932226657867432, 0.7936283349990845, 0.7929121851921082, 0.7926371693611145, 0.7934821248054504, 0.793359100818634, 0.7928577661514282, 0.7925106883049011, 0.7926624417304993, 0.7931554317474365, 0.8017225861549377, 0.792590856552124, 0.793057382106781, 0.7928793430328369, 0.7932071089744568, 0.7933395504951477, 0.7926478981971741, 0.792656660079956]\n"
     ]
    },
    {
     "name": "stderr",
     "output_type": "stream",
     "text": [
      " 95%|█████████▌| 95/100 [37:51<01:58, 23.64s/it]"
     ]
    },
    {
     "name": "stdout",
     "output_type": "stream",
     "text": [
      "[1.7546837329864502, 1.5517641305923462, 1.1961331367492676, 1.253907322883606, 0.9549305438995361, 0.8409180641174316, 0.9344982504844666, 1.2062411308288574, 0.9092323780059814, 0.8683468103408813, 0.8000071048736572, 0.8883180022239685, 0.8412086367607117, 0.7984576225280762, 0.8122421503067017, 0.8028316497802734, 0.7998448610305786, 0.7978290915489197, 0.8049805760383606, 0.8091869354248047, 0.7977853417396545, 0.7969744205474854, 0.796508252620697, 0.7954268455505371, 0.8045516014099121, 0.8010838627815247, 0.7954719662666321, 0.7953111529350281, 0.8017899990081787, 0.796161949634552, 0.8023525476455688, 0.7956680655479431, 0.7938088774681091, 0.7961350679397583, 0.7989593744277954, 0.7959492802619934, 0.7930888533592224, 0.7953541874885559, 0.7942318916320801, 0.7957602739334106, 0.793613076210022, 0.7935414910316467, 0.7935348153114319, 0.7948523163795471, 0.7943196892738342, 0.7933995127677917, 0.7942845225334167, 0.7932013869285583, 0.795397937297821, 0.7943454384803772, 0.7938722968101501, 0.7942334413528442, 0.7938726544380188, 0.794576108455658, 0.7934432029724121, 0.7931607961654663, 0.7931248545646667, 0.7944796085357666, 0.7945371866226196, 0.7935035228729248, 0.7958583831787109, 0.7938826084136963, 0.793319821357727, 0.7930265665054321, 0.7937620282173157, 0.7931857705116272, 0.792940616607666, 0.7940697073936462, 0.7936347126960754, 0.7936342358589172, 0.7928628921508789, 0.7935700416564941, 0.7926568984985352, 0.7935792207717896, 0.7934043407440186, 0.7939911484718323, 0.7932226657867432, 0.7936283349990845, 0.7929121851921082, 0.7926371693611145, 0.7934821248054504, 0.793359100818634, 0.7928577661514282, 0.7925106883049011, 0.7926624417304993, 0.7931554317474365, 0.8017225861549377, 0.792590856552124, 0.793057382106781, 0.7928793430328369, 0.7932071089744568, 0.7933395504951477, 0.7926478981971741, 0.792656660079956, 0.7934651970863342]\n"
     ]
    },
    {
     "name": "stderr",
     "output_type": "stream",
     "text": [
      " 96%|█████████▌| 96/100 [38:15<01:34, 23.60s/it]"
     ]
    },
    {
     "name": "stdout",
     "output_type": "stream",
     "text": [
      "[1.7546837329864502, 1.5517641305923462, 1.1961331367492676, 1.253907322883606, 0.9549305438995361, 0.8409180641174316, 0.9344982504844666, 1.2062411308288574, 0.9092323780059814, 0.8683468103408813, 0.8000071048736572, 0.8883180022239685, 0.8412086367607117, 0.7984576225280762, 0.8122421503067017, 0.8028316497802734, 0.7998448610305786, 0.7978290915489197, 0.8049805760383606, 0.8091869354248047, 0.7977853417396545, 0.7969744205474854, 0.796508252620697, 0.7954268455505371, 0.8045516014099121, 0.8010838627815247, 0.7954719662666321, 0.7953111529350281, 0.8017899990081787, 0.796161949634552, 0.8023525476455688, 0.7956680655479431, 0.7938088774681091, 0.7961350679397583, 0.7989593744277954, 0.7959492802619934, 0.7930888533592224, 0.7953541874885559, 0.7942318916320801, 0.7957602739334106, 0.793613076210022, 0.7935414910316467, 0.7935348153114319, 0.7948523163795471, 0.7943196892738342, 0.7933995127677917, 0.7942845225334167, 0.7932013869285583, 0.795397937297821, 0.7943454384803772, 0.7938722968101501, 0.7942334413528442, 0.7938726544380188, 0.794576108455658, 0.7934432029724121, 0.7931607961654663, 0.7931248545646667, 0.7944796085357666, 0.7945371866226196, 0.7935035228729248, 0.7958583831787109, 0.7938826084136963, 0.793319821357727, 0.7930265665054321, 0.7937620282173157, 0.7931857705116272, 0.792940616607666, 0.7940697073936462, 0.7936347126960754, 0.7936342358589172, 0.7928628921508789, 0.7935700416564941, 0.7926568984985352, 0.7935792207717896, 0.7934043407440186, 0.7939911484718323, 0.7932226657867432, 0.7936283349990845, 0.7929121851921082, 0.7926371693611145, 0.7934821248054504, 0.793359100818634, 0.7928577661514282, 0.7925106883049011, 0.7926624417304993, 0.7931554317474365, 0.8017225861549377, 0.792590856552124, 0.793057382106781, 0.7928793430328369, 0.7932071089744568, 0.7933395504951477, 0.7926478981971741, 0.792656660079956, 0.7934651970863342, 0.7945364117622375]\n"
     ]
    },
    {
     "name": "stderr",
     "output_type": "stream",
     "text": [
      " 97%|█████████▋| 97/100 [38:38<01:10, 23.59s/it]"
     ]
    },
    {
     "name": "stdout",
     "output_type": "stream",
     "text": [
      "[1.7546837329864502, 1.5517641305923462, 1.1961331367492676, 1.253907322883606, 0.9549305438995361, 0.8409180641174316, 0.9344982504844666, 1.2062411308288574, 0.9092323780059814, 0.8683468103408813, 0.8000071048736572, 0.8883180022239685, 0.8412086367607117, 0.7984576225280762, 0.8122421503067017, 0.8028316497802734, 0.7998448610305786, 0.7978290915489197, 0.8049805760383606, 0.8091869354248047, 0.7977853417396545, 0.7969744205474854, 0.796508252620697, 0.7954268455505371, 0.8045516014099121, 0.8010838627815247, 0.7954719662666321, 0.7953111529350281, 0.8017899990081787, 0.796161949634552, 0.8023525476455688, 0.7956680655479431, 0.7938088774681091, 0.7961350679397583, 0.7989593744277954, 0.7959492802619934, 0.7930888533592224, 0.7953541874885559, 0.7942318916320801, 0.7957602739334106, 0.793613076210022, 0.7935414910316467, 0.7935348153114319, 0.7948523163795471, 0.7943196892738342, 0.7933995127677917, 0.7942845225334167, 0.7932013869285583, 0.795397937297821, 0.7943454384803772, 0.7938722968101501, 0.7942334413528442, 0.7938726544380188, 0.794576108455658, 0.7934432029724121, 0.7931607961654663, 0.7931248545646667, 0.7944796085357666, 0.7945371866226196, 0.7935035228729248, 0.7958583831787109, 0.7938826084136963, 0.793319821357727, 0.7930265665054321, 0.7937620282173157, 0.7931857705116272, 0.792940616607666, 0.7940697073936462, 0.7936347126960754, 0.7936342358589172, 0.7928628921508789, 0.7935700416564941, 0.7926568984985352, 0.7935792207717896, 0.7934043407440186, 0.7939911484718323, 0.7932226657867432, 0.7936283349990845, 0.7929121851921082, 0.7926371693611145, 0.7934821248054504, 0.793359100818634, 0.7928577661514282, 0.7925106883049011, 0.7926624417304993, 0.7931554317474365, 0.8017225861549377, 0.792590856552124, 0.793057382106781, 0.7928793430328369, 0.7932071089744568, 0.7933395504951477, 0.7926478981971741, 0.792656660079956, 0.7934651970863342, 0.7945364117622375, 0.7925641536712646]\n"
     ]
    },
    {
     "name": "stderr",
     "output_type": "stream",
     "text": [
      " 98%|█████████▊| 98/100 [39:02<00:47, 23.50s/it]"
     ]
    },
    {
     "name": "stdout",
     "output_type": "stream",
     "text": [
      "[1.7546837329864502, 1.5517641305923462, 1.1961331367492676, 1.253907322883606, 0.9549305438995361, 0.8409180641174316, 0.9344982504844666, 1.2062411308288574, 0.9092323780059814, 0.8683468103408813, 0.8000071048736572, 0.8883180022239685, 0.8412086367607117, 0.7984576225280762, 0.8122421503067017, 0.8028316497802734, 0.7998448610305786, 0.7978290915489197, 0.8049805760383606, 0.8091869354248047, 0.7977853417396545, 0.7969744205474854, 0.796508252620697, 0.7954268455505371, 0.8045516014099121, 0.8010838627815247, 0.7954719662666321, 0.7953111529350281, 0.8017899990081787, 0.796161949634552, 0.8023525476455688, 0.7956680655479431, 0.7938088774681091, 0.7961350679397583, 0.7989593744277954, 0.7959492802619934, 0.7930888533592224, 0.7953541874885559, 0.7942318916320801, 0.7957602739334106, 0.793613076210022, 0.7935414910316467, 0.7935348153114319, 0.7948523163795471, 0.7943196892738342, 0.7933995127677917, 0.7942845225334167, 0.7932013869285583, 0.795397937297821, 0.7943454384803772, 0.7938722968101501, 0.7942334413528442, 0.7938726544380188, 0.794576108455658, 0.7934432029724121, 0.7931607961654663, 0.7931248545646667, 0.7944796085357666, 0.7945371866226196, 0.7935035228729248, 0.7958583831787109, 0.7938826084136963, 0.793319821357727, 0.7930265665054321, 0.7937620282173157, 0.7931857705116272, 0.792940616607666, 0.7940697073936462, 0.7936347126960754, 0.7936342358589172, 0.7928628921508789, 0.7935700416564941, 0.7926568984985352, 0.7935792207717896, 0.7934043407440186, 0.7939911484718323, 0.7932226657867432, 0.7936283349990845, 0.7929121851921082, 0.7926371693611145, 0.7934821248054504, 0.793359100818634, 0.7928577661514282, 0.7925106883049011, 0.7926624417304993, 0.7931554317474365, 0.8017225861549377, 0.792590856552124, 0.793057382106781, 0.7928793430328369, 0.7932071089744568, 0.7933395504951477, 0.7926478981971741, 0.792656660079956, 0.7934651970863342, 0.7945364117622375, 0.7925641536712646, 0.7930286526679993]\n"
     ]
    },
    {
     "name": "stderr",
     "output_type": "stream",
     "text": [
      " 99%|█████████▉| 99/100 [39:25<00:23, 23.54s/it]"
     ]
    },
    {
     "name": "stdout",
     "output_type": "stream",
     "text": [
      "[1.7546837329864502, 1.5517641305923462, 1.1961331367492676, 1.253907322883606, 0.9549305438995361, 0.8409180641174316, 0.9344982504844666, 1.2062411308288574, 0.9092323780059814, 0.8683468103408813, 0.8000071048736572, 0.8883180022239685, 0.8412086367607117, 0.7984576225280762, 0.8122421503067017, 0.8028316497802734, 0.7998448610305786, 0.7978290915489197, 0.8049805760383606, 0.8091869354248047, 0.7977853417396545, 0.7969744205474854, 0.796508252620697, 0.7954268455505371, 0.8045516014099121, 0.8010838627815247, 0.7954719662666321, 0.7953111529350281, 0.8017899990081787, 0.796161949634552, 0.8023525476455688, 0.7956680655479431, 0.7938088774681091, 0.7961350679397583, 0.7989593744277954, 0.7959492802619934, 0.7930888533592224, 0.7953541874885559, 0.7942318916320801, 0.7957602739334106, 0.793613076210022, 0.7935414910316467, 0.7935348153114319, 0.7948523163795471, 0.7943196892738342, 0.7933995127677917, 0.7942845225334167, 0.7932013869285583, 0.795397937297821, 0.7943454384803772, 0.7938722968101501, 0.7942334413528442, 0.7938726544380188, 0.794576108455658, 0.7934432029724121, 0.7931607961654663, 0.7931248545646667, 0.7944796085357666, 0.7945371866226196, 0.7935035228729248, 0.7958583831787109, 0.7938826084136963, 0.793319821357727, 0.7930265665054321, 0.7937620282173157, 0.7931857705116272, 0.792940616607666, 0.7940697073936462, 0.7936347126960754, 0.7936342358589172, 0.7928628921508789, 0.7935700416564941, 0.7926568984985352, 0.7935792207717896, 0.7934043407440186, 0.7939911484718323, 0.7932226657867432, 0.7936283349990845, 0.7929121851921082, 0.7926371693611145, 0.7934821248054504, 0.793359100818634, 0.7928577661514282, 0.7925106883049011, 0.7926624417304993, 0.7931554317474365, 0.8017225861549377, 0.792590856552124, 0.793057382106781, 0.7928793430328369, 0.7932071089744568, 0.7933395504951477, 0.7926478981971741, 0.792656660079956, 0.7934651970863342, 0.7945364117622375, 0.7925641536712646, 0.7930286526679993, 0.7931510210037231]\n"
     ]
    },
    {
     "name": "stderr",
     "output_type": "stream",
     "text": [
      "100%|██████████| 100/100 [39:49<00:00, 23.89s/it]"
     ]
    },
    {
     "name": "stdout",
     "output_type": "stream",
     "text": [
      "[1.7546837329864502, 1.5517641305923462, 1.1961331367492676, 1.253907322883606, 0.9549305438995361, 0.8409180641174316, 0.9344982504844666, 1.2062411308288574, 0.9092323780059814, 0.8683468103408813, 0.8000071048736572, 0.8883180022239685, 0.8412086367607117, 0.7984576225280762, 0.8122421503067017, 0.8028316497802734, 0.7998448610305786, 0.7978290915489197, 0.8049805760383606, 0.8091869354248047, 0.7977853417396545, 0.7969744205474854, 0.796508252620697, 0.7954268455505371, 0.8045516014099121, 0.8010838627815247, 0.7954719662666321, 0.7953111529350281, 0.8017899990081787, 0.796161949634552, 0.8023525476455688, 0.7956680655479431, 0.7938088774681091, 0.7961350679397583, 0.7989593744277954, 0.7959492802619934, 0.7930888533592224, 0.7953541874885559, 0.7942318916320801, 0.7957602739334106, 0.793613076210022, 0.7935414910316467, 0.7935348153114319, 0.7948523163795471, 0.7943196892738342, 0.7933995127677917, 0.7942845225334167, 0.7932013869285583, 0.795397937297821, 0.7943454384803772, 0.7938722968101501, 0.7942334413528442, 0.7938726544380188, 0.794576108455658, 0.7934432029724121, 0.7931607961654663, 0.7931248545646667, 0.7944796085357666, 0.7945371866226196, 0.7935035228729248, 0.7958583831787109, 0.7938826084136963, 0.793319821357727, 0.7930265665054321, 0.7937620282173157, 0.7931857705116272, 0.792940616607666, 0.7940697073936462, 0.7936347126960754, 0.7936342358589172, 0.7928628921508789, 0.7935700416564941, 0.7926568984985352, 0.7935792207717896, 0.7934043407440186, 0.7939911484718323, 0.7932226657867432, 0.7936283349990845, 0.7929121851921082, 0.7926371693611145, 0.7934821248054504, 0.793359100818634, 0.7928577661514282, 0.7925106883049011, 0.7926624417304993, 0.7931554317474365, 0.8017225861549377, 0.792590856552124, 0.793057382106781, 0.7928793430328369, 0.7932071089744568, 0.7933395504951477, 0.7926478981971741, 0.792656660079956, 0.7934651970863342, 0.7945364117622375, 0.7925641536712646, 0.7930286526679993, 0.7931510210037231, 0.7934347987174988]\n"
     ]
    },
    {
     "name": "stderr",
     "output_type": "stream",
     "text": [
      "\n"
     ]
    }
   ],
   "source": [
    "losses = GAT_contrast_train(gat_contrast, mlp_contrast, contrastive_dataset, 100, scRNA_data.shape[0])"
   ]
  },
  {
   "cell_type": "code",
   "execution_count": 24,
   "id": "b44be1b5",
   "metadata": {},
   "outputs": [
    {
     "data": {
      "image/png": "[encoded data removed]",
      "text/plain": [
       "<Figure size 640x480 with 1 Axes>"
      ]
     },
     "metadata": {},
     "output_type": "display_data"
    }
   ],
   "source": [
    "plt.plot([i for i in range(len(losses))], losses)\n",
    "plt.xlabel('Epochs')\n",
    "plt.ylabel('Contrastive Loss')\n",
    "plt.show()"
   ]
  },
  {
   "cell_type": "code",
   "execution_count": 28,
   "id": "aed1bc60",
   "metadata": {},
   "outputs": [],
   "source": [
    "from sklearn.ensemble import RandomForestClassifier\n",
    "from sklearn.metrics import accuracy_score, confusion_matrix, precision_score, recall_score, ConfusionMatrixDisplay\n",
    "from sklearn.model_selection import RandomizedSearchCV, train_test_split"
   ]
  },
  {
   "cell_type": "code",
   "execution_count": 29,
   "id": "40db820b-cb67-4223-8edf-b959753ed9e8",
   "metadata": {},
   "outputs": [],
   "source": [
    "def RFC_test(model, dataset):\n",
    "    model.eval()\n",
    "    \n",
    "    e_nodes = dataset.get_e_nodes()\n",
    "    m_nodes = dataset.get_m_nodes()\n",
    "    edge_index = dataset.get_edge_index()\n",
    "\n",
    "    x = e_nodes + m_nodes\n",
    "    x = [model(i, edge_index).reshape(-1).detach().cpu().numpy() for i in x]\n",
    "    y = [0 for _ in range(len(e_nodes))] + [1 for _ in range(len(m_nodes))]\n",
    "\n",
    "    x_train, x_test, y_train, y_test = train_test_split(x, y, test_size=0.2)\n",
    " \n",
    "    rf = RandomForestClassifier()\n",
    "    rf.fit(x_train, y_train)\n",
    "    y_pred = rf.predict(x_test)\n",
    "\n",
    "    accuracy = accuracy_score(y_test, y_pred)\n",
    "    print(accuracy)"
   ]
  },
  {
   "cell_type": "code",
   "execution_count": 30,
   "id": "c2e88588-9f2d-43a3-84f0-0b9e985cdabc",
   "metadata": {},
   "outputs": [
    {
     "name": "stdout",
     "output_type": "stream",
     "text": [
      "1.0\n"
     ]
    }
   ],
   "source": [
    "RFC_test(gat_contrast, contrastive_dataset)"
   ]
  },
  {
   "cell_type": "code",
   "execution_count": null,
   "id": "749252f8-498c-408a-ad2d-0670eb1dfb4f",
   "metadata": {},
   "outputs": [],
   "source": []
  }
 ],
 "metadata": {
  "kernelspec": {
   "display_name": "Python 3 (ipykernel)",
   "language": "python",
   "name": "python3"
  },
  "language_info": {
   "codemirror_mode": {
    "name": "ipython",
    "version": 3
   },
   "file_extension": ".py",
   "mimetype": "text/x-python",
   "name": "python",
   "nbconvert_exporter": "python",
   "pygments_lexer": "ipython3",
   "version": "3.10.12"
  }
 },
 "nbformat": 4,
 "nbformat_minor": 5
}
